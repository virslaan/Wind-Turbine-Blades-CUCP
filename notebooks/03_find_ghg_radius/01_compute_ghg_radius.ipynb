{
 "cells": [
  {
   "cell_type": "code",
   "execution_count": null,
   "metadata": {
    "colab": {
     "base_uri": "https://localhost:8080/"
    },
    "id": "bnnQ0Bqw1lS-",
    "outputId": "61d8d4e8-1e29-42c1-cd4f-4bcc0910703b"
   },
   "outputs": [],
   "source": [
    "import pandas as pd\n",
    "import plotly.graph_objects as go\n",
    "import matplotlib.pyplot as plt\n",
    "\n",
    "import requests\n",
    "import json\n",
    "from datetime import timedelta\n",
    "\n",
    "!pip install utm\n",
    "import utm\n"
   ]
  },
  {
   "cell_type": "markdown",
   "metadata": {
    "id": "oWOmgKAE2Hqf"
   },
   "source": [
    "# Read and Preprocess Landfill Data"
   ]
  },
  {
   "cell_type": "code",
   "execution_count": null,
   "metadata": {
    "colab": {
     "base_uri": "https://localhost:8080/",
     "height": 112
    },
    "id": "4xeODMva2Ags",
    "outputId": "3c6b3908-68e4-457a-d197-6c1ac803fe80"
   },
   "outputs": [],
   "source": [
    "READ_PATH = \"../../data/raw/landfill_facilities.csv\"\n",
    "use_cols = ['Facility Name', 'Location Address','City', 'Zip Code', 'County',\n",
    "            'East Coordinate', 'North Coordinate']\n",
    "landfill_df = pd.read_csv(READ_PATH, usecols=use_cols)\n",
    "landfill_df.head(2)"
   ]
  },
  {
   "cell_type": "code",
   "execution_count": null,
   "metadata": {
    "colab": {
     "base_uri": "https://localhost:8080/",
     "height": 216
    },
    "id": "0-dD943r_6gJ",
    "outputId": "bd5407e1-b4f0-4e2a-9acf-b1cb984e907d"
   },
   "outputs": [],
   "source": [
    "# there is one facility with off coordinates\n",
    "# and the zip code does not match with google map zip code\n",
    "# so will drop this facility\n",
    "landfill_df = landfill_df[landfill_df['East Coordinate']!=0]\n",
    "\n",
    "# convert East and North coordinates (UTM) to lat lon\n",
    "landfill_df['lat'], landfill_df['lon'] = utm.to_latlon(landfill_df['East Coordinate'], landfill_df['North Coordinate'], 18, 'U')\n",
    "landfill_df.head(2)"
   ]
  },
  {
   "cell_type": "code",
   "execution_count": null,
   "metadata": {
    "colab": {
     "base_uri": "https://localhost:8080/",
     "height": 236
    },
    "id": "M1aIYYCUWFh4",
    "outputId": "83c978a6-2a9f-4321-d356-8f6b401883e5"
   },
   "outputs": [],
   "source": [
    "# visualize all landfills on a map \n",
    "fig = go.Figure(data=go.Scattergeo(\n",
    "    lon = landfill_df['lon'],\n",
    "    lat = landfill_df['lat'],\n",
    "    mode = 'markers'\n",
    "))\n",
    "\n",
    "fig.update_layout(\n",
    "    title = 'New York Landfill Locations',\n",
    "    geo_scope = 'usa'\n",
    ")\n",
    "\n",
    "fig.update_geos(\n",
    "    fitbounds='locations'\n",
    ")\n",
    "fig.show()\n"
   ]
  },
  {
   "cell_type": "markdown",
   "metadata": {
    "id": "090AfVjmXKYi"
   },
   "source": [
    "# Read and Preprocess Windfarm Data"
   ]
  },
  {
   "cell_type": "code",
   "execution_count": null,
   "metadata": {
    "colab": {
     "base_uri": "https://localhost:8080/",
     "height": 237
    },
    "id": "ox03_6n08PcK",
    "outputId": "1e35b02d-42fd-4a0b-d90c-ab24852d669b"
   },
   "outputs": [],
   "source": [
    "# read uswtdb windfarm dataset \n",
    "READ_PATH_FARMS = \"../../data/raw/usgs/usgs_data.csv\"\n",
    "useful_columns = ['case_id','t_state','p_name','p_tnum','xlong','ylat']\n",
    "\n",
    "uswtdb_farm_df = pd.read_csv(READ_PATH_FARMS, encoding='latin1', usecols=useful_columns)\n",
    "uswtdb_farm_df = uswtdb_farm_df[uswtdb_farm_df.t_state=='NY']\n",
    "uswtdb_farm_df.head()\n",
    "\n",
    "# for the same project combine long and lat by averaging\n",
    "uswtdb_farm_df.drop(['case_id', 't_state', 'p_tnum'], axis=1, inplace=True)\n",
    "uswtdb_farm_df = uswtdb_farm_df.groupby(['p_name']).mean()\n",
    "uswtdb_farm_df.head()"
   ]
  },
  {
   "cell_type": "code",
   "execution_count": null,
   "metadata": {
    "colab": {
     "base_uri": "https://localhost:8080/",
     "height": 237
    },
    "id": "KoqDe0F__4GN",
    "outputId": "e9a33a5c-06ac-42d5-913e-1c53ed85ed29"
   },
   "outputs": [],
   "source": [
    "# read nyserda windfarm dataset \n",
    "READ_PATH_FARMS_NYSERDA = \"../../data/raw/Large-scale_Renewable_Projects_Reported_by_NYSERDA__Beginning_2004_Wind.xlsx\"\n",
    "use_cols = ['Project Name', 'Project Status', 'Renewable Technology', 'Georeference']\n",
    "nyserda_farm_df = pd.read_excel(READ_PATH_FARMS_NYSERDA, usecols=use_cols)\n",
    "\n",
    "# only keep under development windfarm entries\n",
    "nyserda_farm_df = nyserda_farm_df[nyserda_farm_df['Project Status']=='Under Development']\n",
    "renewable_tech_lst = ['Land Based Wind', 'Offshore Wind']\n",
    "nyserda_farm_df = nyserda_farm_df[nyserda_farm_df['Renewable Technology'].isin(renewable_tech_lst)]\n",
    "nyserda_farm_df.drop(['Project Status'], axis=1, inplace=True)\n",
    "nyserda_farm_df.drop(['Renewable Technology'], axis=1, inplace=True)\n",
    "\n",
    "# clean up Georeference col to longitude and latitude cols\n",
    "# reference: Jillia's data cleaning code \n",
    "# https://colab.research.google.com/drive/1matK9Fmje3h0lB1Q67AWF10IH1lUg_4W#scrollTo=bmNgfzB4Yy1u\n",
    "nyserda_farm_df[\"clean_name\"] = nyserda_farm_df[\"Georeference\"].apply(lambda x: str(x).split('(')[1].lstrip().split(')')[0] if \"POINT\" in str(x) else np.NaN)\n",
    "nyserda_farm_df[\"xlong\"] = nyserda_farm_df[\"clean_name\"].apply(lambda x: str(x).split()[0] if \" \" in str(x) else np.NaN).astype(float)\n",
    "nyserda_farm_df[\"ylat\"] = nyserda_farm_df[\"clean_name\"].apply(lambda x: str(x).split()[1] if \" \" in str(x) else np.NaN).astype(float)\n",
    "nyserda_farm_df.drop('Georeference', axis=1, inplace=True)\n",
    "nyserda_farm_df.drop('clean_name', axis=1, inplace=True)\n",
    "\n",
    "# reset index to project name\n",
    "nyserda_farm_df.rename(columns={\"Project Name\": \"p_name\"}, inplace=True)\n",
    "nyserda_farm_df.set_index('p_name', inplace=True)\n",
    "nyserda_farm_df.head()"
   ]
  },
  {
   "cell_type": "code",
   "execution_count": null,
   "metadata": {
    "colab": {
     "base_uri": "https://localhost:8080/",
     "height": 161
    },
    "id": "ud-azUtMX6eQ",
    "outputId": "dea8899d-2078-453c-99e6-78a7a49f4e81"
   },
   "outputs": [],
   "source": [
    "# combine farms in uswtdb and under development farms in NYSERDA\n",
    "farm_df = pd.concat([uswtdb_farm_df, nyserda_farm_df])\n",
    "print(\"There are {} wind farms in New York State\".format(len(farm_df)))\n",
    "farm_df.head(2)"
   ]
  },
  {
   "cell_type": "markdown",
   "metadata": {
    "id": "7outWMpeAgtG"
   },
   "source": [
    "# GHG Radius Modelling\n",
    "Assumptions:\n",
    "* all landfills take in blades (maybe need more detailed look later). It seems like that are a few categories of landfills and some of them might not accept blades"
   ]
  },
  {
   "cell_type": "code",
   "execution_count": null,
   "metadata": {
    "id": "NndUxszfAt2m"
   },
   "outputs": [],
   "source": [
    "def compute_closest_landfill_dist(\n",
    "    farm_lat: float,\n",
    "    farm_lon: float,\n",
    "    landfill_lst: list) -> float:\n",
    "    \"\"\"\n",
    "    compute the distance between a wind farm and its closest landfill\n",
    "    args:\n",
    "        - farm_lat: the latitude of the farm\n",
    "        - farm_lon: the longitude of the farm\n",
    "        - landfill_lst: a list of tuples describing the locations of landfills\n",
    "                        (latitude, longitude)\n",
    "    return:\n",
    "        - distance from the farm to the closest landfill\n",
    "    \"\"\"\n",
    "    min_dist = float('inf')\n",
    "    for landfill in landfill_lst:\n",
    "        landfill_lat, landfill_lon = landfill\n",
    "        # refer the following get distance code to \n",
    "        # 03.1 Modeling: Driving Distance Between Two Points by Sarosh\n",
    "        r = requests.get(f\"\"\"http://router.project-osrm.org/route/v1/car/{farm_lon},{farm_lat};{landfill_lon},{landfill_lat}?overview=false\"\"\")\n",
    "        route_1 = json.loads(r.content)[\"routes\"][0]\n",
    "        # extract distance in meters\n",
    "        distance = route_1['distance']\n",
    "        min_dist = min(min_dist, distance)\n",
    "    return min_dist"
   ]
  },
  {
   "cell_type": "code",
   "execution_count": null,
   "metadata": {
    "id": "8FFmeEakJWx6"
   },
   "outputs": [],
   "source": [
    "# save landfill lat and lon into a list of tuples\n",
    "landfill_lst = list(zip(landfill_df.lat, landfill_df.lon))"
   ]
  },
  {
   "cell_type": "code",
   "execution_count": null,
   "metadata": {
    "id": "cEIX0Jzv5fwZ"
   },
   "outputs": [],
   "source": [
    "# it takes about 70 min to run the cell\n",
    "result_farm_df = farm_df.apply(lambda row: compute_closest_landfill_dist(\n",
    "    row.ylat, row.xlong, landfill_lst), axis=1, result_type='expand')"
   ]
  },
  {
   "cell_type": "code",
   "execution_count": null,
   "metadata": {
    "id": "6aJqTg9eMxiL"
   },
   "outputs": [],
   "source": [
    "# combine locations with radius and output df as csv\n",
    "farm_df['ghg_radius_m'] = result_farm_df\n",
    "WRITE_PATH = \"../../data/processed/wind_farms_ghg_radius.csv\"\n",
    "farm_df.to_csv(WRITE_PATH)"
   ]
  },
  {
   "cell_type": "code",
   "execution_count": null,
   "metadata": {
    "colab": {
     "base_uri": "https://localhost:8080/",
     "height": 237
    },
    "id": "j0FWJlxsQFE7",
    "outputId": "f6d9d560-402f-421a-bca2-2c34674bdadd"
   },
   "outputs": [],
   "source": [
    "farm_df.head()"
   ]
  },
  {
   "cell_type": "code",
   "execution_count": null,
   "metadata": {
    "id": "bEMfe4M4QyVV"
   },
   "outputs": [],
   "source": []
  }
 ],
 "metadata": {
  "colab": {
   "provenance": []
  },
  "kernelspec": {
   "display_name": "Python 3 (ipykernel)",
   "language": "python",
   "name": "python3"
  },
  "language_info": {
   "codemirror_mode": {
    "name": "ipython",
    "version": 3
   },
   "file_extension": ".py",
   "mimetype": "text/x-python",
   "name": "python",
   "nbconvert_exporter": "python",
   "pygments_lexer": "ipython3",
   "version": "3.8.12"
  }
 },
 "nbformat": 4,
 "nbformat_minor": 1
}
