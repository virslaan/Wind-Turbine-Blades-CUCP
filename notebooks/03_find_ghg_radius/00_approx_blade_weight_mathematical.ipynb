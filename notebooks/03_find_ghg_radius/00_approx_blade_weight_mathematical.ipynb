{
 "cells": [
  {
   "cell_type": "code",
   "execution_count": 1,
   "metadata": {
    "executionInfo": {
     "elapsed": 140,
     "status": "ok",
     "timestamp": 1666204368796,
     "user": {
      "displayName": "Tracy Wang",
      "userId": "01058367074215440184"
     },
     "user_tz": 240
    },
    "id": "1VMtBuAkri4j"
   },
   "outputs": [],
   "source": [
    "import pandas as pd\n",
    "import numpy as np\n",
    "import matplotlib.pyplot as plt\n",
    "\n",
    "%matplotlib inline"
   ]
  },
  {
   "cell_type": "code",
   "execution_count": 2,
   "metadata": {
    "colab": {
     "base_uri": "https://localhost:8080/",
     "height": 206
    },
    "executionInfo": {
     "elapsed": 197,
     "status": "ok",
     "timestamp": 1666204371422,
     "user": {
      "displayName": "Tracy Wang",
      "userId": "01058367074215440184"
     },
     "user_tz": 240
    },
    "id": "_g-z8SuFjdZd",
    "outputId": "b294a073-7394-4a7e-dfc6-1169a34f6d69"
   },
   "outputs": [
    {
     "data": {
      "text/html": [
       "<div>\n",
       "<style scoped>\n",
       "    .dataframe tbody tr th:only-of-type {\n",
       "        vertical-align: middle;\n",
       "    }\n",
       "\n",
       "    .dataframe tbody tr th {\n",
       "        vertical-align: top;\n",
       "    }\n",
       "\n",
       "    .dataframe thead th {\n",
       "        text-align: right;\n",
       "    }\n",
       "</style>\n",
       "<table border=\"1\" class=\"dataframe\">\n",
       "  <thead>\n",
       "    <tr style=\"text-align: right;\">\n",
       "      <th></th>\n",
       "      <th>case_id</th>\n",
       "      <th>t_state</th>\n",
       "      <th>t_county</th>\n",
       "      <th>p_name</th>\n",
       "      <th>p_year</th>\n",
       "      <th>p_tnum</th>\n",
       "      <th>p_cap</th>\n",
       "      <th>t_manu</th>\n",
       "      <th>t_model</th>\n",
       "      <th>t_cap</th>\n",
       "      <th>t_hh</th>\n",
       "      <th>t_rd</th>\n",
       "      <th>t_rsa</th>\n",
       "      <th>t_ttlh</th>\n",
       "    </tr>\n",
       "  </thead>\n",
       "  <tbody>\n",
       "    <tr>\n",
       "      <th>0</th>\n",
       "      <td>3075480</td>\n",
       "      <td>NY</td>\n",
       "      <td>Chautauqua County</td>\n",
       "      <td>Arkwright Summit</td>\n",
       "      <td>2018.0</td>\n",
       "      <td>36</td>\n",
       "      <td>78.4</td>\n",
       "      <td>Vestas</td>\n",
       "      <td>V110-2.0</td>\n",
       "      <td>2200.0</td>\n",
       "      <td>95.0</td>\n",
       "      <td>110.0</td>\n",
       "      <td>9503.32</td>\n",
       "      <td>150.0</td>\n",
       "    </tr>\n",
       "    <tr>\n",
       "      <th>1</th>\n",
       "      <td>3075488</td>\n",
       "      <td>NY</td>\n",
       "      <td>Chautauqua County</td>\n",
       "      <td>Arkwright Summit</td>\n",
       "      <td>2018.0</td>\n",
       "      <td>36</td>\n",
       "      <td>78.4</td>\n",
       "      <td>Vestas</td>\n",
       "      <td>V110-2.0</td>\n",
       "      <td>2200.0</td>\n",
       "      <td>95.0</td>\n",
       "      <td>110.0</td>\n",
       "      <td>9503.32</td>\n",
       "      <td>150.0</td>\n",
       "    </tr>\n",
       "    <tr>\n",
       "      <th>2</th>\n",
       "      <td>3075460</td>\n",
       "      <td>NY</td>\n",
       "      <td>Chautauqua County</td>\n",
       "      <td>Arkwright Summit</td>\n",
       "      <td>2018.0</td>\n",
       "      <td>36</td>\n",
       "      <td>78.4</td>\n",
       "      <td>Vestas</td>\n",
       "      <td>V110-2.0</td>\n",
       "      <td>2200.0</td>\n",
       "      <td>95.0</td>\n",
       "      <td>110.0</td>\n",
       "      <td>9503.32</td>\n",
       "      <td>150.0</td>\n",
       "    </tr>\n",
       "    <tr>\n",
       "      <th>3</th>\n",
       "      <td>3075489</td>\n",
       "      <td>NY</td>\n",
       "      <td>Chautauqua County</td>\n",
       "      <td>Arkwright Summit</td>\n",
       "      <td>2018.0</td>\n",
       "      <td>36</td>\n",
       "      <td>78.4</td>\n",
       "      <td>Vestas</td>\n",
       "      <td>V110-2.0</td>\n",
       "      <td>2000.0</td>\n",
       "      <td>95.0</td>\n",
       "      <td>110.0</td>\n",
       "      <td>9503.32</td>\n",
       "      <td>150.0</td>\n",
       "    </tr>\n",
       "    <tr>\n",
       "      <th>4</th>\n",
       "      <td>3075456</td>\n",
       "      <td>NY</td>\n",
       "      <td>Chautauqua County</td>\n",
       "      <td>Arkwright Summit</td>\n",
       "      <td>2018.0</td>\n",
       "      <td>36</td>\n",
       "      <td>78.4</td>\n",
       "      <td>Vestas</td>\n",
       "      <td>V110-2.0</td>\n",
       "      <td>2000.0</td>\n",
       "      <td>95.0</td>\n",
       "      <td>110.0</td>\n",
       "      <td>9503.32</td>\n",
       "      <td>150.0</td>\n",
       "    </tr>\n",
       "  </tbody>\n",
       "</table>\n",
       "</div>"
      ],
      "text/plain": [
       "   case_id t_state           t_county            p_name  p_year  p_tnum  \\\n",
       "0  3075480      NY  Chautauqua County  Arkwright Summit  2018.0      36   \n",
       "1  3075488      NY  Chautauqua County  Arkwright Summit  2018.0      36   \n",
       "2  3075460      NY  Chautauqua County  Arkwright Summit  2018.0      36   \n",
       "3  3075489      NY  Chautauqua County  Arkwright Summit  2018.0      36   \n",
       "4  3075456      NY  Chautauqua County  Arkwright Summit  2018.0      36   \n",
       "\n",
       "   p_cap  t_manu   t_model   t_cap  t_hh   t_rd    t_rsa  t_ttlh  \n",
       "0   78.4  Vestas  V110-2.0  2200.0  95.0  110.0  9503.32   150.0  \n",
       "1   78.4  Vestas  V110-2.0  2200.0  95.0  110.0  9503.32   150.0  \n",
       "2   78.4  Vestas  V110-2.0  2200.0  95.0  110.0  9503.32   150.0  \n",
       "3   78.4  Vestas  V110-2.0  2000.0  95.0  110.0  9503.32   150.0  \n",
       "4   78.4  Vestas  V110-2.0  2000.0  95.0  110.0  9503.32   150.0  "
      ]
     },
     "execution_count": 2,
     "metadata": {},
     "output_type": "execute_result"
    }
   ],
   "source": [
    "PATH_TO_DATA_DICT = \"../../data/processed/uswtdb_ny.csv\"\n",
    "df = pd.read_csv(PATH_TO_DATA_DICT)\n",
    "df.drop(\"Unnamed: 0\", axis=1, inplace=True)\n",
    "df.head()"
   ]
  },
  {
   "cell_type": "code",
   "execution_count": 3,
   "metadata": {
    "colab": {
     "base_uri": "https://localhost:8080/",
     "height": 250
    },
    "executionInfo": {
     "elapsed": 360,
     "status": "ok",
     "timestamp": 1666204374065,
     "user": {
      "displayName": "Tracy Wang",
      "userId": "01058367074215440184"
     },
     "user_tz": 240
    },
    "id": "fU3EAanfkEvO",
    "outputId": "63b0d728-e19e-4803-e567-9e47030450a5"
   },
   "outputs": [
    {
     "data": {
      "text/html": [
       "<div>\n",
       "<style scoped>\n",
       "    .dataframe tbody tr th:only-of-type {\n",
       "        vertical-align: middle;\n",
       "    }\n",
       "\n",
       "    .dataframe tbody tr th {\n",
       "        vertical-align: top;\n",
       "    }\n",
       "\n",
       "    .dataframe thead th {\n",
       "        text-align: right;\n",
       "    }\n",
       "</style>\n",
       "<table border=\"1\" class=\"dataframe\">\n",
       "  <thead>\n",
       "    <tr style=\"text-align: right;\">\n",
       "      <th></th>\n",
       "      <th>t_state</th>\n",
       "      <th>t_county</th>\n",
       "      <th>p_name</th>\n",
       "      <th>p_year</th>\n",
       "      <th>p_tnum</th>\n",
       "      <th>p_cap</th>\n",
       "      <th>t_manu</th>\n",
       "      <th>t_model</th>\n",
       "      <th>t_cap</th>\n",
       "      <th>t_hh</th>\n",
       "      <th>t_rd</th>\n",
       "      <th>t_rsa</th>\n",
       "      <th>t_ttlh</th>\n",
       "    </tr>\n",
       "  </thead>\n",
       "  <tbody>\n",
       "    <tr>\n",
       "      <th>0</th>\n",
       "      <td>NY</td>\n",
       "      <td>Chautauqua County</td>\n",
       "      <td>Arkwright Summit</td>\n",
       "      <td>2018.0</td>\n",
       "      <td>36</td>\n",
       "      <td>78.40</td>\n",
       "      <td>Vestas</td>\n",
       "      <td>V110-2.0</td>\n",
       "      <td>2200.0</td>\n",
       "      <td>95.0</td>\n",
       "      <td>110.0</td>\n",
       "      <td>9503.32</td>\n",
       "      <td>150.0</td>\n",
       "    </tr>\n",
       "    <tr>\n",
       "      <th>3</th>\n",
       "      <td>NY</td>\n",
       "      <td>Chautauqua County</td>\n",
       "      <td>Arkwright Summit</td>\n",
       "      <td>2018.0</td>\n",
       "      <td>36</td>\n",
       "      <td>78.40</td>\n",
       "      <td>Vestas</td>\n",
       "      <td>V110-2.0</td>\n",
       "      <td>2000.0</td>\n",
       "      <td>95.0</td>\n",
       "      <td>110.0</td>\n",
       "      <td>9503.32</td>\n",
       "      <td>150.0</td>\n",
       "    </tr>\n",
       "    <tr>\n",
       "      <th>36</th>\n",
       "      <td>NY</td>\n",
       "      <td>Chautauqua County</td>\n",
       "      <td>Cassadaga</td>\n",
       "      <td>2021.0</td>\n",
       "      <td>37</td>\n",
       "      <td>125.48</td>\n",
       "      <td>Nordex</td>\n",
       "      <td>N117/3675</td>\n",
       "      <td>3675.0</td>\n",
       "      <td>91.0</td>\n",
       "      <td>117.0</td>\n",
       "      <td>10751.32</td>\n",
       "      <td>149.4</td>\n",
       "    </tr>\n",
       "    <tr>\n",
       "      <th>39</th>\n",
       "      <td>NY</td>\n",
       "      <td>Chautauqua County</td>\n",
       "      <td>Cassadaga</td>\n",
       "      <td>2021.0</td>\n",
       "      <td>37</td>\n",
       "      <td>125.48</td>\n",
       "      <td>Siemens Gamesa Renewable Energy</td>\n",
       "      <td>SG-2.625-114</td>\n",
       "      <td>2625.0</td>\n",
       "      <td>93.0</td>\n",
       "      <td>114.0</td>\n",
       "      <td>10207.03</td>\n",
       "      <td>150.0</td>\n",
       "    </tr>\n",
       "    <tr>\n",
       "      <th>73</th>\n",
       "      <td>NY</td>\n",
       "      <td>Lewis County</td>\n",
       "      <td>Copenhagen</td>\n",
       "      <td>2018.0</td>\n",
       "      <td>40</td>\n",
       "      <td>80.00</td>\n",
       "      <td>Vestas</td>\n",
       "      <td>V110-2.0</td>\n",
       "      <td>2000.0</td>\n",
       "      <td>95.0</td>\n",
       "      <td>110.0</td>\n",
       "      <td>9503.32</td>\n",
       "      <td>150.0</td>\n",
       "    </tr>\n",
       "  </tbody>\n",
       "</table>\n",
       "</div>"
      ],
      "text/plain": [
       "   t_state           t_county            p_name  p_year  p_tnum   p_cap  \\\n",
       "0       NY  Chautauqua County  Arkwright Summit  2018.0      36   78.40   \n",
       "3       NY  Chautauqua County  Arkwright Summit  2018.0      36   78.40   \n",
       "36      NY  Chautauqua County         Cassadaga  2021.0      37  125.48   \n",
       "39      NY  Chautauqua County         Cassadaga  2021.0      37  125.48   \n",
       "73      NY       Lewis County        Copenhagen  2018.0      40   80.00   \n",
       "\n",
       "                             t_manu       t_model   t_cap  t_hh   t_rd  \\\n",
       "0                            Vestas      V110-2.0  2200.0  95.0  110.0   \n",
       "3                            Vestas      V110-2.0  2000.0  95.0  110.0   \n",
       "36                           Nordex     N117/3675  3675.0  91.0  117.0   \n",
       "39  Siemens Gamesa Renewable Energy  SG-2.625-114  2625.0  93.0  114.0   \n",
       "73                           Vestas      V110-2.0  2000.0  95.0  110.0   \n",
       "\n",
       "       t_rsa  t_ttlh  \n",
       "0    9503.32   150.0  \n",
       "3    9503.32   150.0  \n",
       "36  10751.32   149.4  \n",
       "39  10207.03   150.0  \n",
       "73   9503.32   150.0  "
      ]
     },
     "execution_count": 3,
     "metadata": {},
     "output_type": "execute_result"
    }
   ],
   "source": [
    "grouped_df = df.drop(\"case_id\", axis=1)\n",
    "grouped_df.drop_duplicates(inplace=True)\n",
    "grouped_df.dropna(inplace=True)\n",
    "grouped_df.head()"
   ]
  },
  {
   "cell_type": "code",
   "execution_count": 4,
   "metadata": {
    "colab": {
     "base_uri": "https://localhost:8080/"
    },
    "executionInfo": {
     "elapsed": 209,
     "status": "ok",
     "timestamp": 1666204376977,
     "user": {
      "displayName": "Tracy Wang",
      "userId": "01058367074215440184"
     },
     "user_tz": 240
    },
    "id": "QxN91h-wWvBI",
    "outputId": "82877f34-6b83-450b-f743-209764a0dc71"
   },
   "outputs": [
    {
     "data": {
      "text/plain": [
       "41"
      ]
     },
     "execution_count": 4,
     "metadata": {},
     "output_type": "execute_result"
    }
   ],
   "source": [
    "len(grouped_df)"
   ]
  },
  {
   "cell_type": "markdown",
   "metadata": {
    "id": "h7ytzvdYio0c"
   },
   "source": [
    "\n",
    "# Method1: linear relationship between turbine power and blade mass\n",
    "* Prediction from Irish wind farms with R^2 of 95\n",
    "* Total blade mass in tons = 10.33 * turbine power (MW)\n"
   ]
  },
  {
   "cell_type": "code",
   "execution_count": 5,
   "metadata": {
    "colab": {
     "base_uri": "https://localhost:8080/",
     "height": 372
    },
    "executionInfo": {
     "elapsed": 15,
     "status": "ok",
     "timestamp": 1666202852346,
     "user": {
      "displayName": "Tracy Wang",
      "userId": "01058367074215440184"
     },
     "user_tz": 240
    },
    "id": "gtdIVtVTi40S",
    "outputId": "c36e7410-011e-49e4-91f9-720e6186502a"
   },
   "outputs": [
    {
     "data": {
      "text/html": [
       "<div>\n",
       "<style scoped>\n",
       "    .dataframe tbody tr th:only-of-type {\n",
       "        vertical-align: middle;\n",
       "    }\n",
       "\n",
       "    .dataframe tbody tr th {\n",
       "        vertical-align: top;\n",
       "    }\n",
       "\n",
       "    .dataframe thead th {\n",
       "        text-align: right;\n",
       "    }\n",
       "</style>\n",
       "<table border=\"1\" class=\"dataframe\">\n",
       "  <thead>\n",
       "    <tr style=\"text-align: right;\">\n",
       "      <th></th>\n",
       "      <th>t_state</th>\n",
       "      <th>t_county</th>\n",
       "      <th>p_name</th>\n",
       "      <th>p_year</th>\n",
       "      <th>p_tnum</th>\n",
       "      <th>p_cap</th>\n",
       "      <th>t_manu</th>\n",
       "      <th>t_model</th>\n",
       "      <th>t_cap</th>\n",
       "      <th>t_hh</th>\n",
       "      <th>t_rd</th>\n",
       "      <th>t_rsa</th>\n",
       "      <th>t_ttlh</th>\n",
       "      <th>est_blade_wt_total</th>\n",
       "      <th>est_blade_wt</th>\n",
       "    </tr>\n",
       "  </thead>\n",
       "  <tbody>\n",
       "    <tr>\n",
       "      <th>0</th>\n",
       "      <td>NY</td>\n",
       "      <td>Chautauqua County</td>\n",
       "      <td>Arkwright Summit</td>\n",
       "      <td>2018.0</td>\n",
       "      <td>36</td>\n",
       "      <td>78.40</td>\n",
       "      <td>Vestas</td>\n",
       "      <td>V110-2.0</td>\n",
       "      <td>2200.0</td>\n",
       "      <td>95.0</td>\n",
       "      <td>110.0</td>\n",
       "      <td>9503.32</td>\n",
       "      <td>150.0</td>\n",
       "      <td>22.72600</td>\n",
       "      <td>7.575333</td>\n",
       "    </tr>\n",
       "    <tr>\n",
       "      <th>3</th>\n",
       "      <td>NY</td>\n",
       "      <td>Chautauqua County</td>\n",
       "      <td>Arkwright Summit</td>\n",
       "      <td>2018.0</td>\n",
       "      <td>36</td>\n",
       "      <td>78.40</td>\n",
       "      <td>Vestas</td>\n",
       "      <td>V110-2.0</td>\n",
       "      <td>2000.0</td>\n",
       "      <td>95.0</td>\n",
       "      <td>110.0</td>\n",
       "      <td>9503.32</td>\n",
       "      <td>150.0</td>\n",
       "      <td>20.66000</td>\n",
       "      <td>6.886667</td>\n",
       "    </tr>\n",
       "    <tr>\n",
       "      <th>36</th>\n",
       "      <td>NY</td>\n",
       "      <td>Chautauqua County</td>\n",
       "      <td>Cassadaga</td>\n",
       "      <td>2021.0</td>\n",
       "      <td>37</td>\n",
       "      <td>125.48</td>\n",
       "      <td>Nordex</td>\n",
       "      <td>N117/3675</td>\n",
       "      <td>3675.0</td>\n",
       "      <td>91.0</td>\n",
       "      <td>117.0</td>\n",
       "      <td>10751.32</td>\n",
       "      <td>149.4</td>\n",
       "      <td>37.96275</td>\n",
       "      <td>12.654250</td>\n",
       "    </tr>\n",
       "    <tr>\n",
       "      <th>39</th>\n",
       "      <td>NY</td>\n",
       "      <td>Chautauqua County</td>\n",
       "      <td>Cassadaga</td>\n",
       "      <td>2021.0</td>\n",
       "      <td>37</td>\n",
       "      <td>125.48</td>\n",
       "      <td>Siemens Gamesa Renewable Energy</td>\n",
       "      <td>SG-2.625-114</td>\n",
       "      <td>2625.0</td>\n",
       "      <td>93.0</td>\n",
       "      <td>114.0</td>\n",
       "      <td>10207.03</td>\n",
       "      <td>150.0</td>\n",
       "      <td>27.11625</td>\n",
       "      <td>9.038750</td>\n",
       "    </tr>\n",
       "    <tr>\n",
       "      <th>73</th>\n",
       "      <td>NY</td>\n",
       "      <td>Lewis County</td>\n",
       "      <td>Copenhagen</td>\n",
       "      <td>2018.0</td>\n",
       "      <td>40</td>\n",
       "      <td>80.00</td>\n",
       "      <td>Vestas</td>\n",
       "      <td>V110-2.0</td>\n",
       "      <td>2000.0</td>\n",
       "      <td>95.0</td>\n",
       "      <td>110.0</td>\n",
       "      <td>9503.32</td>\n",
       "      <td>150.0</td>\n",
       "      <td>20.66000</td>\n",
       "      <td>6.886667</td>\n",
       "    </tr>\n",
       "  </tbody>\n",
       "</table>\n",
       "</div>"
      ],
      "text/plain": [
       "   t_state           t_county            p_name  p_year  p_tnum   p_cap  \\\n",
       "0       NY  Chautauqua County  Arkwright Summit  2018.0      36   78.40   \n",
       "3       NY  Chautauqua County  Arkwright Summit  2018.0      36   78.40   \n",
       "36      NY  Chautauqua County         Cassadaga  2021.0      37  125.48   \n",
       "39      NY  Chautauqua County         Cassadaga  2021.0      37  125.48   \n",
       "73      NY       Lewis County        Copenhagen  2018.0      40   80.00   \n",
       "\n",
       "                             t_manu       t_model   t_cap  t_hh   t_rd  \\\n",
       "0                            Vestas      V110-2.0  2200.0  95.0  110.0   \n",
       "3                            Vestas      V110-2.0  2000.0  95.0  110.0   \n",
       "36                           Nordex     N117/3675  3675.0  91.0  117.0   \n",
       "39  Siemens Gamesa Renewable Energy  SG-2.625-114  2625.0  93.0  114.0   \n",
       "73                           Vestas      V110-2.0  2000.0  95.0  110.0   \n",
       "\n",
       "       t_rsa  t_ttlh  est_blade_wt_total  est_blade_wt  \n",
       "0    9503.32   150.0            22.72600      7.575333  \n",
       "3    9503.32   150.0            20.66000      6.886667  \n",
       "36  10751.32   149.4            37.96275     12.654250  \n",
       "39  10207.03   150.0            27.11625      9.038750  \n",
       "73   9503.32   150.0            20.66000      6.886667  "
      ]
     },
     "execution_count": 5,
     "metadata": {},
     "output_type": "execute_result"
    }
   ],
   "source": [
    "# estimate total blade mass (3 blades in one turbine)\n",
    "method1_df = grouped_df.assign(est_blade_wt_total=lambda df: df.t_cap/1000 * 10.33)\n",
    "# find single blade mass\n",
    "method1_df['est_blade_wt'] = method1_df['est_blade_wt_total']/3\n",
    "method1_df.head()"
   ]
  },
  {
   "cell_type": "code",
   "execution_count": 6,
   "metadata": {
    "colab": {
     "base_uri": "https://localhost:8080/",
     "height": 313
    },
    "executionInfo": {
     "elapsed": 450,
     "status": "ok",
     "timestamp": 1666207287043,
     "user": {
      "displayName": "Tracy Wang",
      "userId": "01058367074215440184"
     },
     "user_tz": 240
    },
    "id": "zY4TMQa7rW10",
    "outputId": "c9d65ebc-3a19-4624-943c-6343ea435331"
   },
   "outputs": [
    {
     "data": {
      "text/plain": [
       "Text(0.5, 1.0, 'Method1: Linear Relationship')"
      ]
     },
     "execution_count": 6,
     "metadata": {},
     "output_type": "execute_result"
    },
    {
     "data": {
      "image/png": "[encoded data removed]",
      "text/plain": [
       "<Figure size 432x288 with 1 Axes>"
      ]
     },
     "metadata": {
      "needs_background": "light"
     },
     "output_type": "display_data"
    }
   ],
   "source": [
    "# visualize the distribution of estimated single blade mass\n",
    "plt.hist(method1_df['est_blade_wt'], bins=[0,5,10,15,20,25,30])  # density=False would make counts\n",
    "plt.ylabel('Count')\n",
    "plt.xlabel('Estimated Weight of Single Blade (tons)')\n",
    "plt.title('Method1: Linear Relationship')"
   ]
  },
  {
   "cell_type": "code",
   "execution_count": 7,
   "metadata": {
    "colab": {
     "base_uri": "https://localhost:8080/"
    },
    "executionInfo": {
     "elapsed": 159,
     "status": "ok",
     "timestamp": 1666203421474,
     "user": {
      "displayName": "Tracy Wang",
      "userId": "01058367074215440184"
     },
     "user_tz": 240
    },
    "id": "3pXtv4RtdOkz",
    "outputId": "8cc1bae9-5fe6-4052-ff75-8cd749b0f7d5"
   },
   "outputs": [
    {
     "name": "stdout",
     "output_type": "stream",
     "text": [
      "mean 6.11149674796748\n",
      "standard deviation 2.9274347132107614\n"
     ]
    }
   ],
   "source": [
    "print(\"mean\", np.average(method1_df['est_blade_wt']))\n",
    "print(\"standard deviation\", np.std(method1_df['est_blade_wt']))"
   ]
  },
  {
   "cell_type": "code",
   "execution_count": 8,
   "metadata": {
    "colab": {
     "base_uri": "https://localhost:8080/",
     "height": 297
    },
    "executionInfo": {
     "elapsed": 370,
     "status": "ok",
     "timestamp": 1666207179296,
     "user": {
      "displayName": "Tracy Wang",
      "userId": "01058367074215440184"
     },
     "user_tz": 240
    },
    "id": "rnne1ioJvboD",
    "outputId": "962d2a22-42d2-4dd0-ad9d-8b7d7ef3206f"
   },
   "outputs": [
    {
     "data": {
      "text/plain": [
       "Text(0.5, 0, 'Turbine Capacity (KW)')"
      ]
     },
     "execution_count": 8,
     "metadata": {},
     "output_type": "execute_result"
    },
    {
     "data": {
      "image/png": "[encoded data removed]",
      "text/plain": [
       "<Figure size 432x288 with 1 Axes>"
      ]
     },
     "metadata": {
      "needs_background": "light"
     },
     "output_type": "display_data"
    }
   ],
   "source": [
    "# visualize the distribution of turbine capacity\n",
    "plt.hist(method1_df['t_cap'])  # density=False would make counts\n",
    "plt.ylabel('Count')\n",
    "plt.xlabel('Turbine Capacity (KW)')"
   ]
  },
  {
   "cell_type": "markdown",
   "metadata": {
    "id": "mdBwv-ftbkk5"
   },
   "source": [
    "\n",
    "\n",
    "# Method2: piecewise linear relationship between turbine power and blade mass\n",
    "\n",
    "![Capture.JPG](data:image/jpeg;base64,/9j/4AAQSkZJRgABAQEAkACQAAD/4RDcRXhpZgAATU0AKgAAAAgABAE7AAIAAAAGAAAISodpAAQAAAABAAAIUJydAAEAAAAMAAAQyOocAAcAAAgMAAAAPgAAAAAc6gAAAAgAAAAAAAAAAAAAAAAAAAAAAAAAAAAAAAAAAAAAAAAAAAAAAAAAAAAAAAAAAAAAAAAAAAAAAAAAAAAAAAAAAAAAAAAAAAAAAAAAAAAAAAAAAAAAAAAAAAAAAAAAAAAAAAAAAAAAAAAAAAAAAAAAAAAAAAAAAAAAAAAAAAAAAAAAAAAAAAAAAAAAAAAAAAAAAAAAAAAAAAAAAAAAAAAAAAAAAAAAAAAAAAAAAAAAAAAAAAAAAAAAAAAAAAAAAAAAAAAAAAAAAAAAAAAAAAAAAAAAAAAAAAAAAAAAAAAAAAAAAAAAAAAAAAAAAAAAAAAAAAAAAAAAAAAAAAAAAAAAAAAAAAAAAAAAAAAAAAAAAAAAAAAAAAAAAAAAAAAAAAAAAAAAAAAAAAAAAAAAAAAAAAAAAAAAAAAAAAAAAAAAAAAAAAAAAAAAAAAAAAAAAAAAAAAAAAAAAAAAAAAAAAAAAAAAAAAAAAAAAAAAAAAAAAAAAAAAAAAAAAAAAAAAAAAAAAAAAAAAAAAAAAAAAAAAAAAAAAAAAAAAAAAAAAAAAAAAAAAAAAAAAAAAAAAAAAAAAAAAAAAAAAAAAAAAAAAAAAAAAAAAAAAAAAAAAAAAAAAAAAAAAAAAAAAAAAAAAAAAAAAAAAAAAAAAAAAAAAAAAAAAAAAAAAAAAAAAAAAAAAAAAAAAAAAAAAAAAAAAAAAAAAAAAAAAAAAAAAAAAAAAAAAAAAAAAAAAAAAAAAAAAAAAAAAAAAAAAAAAAAAAAAAAAAAAAAAAAAAAAAAAAAAAAAAAAAAAAAAAAAAAAAAAAAAAAAAAAAAAAAAAAAAAAAAAAAAAAAAAAAAAAAAAAAAAAAAAAAAAAAAAAAAAAAAAAAAAAAAAAAAAAAAAAAAAAAAAAAAAAAAAAAAAAAAAAAAAAAAAAAAAAAAAAAAAAAAAAAAAAAAAAAAAAAAAAAAAAAAAAAAAAAAAAAAAAAAAAAAAAAAAAAAAAAAAAAAAAAAAAAAAAAAAAAAAAAAAAAAAAAAAAAAAAAAAAAAAAAAAAAAAAAAAAAAAAAAAAAAAAAAAAAAAAAAAAAAAAAAAAAAAAAAAAAAAAAAAAAAAAAAAAAAAAAAAAAAAAAAAAAAAAAAAAAAAAAAAAAAAAAAAAAAAAAAAAAAAAAAAAAAAAAAAAAAAAAAAAAAAAAAAAAAAAAAAAAAAAAAAAAAAAAAAAAAAAAAAAAAAAAAAAAAAAAAAAAAAAAAAAAAAAAAAAAAAAAAAAAAAAAAAAAAAAAAAAAAAAAAAAAAAAAAAAAAAAAAAAAAAAAAAAAAAAAAAAAAAAAAAAAAAAAAAAAAAAAAAAAAAAAAAAAAAAAAAAAAAAAAAAAAAAAAAAAAAAAAAAAAAAAAAAAAAAAAAAAAAAAAAAAAAAAAAAAAAAAAAAAAAAAAAAAAAAAAAAAAAAAAAAAAAAAAAAAAAAAAAAAAAAAAAAAAAAAAAAAAAAAAAAAAAAAAAAAAAAAAAAAAAAAAAAAAAAAAAAAAAAAAAAAAAAAAAAAAAAAAAAAAAAAAAAAAAAAAAAAAAAAAAAAAAAAAAAAAAAAAAAAAAAAAAAAAAAAAAAAAAAAAAAAAAAAAAAAAAAAAAAAAAAAAAAAAAAAAAAAAAAAAAAAAAAAAAAAAAAAAAAAAAAAAAAAAAAAAAAAAAAAAAAAAAAAAAAAAAAAAAAAAAAAAAAAAAAAAAAAAAAAAAAAAAAAAAAAAAAAAAAAAAAAAAAAAAAAAAAAAAAAAAAAAAAAAAAAAAAAAAAAAAAAAAAAAAAAAAAAAAAAAAAAAAAAAAAAAAAAAAAAAAAAAAAAAAAAAAAAAAAAAAAAAAAAAAAAAAAAAAAAAAAAAAAAAAAAAAAAAAAAAAAAAAAAAAAAAAAAAAAAAAAAAAAAAAAAAAAAAAAAAAAAAAAAAAAAAAAAAAAAAAAAAAAAAAAAAAAAAAAAAAAAAAAAAAAAAAAAAAAAAAAAAAAAAAAAAAAAAAAAAAAAAAAAAAAAAAAAAAAAAAAAAAAAAAAAAAAAAAAAAAAAAAAAAAAAAAAAAAAAAAAAAAAAAAAAAAAAAAAAAAAAAAAAAAAAAAAAAAAAAAAAAAAAAAAAAAAAAAAAAAAAAAAAAAAAAAAAAAAAAAAAAAAAAAAAAAAAAAAAAAAAAAAAAAAAAAAAAAAAAAAAAAAAAAAAAAAAAAAAAAAAAAAAAAAAAAAAAAAAAAAAAAAAAAAAAAAAAAAAAAAAAAAAAAAAAAAAAAAAAAAAAAAAAAAAAAAAAAAAAAAAAAAAAAAAAAAAAAAAAAAAAAAAAAAAAAAAAAAAAAAAAAAAAAAAAAAAAAAAAAAAAAAAAAAAAAAAAAAAAAAAAAAAAAAAAAAAAAAAAAAAAAAAAAAAAAAAAAAAAAAAAAAAAAAAAAAAAAAAAAAAAAAAAAAAAAAAAAAAAAAAAAAAAAAAAAAAAAAAAAAAAAAAAAAAAAAAAAAAAAAAAAAAAAAAAAAAAAAAAAAAAAAAAAAAAAAAAAAAAAAAAAAAAAAAAAAAAAAAAAAAAAAAAAAAAAAAAAAAAAAAAAAAAAAAAAAAAAAAAAAAAAAAAAAAAAAAAAAAAAAAAAAAAAAAAAAAAAAAAAAAAAAAAAAAAAAAAAAAAAAAAAAAAAAAAAAAAAAAAAAAAAAAAAAAAAAAAAAAAAAAAAAAAAAAAAAAAAAAAAAAAAAAAAAAAAAAAAAAAAAAAAAAAAAAAAAAAAAAAAAFRyYWN5AAAFkAMAAgAAABQAABCekAQAAgAAABQAABCykpEAAgAAAAM1NQAAkpIAAgAAAAM1NQAA6hwABwAACAwAAAiSAAAAABzqAAAACAAAAAAAAAAAAAAAAAAAAAAAAAAAAAAAAAAAAAAAAAAAAAAAAAAAAAAAAAAAAAAAAAAAAAAAAAAAAAAAAAAAAAAAAAAAAAAAAAAAAAAAAAAAAAAAAAAAAAAAAAAAAAAAAAAAAAAAAAAAAAAAAAAAAAAAAAAAAAAAAAAAAAAAAAAAAAAAAAAAAAAAAAAAAAAAAAAAAAAAAAAAAAAAAAAAAAAAAAAAAAAAAAAAAAAAAAAAAAAAAAAAAAAAAAAAAAAAAAAAAAAAAAAAAAAAAAAAAAAAAAAAAAAAAAAAAAAAAAAAAAAAAAAAAAAAAAAAAAAAAAAAAAAAAAAAAAAAAAAAAAAAAAAAAAAAAAAAAAAAAAAAAAAAAAAAAAAAAAAAAAAAAAAAAAAAAAAAAAAAAAAAAAAAAAAAAAAAAAAAAAAAAAAAAAAAAAAAAAAAAAAAAAAAAAAAAAAAAAAAAAAAAAAAAAAAAAAAAAAAAAAAAAAAAAAAAAAAAAAAAAAAAAAAAAAAAAAAAAAAAAAAAAAAAAAAAAAAAAAAAAAAAAAAAAAAAAAAAAAAAAAAAAAAAAAAAAAAAAAAAAAAAAAAAAAAAAAAAAAAAAAAAAAAAAAAAAAAAAAAAAAAAAAAAAAAAAAAAAAAAAAAAAAAAAAAAAAAAAAAAAAAAAAAAAAAAAAAAAAAAAAAAAAAAAAAAAAAAAAAAAAAAAAAAAAAAAAAAAAAAAAAAAAAAAAAAAAAAAAAAAAAAAAAAAAAAAAAAAAAAAAAAAAAAAAAAAAAAAAAAAAAAAAAAAAAAAAAAAAAAAAAAAAAAAAAAAAAAAAAAAAAAAAAAAAAAAAAAAAAAAAAAAAAAAAAAAAAAAAAAAAAAAAAAAAAAAAAAAAAAAAAAAAAAAAAAAAAAAAAAAAAAAAAAAAAAAAAAAAAAAAAAAAAAAAAAAAAAAAAAAAAAAAAAAAAAAAAAAAAAAAAAAAAAAAAAAAAAAAAAAAAAAAAAAAAAAAAAAAAAAAAAAAAAAAAAAAAAAAAAAAAAAAAAAAAAAAAAAAAAAAAAAAAAAAAAAAAAAAAAAAAAAAAAAAAAAAAAAAAAAAAAAAAAAAAAAAAAAAAAAAAAAAAAAAAAAAAAAAAAAAAAAAAAAAAAAAAAAAAAAAAAAAAAAAAAAAAAAAAAAAAAAAAAAAAAAAAAAAAAAAAAAAAAAAAAAAAAAAAAAAAAAAAAAAAAAAAAAAAAAAAAAAAAAAAAAAAAAAAAAAAAAAAAAAAAAAAAAAAAAAAAAAAAAAAAAAAAAAAAAAAAAAAAAAAAAAAAAAAAAAAAAAAAAAAAAAAAAAAAAAAAAAAAAAAAAAAAAAAAAAAAAAAAAAAAAAAAAAAAAAAAAAAAAAAAAAAAAAAAAAAAAAAAAAAAAAAAAAAAAAAAAAAAAAAAAAAAAAAAAAAAAAAAAAAAAAAAAAAAAAAAAAAAAAAAAAAAAAAAAAAAAAAAAAAAAAAAAAAAAAAAAAAAAAAAAAAAAAAAAAAAAAAAAAAAAAAAAAAAAAAAAAAAAAAAAAAAAAAAAAAAAAAAAAAAAAAAAAAAAAAAAAAAAAAAAAAAAAAAAAAAAAAAAAAAAAAAAAAAAAAAAAAAAAAAAAAAAAAAAAAAAAAAAAAAAAAAAAAAAAAAAAAAAAAAAAAAAAAAAAAAAAAAAAAAAAAAAAAAAAAAAAAAAAAAAAAAAAAAAAAAAAAAAAAAAAAAAAAAAAAAAAAAAAAAAAAAAAAAAAAAAAAAAAAAAAAAAAAAAAAAAAAAAAAAAAAAAAAAAAAAAAAAAAAAAAAAAAAAAAAAAAAAAAAAAAAAAAAAAAAAAAAAAAAAAAAAAAAAAAAAAAAAAAAAAAAAAAAAAAAAAAAAAAAAAAAAAAAAAAAAAAAAAAAAAAAAAAAAAAAAAAAAAAAAAAAAAAAAAAAAAAAAAAAAAAAAAAAAAAAAAAAAAAAAAAAAAAAAAAAAAAAAAAAAAAAAAAAAAAAAAAAAAAAAAAAAAAAAAAAAAAAAAAAAAAAAAAAAAAAAAAAAAAAAAAAAAAAAAAAAAAAAAAAAAAAAAAAAAAAAAAAAAAAAAAAAAAAAAAAAAAAAAAAAAAAAAAAAAAAAAAAAAAAAAAAAAAAAAAAAAAAAAAAAAAAAAAAAAAAAAAAAAAAAAAAAAAAAAAAAAAAAAAAAAAAAAAAAAAAAAAAAAAAAAAAAAAAAAAAAAAAAAAAAAAAAAAAAAAAAAAAAAAAAAAAAAAAAAAAAAAAAAAAAAAAAAAAAAAAAAAAAAAAAAAAAAAAAAAAAAAAAAAAAAAAAAAAAAAAAAAAAAAAAAAAAAAAAAAAAAAAAAAAAAAAAAAAAAAAAAAAAAAAAAAAAAAAAAAAAAAAAAAAAAAAAAAAAAAAAAAAAAAAAAAAAAAAAAAAAAAAAAAAAAAAAAAAAAAAAAAAAAAAAAAAAAAAAAAAAAAAAAAAAAAAAAAAAAAAAAAAAAAAAAAAAAAAAAAAAAAAAAAAAAAAAAAAAAAAAAAAAAAAAAAAAAAAAAAAAAAAAAAAAAAAAAAAAAAAAAAAAAAAAAAAAAAAAAAAAAAAAAAAAAAAAAAAAAAAAAAAAAAAAAAAAAAAAAAAAAAAAAAAAAAAAAAAAAAAAAAAAAAAAAAAAAAAAAAAAAAAAAAAAAAAAAAAAAAAAAAAAAAAAAAAAAAAAAAAAAAAAAAAAAAAAAAAAAAAAAAAAAAAAAAAAAAAAAAAAAAAAAAAAAAAAAAAMjAyMjoxMDoxOSAxNDowOTozMwAyMDIyOjEwOjE5IDE0OjA5OjMzAAAAVAByAGEAYwB5AAAA/+ELGGh0dHA6Ly9ucy5hZG9iZS5jb20veGFwLzEuMC8APD94cGFja2V0IGJlZ2luPSfvu78nIGlkPSdXNU0wTXBDZWhpSHpyZVN6TlRjemtjOWQnPz4NCjx4OnhtcG1ldGEgeG1sbnM6eD0iYWRvYmU6bnM6bWV0YS8iPjxyZGY6UkRGIHhtbG5zOnJkZj0iaHR0cDovL3d3dy53My5vcmcvMTk5OS8wMi8yMi1yZGYtc3ludGF4LW5zIyI+PHJkZjpEZXNjcmlwdGlvbiByZGY6YWJvdXQ9InV1aWQ6ZmFmNWJkZDUtYmEzZC0xMWRhLWFkMzEtZDMzZDc1MTgyZjFiIiB4bWxuczpkYz0iaHR0cDovL3B1cmwub3JnL2RjL2VsZW1lbnRzLzEuMS8iLz48cmRmOkRlc2NyaXB0aW9uIHJkZjphYm91dD0idXVpZDpmYWY1YmRkNS1iYTNkLTExZGEtYWQzMS1kMzNkNzUxODJmMWIiIHhtbG5zOnhtcD0iaHR0cDovL25zLmFkb2JlLmNvbS94YXAvMS4wLyI+PHhtcDpDcmVhdGVEYXRlPjIwMjItMTAtMTlUMTQ6MDk6MzMuNTUyPC94bXA6Q3JlYXRlRGF0ZT48L3JkZjpEZXNjcmlwdGlvbj48cmRmOkRlc2NyaXB0aW9uIHJkZjphYm91dD0idXVpZDpmYWY1YmRkNS1iYTNkLTExZGEtYWQzMS1kMzNkNzUxODJmMWIiIHhtbG5zOmRjPSJodHRwOi8vcHVybC5vcmcvZGMvZWxlbWVudHMvMS4xLyI+PGRjOmNyZWF0b3I+PHJkZjpTZXEgeG1sbnM6cmRmPSJodHRwOi8vd3d3LnczLm9yZy8xOTk5LzAyLzIyLXJkZi1zeW50YXgtbnMjIj48cmRmOmxpPlRyYWN5PC9yZGY6bGk+PC9yZGY6U2VxPg0KCQkJPC9kYzpjcmVhdG9yPjwvcmRmOkRlc2NyaXB0aW9uPjwvcmRmOlJERj48L3g6eG1wbWV0YT4NCiAgICAgICAgICAgICAgICAgICAgICAgICAgICAgICAgICAgICAgICAgICAgICAgICAgICAgICAgICAgICAgICAgICAgICAgICAgICAgICAgICAgICAgICAgICAgICAgICAgICAKICAgICAgICAgICAgICAgICAgICAgICAgICAgICAgICAgICAgICAgICAgICAgICAgICAgICAgICAgICAgICAgICAgICAgICAgICAgICAgICAgICAgICAgICAgICAgICAgICAgIAogICAgICAgICAgICAgICAgICAgICAgICAgICAgICAgICAgICAgICAgICAgICAgICAgICAgICAgICAgICAgICAgICAgICAgICAgICAgICAgICAgICAgICAgICAgICAgICAgICAgCiAgICAgICAgICAgICAgICAgICAgICAgICAgICAgICAgICAgICAgICAgICAgICAgICAgICAgICAgICAgICAgICAgICAgICAgICAgICAgICAgICAgICAgICAgICAgICAgICAgICAKICAgICAgICAgICAgICAgICAgICAgICAgICAgICAgICAgICAgICAgICAgICAgICAgICAgICAgICAgICAgICAgICAgICAgICAgICAgICAgICAgICAgICAgICAgICAgICAgICAgIAogICAgICAgICAgICAgICAgICAgICAgICAgICAgICAgICAgICAgICAgICAgICAgICAgICAgICAgICAgICAgICAgICAgICAgICAgICAgICAgICAgICAgICAgICAgICAgICAgICAgCiAgICAgICAgICAgICAgICAgICAgICAgICAgICAgICAgICAgICAgICAgICAgICAgICAgICAgICAgICAgICAgICAgICAgICAgICAgICAgICAgICAgICAgICAgICAgICAgICAgICAKICAgICAgICAgICAgICAgICAgICAgICAgICAgICAgICAgICAgICAgICAgICAgICAgICAgICAgICAgICAgICAgICAgICAgICAgICAgICAgICAgICAgICAgICAgICAgICAgICAgIAogICAgICAgICAgICAgICAgICAgICAgICAgICAgICAgICAgICAgICAgICAgICAgICAgICAgICAgICAgICAgICAgICAgICAgICAgICAgICAgICAgICAgICAgICAgICAgICAgICAgCiAgICAgICAgICAgICAgICAgICAgICAgICAgICAgICAgICAgICAgICAgICAgICAgICAgICAgICAgICAgICAgICAgICAgICAgICAgICAgICAgICAgICAgICAgICAgICAgICAgICAKICAgICAgICAgICAgICAgICAgICAgICAgICAgICAgICAgICAgICAgICAgICAgICAgICAgICAgICAgICAgICAgICAgICAgICAgICAgICAgICAgICAgICAgICAgICAgICAgICAgIAogICAgICAgICAgICAgICAgICAgICAgICAgICAgICAgICAgICAgICAgICAgICAgICAgICAgICAgICAgICAgICAgICAgICAgICAgICAgICAgICAgICAgICAgICAgICAgICAgICAgCiAgICAgICAgICAgICAgICAgICAgICAgICAgICAgICAgICAgICAgICAgICAgICAgICAgICAgICAgICAgICAgICAgICAgICAgICAgICAgICAgICAgICAgICAgICAgICAgICAgICAKICAgICAgICAgICAgICAgICAgICAgICAgICAgICAgICAgICAgICAgICAgICAgICAgICAgICAgICAgICAgICAgICAgICAgICAgICAgICAgICAgICAgICAgICAgICAgICAgICAgIAogICAgICAgICAgICAgICAgICAgICAgICAgICAgICAgICAgICAgICAgICAgICAgICAgICAgICAgICAgICAgICAgICAgICAgICAgICAgICAgICAgICAgICAgICAgICAgICAgICAgCiAgICAgICAgICAgICAgICAgICAgICAgICAgICAgICAgICAgICAgICAgICAgICAgICAgICAgICAgICAgICAgICAgICAgICAgICAgICAgICAgICAgICAgICAgICAgICAgICAgICAKICAgICAgICAgICAgICAgICAgICAgICAgICAgICAgICAgICAgICAgICAgICAgICAgICAgICAgICAgICAgICAgICAgICAgICAgICAgICAgICAgICAgICAgICAgICAgICAgICAgIAogICAgICAgICAgICAgICAgICAgICAgICAgICAgICAgICAgICAgICAgICAgICAgICAgICAgICAgICAgICAgICAgICAgICAgICAgICAgICAgICAgICAgICAgICAgICAgICAgICAgCiAgICAgICAgICAgICAgICAgICAgICAgICAgICAgICAgICAgICAgICAgICAgICAgICAgICAgICAgICAgICAgICAgICAgICAgICAgICAgICAgICAgICAgICAgICAgICAgICAgICAKICAgICAgICAgICAgICAgICAgICAgICAgICAgICAgICAgICAgICAgICAgICAgICAgICAgICAgICAgICAgICAgICAgICAgICAgICAgICAgICAgICAgICAgICAgICAgICAgICAgIAogICAgICAgICAgICAgICAgICAgICAgICAgICAgPD94cGFja2V0IGVuZD0ndyc/Pv/bAEMABwUFBgUEBwYFBggHBwgKEQsKCQkKFQ8QDBEYFRoZGBUYFxseJyEbHSUdFxgiLiIlKCkrLCsaIC8zLyoyJyorKv/bAEMBBwgICgkKFAsLFCocGBwqKioqKioqKioqKioqKioqKioqKioqKioqKioqKioqKioqKioqKioqKioqKioqKioqKv/AABEIAVsCeAMBIgACEQEDEQH/xAAfAAABBQEBAQEBAQAAAAAAAAAAAQIDBAUGBwgJCgv/xAC1EAACAQMDAgQDBQUEBAAAAX0BAgMABBEFEiExQQYTUWEHInEUMoGRoQgjQrHBFVLR8CQzYnKCCQoWFxgZGiUmJygpKjQ1Njc4OTpDREVGR0hJSlNUVVZXWFlaY2RlZmdoaWpzdHV2d3h5eoOEhYaHiImKkpOUlZaXmJmaoqOkpaanqKmqsrO0tba3uLm6wsPExcbHyMnK0tPU1dbX2Nna4eLj5OXm5+jp6vHy8/T19vf4+fr/xAAfAQADAQEBAQEBAQEBAAAAAAAAAQIDBAUGBwgJCgv/xAC1EQACAQIEBAMEBwUEBAABAncAAQIDEQQFITEGEkFRB2FxEyIygQgUQpGhscEJIzNS8BVictEKFiQ04SXxFxgZGiYnKCkqNTY3ODk6Q0RFRkdISUpTVFVWV1hZWmNkZWZnaGlqc3R1dnd4eXqCg4SFhoeIiYqSk5SVlpeYmZqio6Slpqeoqaqys7S1tre4ubrCw8TFxsfIycrS09TV1tfY2dri4+Tl5ufo6ery8/T19vf4+fr/2gAMAwEAAhEDEQA/APpBmCKWbgAZNeaL+0H8OnXKavcMPUafOf8A2SvSLj/j2l/3D/KvHf2bNPs7n4RpJcWkEr/bphukiDHovcigDc/4aB+Hn/QVuv8AwXT/APxFH/DQPw8/6Ct1/wCC6f8A+Irvv7H03/oHWn/fhf8ACj+x9N/6B1p/34X/AAoA4H/hoH4ef9BW6/8ABdP/APEUf8NA/Dz/AKCt1/4Lp/8A4iu+/sfTf+gdaf8Afhf8KP7H03/oHWn/AH4X/CgDgf8AhoH4ef8AQVuv/BdP/wDEUf8ADQPw8/6Ct1/4Lp//AIiu+/sfTf8AoHWn/fhf8KP7H03/AKB1p/34X/CgDgf+Ggfh5/0Fbr/wXT//ABFH/DQPw8/6Ct1/4Lp//iK77+x9N/6B1p/34X/Cj+x9N/6B1p/34X/CgDgf+Ggfh5/0Fbr/AMF0/wD8RR/w0D8PP+grdf8Agun/APiK77+x9N/6B1p/34X/AAo/sfTf+gdaf9+F/wAKAOB/4aB+Hn/QVuv/AAXT/wDxFH/DQPw8/wCgrdf+C6f/AOIrvv7H03/oHWn/AH4X/Cj+x9N/6B1p/wB+F/woA4H/AIaB+Hn/AEFbr/wXT/8AxFH/AA0D8PP+grdf+C6f/wCIrvv7H03/AKB1p/34X/Cj+x9N/wCgdaf9+F/woA4H/hoH4ef9BW6/8F0//wARR/w0D8PP+grdf+C6f/4iu+/sfTf+gdaf9+F/wo/sfTf+gdaf9+F/woA4H/hoH4ef9BW6/wDBdP8A/EUf8NA/Dz/oK3X/AILp/wD4iu+/sfTf+gdaf9+F/wAKP7H03/oHWn/fhf8ACgDgf+Ggfh5/0Fbr/wAF0/8A8RR/w0D8PP8AoK3X/gun/wDiK77+x9N/6B1p/wB+F/wo/sfTf+gdaf8Afhf8KAOB/wCGgfh5/wBBW6/8F0//AMRR/wANA/Dz/oK3X/gun/8AiK77+x9N/wCgdaf9+F/wo/sfTf8AoHWn/fhf8KAOB/4aB+Hn/QVuv/BdP/8AEUf8NA/Dz/oK3X/gun/+Irvv7H03/oHWn/fhf8KP7H03/oHWn/fhf8KAOB/4aB+Hn/QVuv8AwXT/APxFH/DQPw8/6Ct1/wCC6f8A+Irvv7H03/oHWn/fhf8ACj+x9N/6B1p/34X/AAoA4H/hoH4ef9BW6/8ABdP/APEUf8NA/Dz/AKCt1/4Lp/8A4iu+/sfTf+gdaf8Afhf8KP7H03/oHWn/AH4X/CgDgf8AhoH4ef8AQVuv/BdP/wDEUf8ADQPw8/6Ct1/4Lp//AIiu+/sfTf8AoHWn/fhf8KP7H03/AKB1p/34X/CgDgf+Ggfh5/0Fbr/wXT//ABFH/DQPw8/6Ct1/4Lp//iK77+x9N/6B1p/34X/Cj+x9N/6B1p/34X/CgDgf+Ggfh5/0Fbr/AMF0/wD8RR/w0D8PP+grdf8Agun/APiK77+x9N/6B1p/34X/AAo/sfTf+gdaf9+F/wAKAOB/4aB+Hn/QVuv/AAXT/wDxFH/DQPw8/wCgrdf+C6f/AOIrvv7H03/oHWn/AH4X/Cj+x9N/6B1p/wB+F/woA4H/AIaB+Hn/AEFbr/wXT/8AxFH/AA0D8PP+grdf+C6f/wCIrvv7H03/AKB1p/34X/Cj+x9N/wCgdaf9+F/woA4A/tA/DsAk6tcgDqf7Pn/+IpF/aD+HTqGTV7lgehGnzn/2Sum8ZaVpyeBdeZLC1Vl024IIhUEHy29q5j4FabYz/BTw/JPZW8jsk2WeJST++fuRQA//AIaB+Hn/AEFbr/wXT/8AxFH/AA0D8PP+grdf+C6f/wCIrvv7H03/AKB1p/34X/Cj+x9N/wCgdaf9+F/woA4H/hoH4ef9BW6/8F0//wARR/w0D8PP+grdf+C6f/4iu+/sfTf+gdaf9+F/wo/sfTf+gdaf9+F/woA4H/hoH4ef9BW6/wDBdP8A/EUf8NA/Dz/oK3X/AILp/wD4iu+/sfTf+gdaf9+F/wAKP7H03/oHWn/fhf8ACgDgf+Ggfh5/0Fbr/wAF0/8A8RR/w0D8PP8AoK3X/gun/wDiK77+x9N/6B1p/wB+F/wo/sfTf+gdaf8Afhf8KAOB/wCGgfh5/wBBW6/8F0//AMRR/wANA/Dz/oK3X/gun/8AiK77+x9N/wCgdaf9+F/wo/sfTf8AoHWn/fhf8KAOB/4aB+Hn/QVuv/BdP/8AEUf8NA/Dz/oK3X/gun/+Irvv7H03/oHWn/fhf8KP7H03/oHWn/fhf8KAOB/4aB+Hn/QVuv8AwXT/APxFH/DQPw8/6Ct1/wCC6f8A+Irvv7H03/oHWn/fhf8ACj+x9N/6B1p/34X/AAoA4H/hoH4ef9BW6/8ABdP/APEUf8NA/Dz/AKCt1/4Lp/8A4iu+/sfTf+gdaf8Afhf8KP7H03/oHWn/AH4X/CgDgf8AhoH4ef8AQVuv/BdP/wDEUf8ADQPw8/6Ct1/4Lp//AIiu+/sfTf8AoHWn/fhf8KP7H03/AKB1p/34X/CgDgf+Ggfh5/0Fbr/wXT//ABFH/DQPw8/6Ct1/4Lp//iK77+x9N/6B1p/34X/Cj+x9N/6B1p/34X/CgDgf+Ggfh5/0Fbr/AMF0/wD8RR/w0D8PP+grdf8Agun/APiK77+x9N/6B1p/34X/AAo/sfTf+gdaf9+F/wAKAOB/4aB+Hn/QVuv/AAXT/wDxFH/DQPw8/wCgrdf+C6f/AOIrvv7H03/oHWn/AH4X/Cj+x9N/6B1p/wB+F/woA4H/AIaB+Hn/AEFbr/wXT/8AxFH/AA0D8PP+grdf+C6f/wCIrvv7H03/AKB1p/34X/Cj+x9N/wCgdaf9+F/woA4H/hoH4ef9BW6/8F0//wARR/w0D8PP+grdf+C6f/4iu+/sfTf+gdaf9+F/wo/sfTf+gdaf9+F/woA4H/hoH4ef9BW6/wDBdP8A/EUf8NA/Dz/oK3X/AILp/wD4iu+/sfTf+gdaf9+F/wAKP7H03/oHWn/fhf8ACgDgf+Ggfh5/0Fbr/wAF0/8A8RR/w0D8PP8AoK3X/gun/wDiK77+x9N/6B1p/wB+F/wo/sfTf+gdaf8Afhf8KAOB/wCGgfh5/wBBW6/8F0//AMRR/wANA/Dz/oK3X/gun/8AiK77+x9N/wCgdaf9+F/wo/sfTf8AoHWn/fhf8KAOB/4aB+Hn/QVuv/BdP/8AEUh/aC+HYGTq1yAO50+f/wCIrv8A+x9N/wCgdaf9+F/wrnPiDpWnx/DrXXjsLZWWykIZYVBHH0oA39C1yw8SaJbatpExms7pN8UhQqWH0IBFFcr8Ff8Akjnh3/r1H8zRQB21x/x7S/7h/lXkv7M3/JH0/wCv+b+S161cf8e0v+4f5V5L+zN/yR9P+v8Am/ktAHr1FFFABRRXnfi3wnHYeG/Fuuz3d1NfSwz3FuftDhbYBPlCrnAxjOcdT9KAPRKK+evgbpT+PPhrrA1rUb97z7SY4btLpxJF8gwQc9jzg8V6D4Z+KelXv9p6Ktnqb6n4btM6hG8aAsY8K+078McgnrzQB6JRXGaJ8UNF8Q+BL/xZpltfPYWDOs0bRosvyAFiAWwcA569qx7P47+FL+w066s7fVZlv7oWqolpuMTFsAvhsAc+pOO1AHpdFfP1j4jvNI/an8QWQOo3ljHAGi0+1DSfM0MbHC5wOSTk4HNem6D8SNE8ZaHq8ukJfC405WS7sXjWO5iOD2LY7HBz2oA7SivG/hV4o0DQ/hbrGtabe69rNhY3Dy3DXsaeagwCdq78YA5PPrxWqfj74UXQbXWmstZGm3ExgN19j+SJs9GO7HvgZNAHp9FYOveM9G8O6dZXd9Oz/wBoSLFZwwrukuXboqj8epwB3o0Hxhp2v6pqGlwpPa6lprBbqzuVUOmejfKSpB9QTQBvUVxvxZUr8LtcuI3eKe3tjJFLGxVkYEcgivL/AAIbDVP2eJtY8QaxPBqMYuGW9+2skqsrHZ357cUAfQVFeTfAXxRr+r/DW5v/ABlPIYrSVhDeXPBeFVyWYnqBzz7Vq3Hxs8MWunWWqzQ6gNGvrhreHVBEhhLg4OV3+Yo46lRQB6JRXlXxn+KN14J03TbPRrSd7rVnAivAo8uNMjdt9XwRgdBnOe1dfqPjvTtI0uyutVtb20ub+cW1pp8kQ+0TSE4CqoYjv1Jx6kUAdNRXO6V440jU7zVbORpLC90cZvba7Cq0K43BsglSuO4JrzD4m/Eux8SfCbVtQ8N2urRwwyrFa6uIdkTOHAYKwbcBjjJAB6ZzQB7jRXHfCS6nvfhJ4dubyZ555LMM8kjbmY5PJNcR8a/iPq+leIdI8E+Fbj7HqGqMnn3g+9EjttG30PU59qAPaKK5DTvhnoNjpqQuLqe82Ye/e6fz2bu2/OQcknjioIdStfhd4Lkm8ZazLcRi8cR3UxMks29iUU+rY/DjNAHbUVyFj8SdIufGi+Fb21vdM1aSETQxXaxlZkPQq0bsOx6kdKz3+MOiJ4yu/C39maw+sWoJNvFbK5kwAcLtc5yDnnAx1xQB39Fcp4S+I+geMbO/m0+Sa1k01it7b3sYjkgxnJYZIxweQe1Y9z8avDFrpdrq8kV+dFurg28eqLEhh3g4OV3+YB7laAPQ6KwvEHjDSfDdvZPfSvJLqEqw2VvAu6S4c9Ao49RycAVgf8LH0XXtD8TW8MWqW13o8Ei39sqotzAu05dDuKkgAkYY9KAO8orxLwb440rwd8BbvXNDk1jXoLW5kRWv0CuJDt64Y7UGR3J5NbXhX4qzp8K7fxL4j0bWJlSLzrm6ggjKMGZvmQbwSo4HTigD1OiuPs/iVpmoeBYvFdjp+o3FhLKsSxxpGZSWcIPl392IGM556V1sTmSFHeNomZQTG+Nyn0OCRkexNAD6KKKAMTxp/wAiFr//AGDbj/0U1ct8Bf8Akh/h7/cm/wDR0ldT40/5ELX/APsG3H/opq5b4C/8kP8AD3+5N/6OkoA9EooooAKKKCAykEZB4IoAKK+cPDV7dy/tWalo0t3O+mQvIY7RpWMa4RSMLnHUmvXvG1nDLrXhhmDAyaosUm1yu9PLc7Wx1GQDg0AdjRXD618VdC8O+NLfwrqNpqSX1woMBitxIkgwcbdrFjnGAMZzU/hP4m6N4w1HVNN0611C31HS8+fZXkKxyHnHHzEdeOSKAOxorxn4V65otofHGp6TeeItVktp1murS/jTdGf3nyphiCflYEnHAFanwe+JeoeP01K6vdNu0ikvH+zyKqmCCMKMIWznd36d6APUqK5n4jRhvhzrkoLJLDZSSxSIxVkYKSCCOleA+Eta066/Z/1TUde1+5i16O5lWzlF64nZgqbFAz8wznj60AfUlFeHaPfeLLz9mTW7zxe9xHqFvayy2dxISsxRVyjE9c5zz3FbHw28cWXh/wCA+k674s1GQhmdPMkJd5GLsAo9TQB6zRXH2PxL0i58bL4TvbW+0zVpIRNDFdrGVmQjIKtG7DoD1I6UmqfETRo/FE/hW1s77WNQjgMl3DYwq6wR9CXLMPUcDJ56UAdjRXhH7Pmu3Wo694xa8vria0guSYRcO2Ik3Njhvu8V6BH8WfDklvFfKLz+yZr02MeqGIfZ2l6YB3btueN23bnvQB29FJw69ipH5180fFh/EHhDxNJ4u8PX12llZaqIZrQSt5I+RGA29AGywP1oA+mKK4nWPE6+IPAdhN4duGWXXoQYJYz80Sbd0jexUAj68V5t+zVfXeqXvieTVby4vGtJY0ha4lL+Wvz5xk8ZwPyoA9/orgNQ+Mnhyx0y51SOC/vdKtLr7LcX9rGjRxSehUuHI9wpFbGs/EDQ9G03SLxpJLsa2yLp8duF3XG9dwI3FQBgg5JA5oA6eiuVl+IWk2fh/WNX1aC80230eQRXSXUQD7yFIC7SQ2d6gEHBJ9Oan0Txnb63fwWi6bqFm9xbfaoWuETY8fHIZHYZ56dR3xQB0dFZviGBLjw5qCSD/l2kIIOCpCnBHuK+afh9fDUPg74x1PXtevI9Q093NjdG8dZEcRgoAM85bAx3zQB9UUV5F8KfH9/bfB1/EHxGunihtpWWO7nU75k7cdWOeB6122nePdNvtfg0We2vNP1C6tBeWsN2iKbiI91KsQCMcqcEelAHT0V5sPjp4WF5q9nLbapHd6SD51v9mVncg4IQKxzjqTwAO9dx4f1u28SeH7PWLGOaO3vI/MRJ02Oo9COxoA0aKKKACub+In/JN9f/AOvGT/0Gukrm/iJ/yTfX/wDrxk/9BoAyfgr/AMkc8O/9eo/maKPgr/yRzw7/ANeo/maKAO2uP+PaX/cP8q8l/Zm/5I+n/X/N/Ja9auP+PaX/AHD/ACryX9mb/kj6f9f838loA9eooooAK5j4kXEUHw51xJZArzWM0cSdWkcocKo6k+wrp6KAPDP2YA1h4R1Kwvke2u2vPMWCZCjsu0cgHqKwNDkl8MfGn4kLqljeiTU7a4+xJFbPIZ97blIIGMY7kgcGvpKigD53+Fge0/Zy8XWd3FJb3W+5/cSoVc74lC4U8nJ4GOp4rq/2b7dLb4VrbXEHk3iXkryxSoVcc/KSDz06GvXaKAPArIPo37VniDXdViltNJMSw/b5Y2WDf9nj+XfjGfxp/wAMdAvLfxL4+8bX0MljpWpCaOyEyFDMpctvCnnHQA98mveqKAPmP4YxyWX7OvjexvIZYLuRJRHBJGyu+6PC4UjJyeOKx72Cc/sr2OlrbTm//tVibURMZAM5yVxkDHevrSigD54+K+n6rNpnw+8XaTa3V9Y6Qim5jtlJeE/Id2ByPukE9iBXo/gKHwvqusz+JvDdlqDT3UAS4vrxHTd0+QBgNxGOo4HrXoFFAHFfF64ji+FeuQM2Zri2McMSjLyNkcKBya8S8L/DODxz8BILO3jFn4n0ueeaJJU2PIC2QrA8kEYwexr6iooA8a+GPxDvb7wHf6L4l0W4/tnSbSVUs3tygv1RD8i8YLHGMd+teReKE1fxJ8JIZYdA1G0aDU2JsbewaO2t0IONvd2J6nmvsKigD5/+PNhfax4Y8DanptheT21rNmcrbvuiDCPBZMbh909RU/xwt9UudX8IeNNJsL+80zTbgPPFFEySqocNu2kblyARkjiveaKAPHzouheM/DniLUvBNpqD6hqemmF767V4/MbAxF84G48YyOB6153b6sIf2Xr7wbNYX8evWczJLZ/Y5Nyg3G8OTjAHzY69RX1JRQBxPwdWSL4SaBb3EE9vNBaiOSOeFo2U5PZgPzrgfjh8P9aufF2j+OvDVnJqMunGMXNpEMyMqPuBUd+pHHNe6UUAcfp3xQ8MahYxyrdyx3TKN1i1tJ9oVsfd8vbkn6cVzfxj129j+FyXaeEm1Cae4VVt7qHzfsw5xIyr0Pt74NeqUUAfNEUF9/w0D4S1qWw1prSSyiDXF3ZOGL4cH5VB2qMjjjA9uas2Or2miftea/eaizx2625DyLGzhP3MfJ2gkD3r6OrzXTPhjf2HxmvfHbahbuLxTG1oEYbVKheG9flFAHFfC2wvpPF3j/xnBpVxPpV1HKLO3aIr9uIy21VPUHGP+BVwHiQar4j+ETPD4c1KxeHUy32G2sWjtoEI4I7sxPU84xX19RQB89fFCz1i2vPh/wCOdN0+8vbDR44/tFuIHDxEFTuKEZGcY5HYV3114j8P+IPAHiXVtD06aD7XpkwlupbMwmaQxsFQEgF2yccZGTXo9FAHzN4L0i/vf2VfEWjwWk51JbqSUWnlMJWX93yF6nofyr1D4PiDVPg3pui3tncqI7M290txbtGuSWBUbgN3HPGRzXpNYPjLRdV17w81noOtS6LeeYjrcxDOQDkqe+DQB5P8IfC2t6F401rwpqK50LRb0XtuWB/eOwPlgewHzf7wU17tWZoelzabZsb+4W7vp2D3FwqbQ7YAGB2AAAFadABRRRQBieNP+RC1/wD7Btx/6KauW+Av/JD/AA9/uTf+jpK6nxp/yIWv/wDYNuP/AEU1ct8Bf+SH+Hv9yb/0dJQB6JRRRQAUUUUAfOt9p1x4E/afm8Ta3bXEWhagD5d8kTPGhZFGGKg45B/OvWJdTtPGGvaGdD8y7s7G5a7nvBEyxLiNlVVYgBmLMOBnAHPbPZUUAeDeMpM/tVeFrtUkNraw+VPOIyY42ZZAAW6Dlh+dQ/DBvs/7QfjS9uFeK1uA5hnkQrHIA2SQx4PFe/0UAfPXwQim/tH4kW7QTRyai2+0EkZTzh++5XIGfvr+dbH7NMdzpPhTUdG1KxvLW9jvnd0mtnRVG1R94jHXsDmvbaKAOW+Jd1Fb/DjXElfEk9lLFEg5aRipAAHUmvD/AIZnQ7b4FatpXiTR57jU3uJzDaDT5HnbKJsK4XI5HXPavpmigD5z8KaR4q0H9nHxZB4uS6jN3A8en2c+WmG5cYC9Rk/w9sE1Hb6lc6T+zBpcEHhsaxeR3DRvb3Fsz/Zm3MQ7JjPfjtX0hRQB80LBer+0H4T1mSw1t7OWyi/0m7smDM3zg/KoOwAkDBxgc9ME7Hhtpvh/+0F4ouPFFvdRWmtRs1ldpbvKsx3Bgg2g8kZ49q9/ooA+bfhJpWpalH8R7OOyvLSXVhcLavPbuikkuMFsbQecYzUfwxi0mbwk/gTxzo+s/wBp2V2zRWCxSbJcvuDAgYXDE8kgdDmvpaigCKBFt7ONMeWkcYGCc7QB6152tro/juy8ZeHXuEf7bcHy2KkZ/dqA6Z+8Aw6ivSaKAPFPg34W1Lwh8P8AUrjxfIYGt3ubWyimOBDHuw+3/fdePUAY61h/s07tOvfFMV/FJbS3Usb28c8ZjMwG/O3I569q+h6KAPlHWJ9T8SfD/wAVxQ+FtT0pkvFkj0+0sGSFQG+Z3bq7+w6eldnfaLonij4N+CtK8TC/06aOyCQaibd1+ySxxgYcEcIemenA57173RQB4B4TTUbv4S+JdL8fR3Ot6HFeQWtreQRMZZ4zKieanG5gmVYHnoRU3wh0/WvDfxHutB0rVm1zwnHbGRblkOLdyeEyejdcqPyFe80UAZfiW8gsfDOoTXMgRfs0gGerEqcADuT6V4Z+zboumS6XrEPiDSoftzXnmQR39sN5TYOVDjnkHp0r6HooA8p/aD8L6n4g+F4h0C2edrO4WZraBclkAI4UdcZ6CovAt34Y8Z3+ka0mn6rJr2nxbZ3u0kVbMgfOCxG05OcAc+oFet0UAeAfB+IJ8evGtzPCyJd7xayyRlRKPMyQpI54GeOwr38AAAAYA6AUUUAFFFFABXN/ET/km+v/APXjJ/6DXSVzfxE/5Jvr/wD14yf+g0AZPwV/5I54d/69R/M0UfBX/kjnh3/r1H8zRQB21x/x7S/7h/lXkv7M3/JH0/6/5v5LXrVx/wAe0v8AuH+VeS/szf8AJH0/6/5v5LQB69RRRQAUUUUAFFFFABRRRQAUUUUAFFFFABRRRQAVyeu+MTD4ysPCGiCOXWLuM3EzyKWjs7cdXYAjLEjCrkepIHXrK8O8CmV/2rvGpvs+elhiIHnEe+HH6bfzoA0fjB498ZeA5BceHvsN5ZRwJLcC5tyXj3MVByrAYyB27iu68NeNrHxB8PLXxUCEgktvNmRTkxuo+dB77gQPXj1qrrekWev+L73SdSjElreaJ5Uq+xkYZHuOo9xXj/wX0jX9O8U658PdUjLabpl4t1PIc4bB+UAej/K34UAb/gj4qeMPEvxiufCeqpp9lbW4leQQwkyAKOF3FsZ5GTirPiT4neJ/CPxo0zw3rkliugajKnl3a25EgRuACS2OGwCcdOa5bwHx+194j+t1/Su1/aL8GHxH8O31W0j3Xuik3AI6mL/loPwHzfgaAIPjF8SPFXw31zS5bNrGbRb99sjS25aWIgjcAQwB+Xkcdq73XtYvF8N6fP4eu4WvNQlhjtnli3pLv5JIBHAXc3B7V5Rb6DqPxh+CL6trUJ/tCOxEWnZGS7xH5pPq5GPwrS/Z5n1XxB4Vs7nWoyLbQBJY2LN1kdjlmP8AuJtQH3agDvdT8XS+F/FumaXr5jex1hvJtL1F2+XOMfu3GcYbPB/A+tddXin7UZCfDfTpELLcLqkZiK9R8j9PfOK9mtTKbOE3IxMY18wDs2Of1oAlooooAKKKKACiiigAooooAKKKKACiiigAooooAxPGn/Iha/8A9g24/wDRTVy3wF/5If4e/wByb/0dJXU+NP8AkQtf/wCwbcf+imrlvgL/AMkP8Pf7k3/o6SgD0SiiigAooooAxPFc2vRaVEvhVYDfzXMce+4jLxxoT8zkAg8D3ry/x58R/GHgz4iaB4ZjvNNu01SNGkuGsWQoWkZOB5h9PWva6+cfjl/ycD4K/wCuMP8A6PegD15NY1jQfFb2/ivVdMOjzW2+1uPK+zsJQ2CjZcg8HIxj9K6CTX9IiuobaXU7VJ5wpijaZQzg9MDvmvJv2pY93wrsnCZKatFlsfdBjl/riuR+ILRHx78I9hQyfZLbdjGcZjxmgD6Il1zSoNSXT59Rto7xiAtu8oDnPTjrXI/Erx1J4f8AhtqviLwpe2N1caZLEkiN+9TLSqhU4III3569q82+MFjDf/tJeB7WbcqXEUSOUO1iPOfuK6L4v+D9D8JfAbxWnh6wSzW7ltpZVQk7m+0xDvQB2/gvxtaa74X0a41S/sYtVv7ZZWtkkCkk+ik5qh4417xLY+K9AsvDF5o8dvJMf7QivZlWQqSNu0E5xjd05zivGvHumWNt+zh4Pv8AT7WOLUzJD5U0K4lZjnPI5Jzitr4uLcDxZ8KJdSVRftkXJ7lgYM/qTQB7vJr+kQ35sZdTtUuhnMLTKH4GTx9Kfpus6brCO+lX9veLGdrmCUPtPocV4L43sLXUP2uPDlreQpLBLAPMjYcPiOQ8+vSnfCzfp/xy+IVtpUSxokbmK3jGE3BvlAHTrQB7xNrOmW96tnPf20dyxAETSgMSenFXa+Yfhdp9z8Q/AfivR77VbS21KbU/td1cXKM1ymAu1wdw4BVvp+NfR+hxvDoNjHLdC8dIFU3AGPNwMbse9AGFfeLjdeOI/CWhFGvY4vtF9cOu5bWLsAO7t2zwOpz0qC++J/h+y8e23hX7bC100bvdSmQBLfauQpP94nt/9auE+EZmf44/ERrz/j4Eyj5uuzd8v4YxWbHY2B/bGvoZ7W2MH2AOUeNdufIUk4PGe+aAPc73WNN06ON7++t7dZPuGWQLu+metPfVLCPT/t0l5AtpjPnmQbMfXpXiXhiS51H9q3xHFrKiWG10mQWSOMqke+EKVHQZUnp6msH4d3F5L8NPibZtvfSbc3AtFcZVDhuF/DFAHv58VaAI4XOtWO2dtkR+0L859BzzV291Ky023E+oXcNtETgPK4UE/jXyONLsV/ZNGpC1i+2/2sQLgr86jeBgN1A9hXpfi/Qdf8TeFfBGqeFtRjPiDS7H7ZFYTH/j5UKgZlzwSMgc/wB7tQB7da39pfRNJZ3MU6KcFo3DAH8K86/4S3xPqHgbVfEukT2w83UpItIhmg3I9ur+UpbBByzKzZz3Fct4a8dvqXws8QLa6QNI8Q3F8NNlgQbUa6m+TeB/CQMkjsRXo2t6VBofw+0/SrRdsNm1rCg9lZRmgDmvgx8VNQ8dyavpXiaG3ttZ02TJjgUoGjzg8Ek5DDB+orE+Mfxi8ReCNTiXw3BYvZBzBJJcxs5aUAMQMMOACB+NYHxE0fVfh38ftG8U+F7Uyx67L5DQJwskrYV0P1yGHuPaqf7Sml/2P4U8L2jMJJhLK88gH+slYAu34kmgD0/4r+KPF3gjwRb69oElneeSVW9W4tieG/jXawwAexzwevFNuPG2val8Do/GXhi5s5r+G1NzPDNbko+3/WIAGBUqAccnOMd813eq6Rba/wCGbjSr5Q0F3bmJwR6jrXz78G7HW49c174ZajEW0uyvBcXcjdPKUnMQ/wCujBP+Ah/WgD1D4Q/EGfx94Fm1XVbm3ivYJHS4WKPYkIAyG5J4xzye1W49e8TWngP/AISe6EF4V33Jskg8svabiUIOSRJsw3PGSRjvXjvhXw9q/hP44a54E0+Nv7I1hfNkPOEts7iR+GU/GvozWkRPDWoJgCNbSQY7AbDQAuha3Y+I9DtNW0qXzbS7jEkbdDg9j6Gr9eQ/s0tO3wrcS58lb+YQc8bcjOPxzXr1ABRRRQAVzfxE/wCSb6//ANeMn/oNdJXN/ET/AJJvr/8A14yf+g0AZPwV/wCSOeHf+vUfzNFHwV/5I54d/wCvUfzNFAHbXH/HtL/uH+VeS/szf8kfT/r/AJv5LXrVx/x7S/7h/lXkv7M3/JH0/wCv+b+S0AevUUUUAFFFFABRRRQAUUUUAFFFFABRRRQAUUUUAFcdrfg518e2PjTQwv8AaMMJtLyBiFW7gPv2dTgg98AV2NFAGOvhjSm11ddNvOupFAvmm6lyF67Nu7btz2xir66daJcXNxHAsc90qrNKmVZwuQMkc8ZNWaKAOVtfhn4SstdOtWmlGLU2cu14t1N5rE9SW35Oe+etdPLFHPC8MyK8cilXRhkMDwQafRQBW07T7TSdMttP06Bbe0tY1ihiXoigYApumaVY6NZCz0u2jtbcO8gjjGBuZizH8SSat0UAcd4g8IyeL/F2lXOsIqaTok32mGDIJuZ+NrN6KuOnc+1djRRQAUUUUAFFFFABRRRQAUUUUAFFFFABRRRQAUUUUAYnjT/kQtf/AOwbcf8Aopq5b4C/8kP8Pf7k3/o6Sup8af8AIha//wBg24/9FNXLfAX/AJIf4e/3Jv8A0dJQB6JRRRQAUUUUAFcvq3w38Ka7q6aprGlfbL6PHlzy3MpaMAkgL83ygEk4GOtdRRQBl6v4b0jX9BfRtas1vrBwA0U7sxOOh3E7s++c1gp8JPA0Qs/K8PQI1ic28iyyB4znOd+7cSCBgk8V2VFAHPan4D8N6zr8Gt6lp3n6nbhRDcm4kDRBem3DfLzk8dyT3rT1fRdO1/SZNM1m0S8spShkglyVfYwdc+vzKDjvjmr1FAHN2/w+8L2t5bXMOkpm0cyW0TSyNDbsepjiLFEP+6op+u+BPDfibUrfUNd00Xd1bDEEjTSAxc5+UBgBz6V0NFAHOXXgDw1e+IodeutOMuqwFTFdtcS70x0wd3FO0rwJ4c0TXZ9Z0zTvI1G4z51wJ5GaXPXdliD+NdDRQByd38LfBN94gOt3XhyzfUC+9pcMA7erIDtJ+orq1AVQqgAAYAHalooA4y68Hzab8Rf+Ev0IKz3UAt9RtSdvnKPuup/vD0PWtbUvBfhzWNdg1rU9HtrjUbdQsdw6/MB2B7HHvmt2igDH1TwpousahFf31l/psMZiS6gleGUIeq70IYr7ZxSJ4R0KLw03h+DTYodKdSr20JMYYHrkqQTnvk8962aKAOSPwt8GnQRop0VTpgm84Wnny+WH/vY3Vdm8DeHprawheydRpqNHZvHdSpJbq2MhXVgw+6O9dBRQBg2ngnw7Yx2iWumogs7lrqL945PnMCDIxJy7cnls1b1vw7pniO2S31iB7iFGDiMTyRrkHIJCsMkEcZ6Vp0UAU20mykWzWaAT/YZPNt2mYyNG+0ruDMSc4Zhn3rH8Q/D7wx4suUn8R6WNQeMYTzp5NqfRQ2B+ArpKKAILKyh0+0S2tvM8qMYUSStIQP8AeYk/rUdtpVjaajeX9tbRx3d6UNxMo+aTaMLn6CrdFAFT+yrH+2P7V+zR/bvJ8jz8fNsznb+dZ3i2z1PVdBn0vRysUl6hie5c8QoeGOOpOCcCtyigDK8M+HbHwp4cs9F0pNltaRhFz1Y92PuTzWrRRQAUUUUAFc38RP8Akm+v/wDXjJ/6DXSVzfxE/wCSb6//ANeMn/oNAGT8Ff8Akjnh3/r1H8zRR8Ff+SOeHf8Ar1H8zRQB21x/x7S/7h/lXzL8GLb4py/D5W8EXuiw6X9qkwl6pMm/jd/CeOlfTVx/x7S/7h/lXkv7M3/JH0/6/wCb+S0AJ9i+PX/QU8Mf9+2/+Io+xfHr/oKeGP8Av23/AMRXr9FAHkH2L49f9BTwx/37b/4ij7F8ev8AoKeGP+/bf/EV6/RQB5B9i+PX/QU8Mf8Aftv/AIij7F8ev+gp4Y/79t/8RXr9FAHkH2L49f8AQU8Mf9+2/wDiKPsXx6/6Cnhj/v23/wARXr9FAHkH2L49f9BTwx/37b/4ij7F8ev+gp4Y/wC/bf8AxFev0UAeQfYvj1/0FPDH/ftv/iKPsXx6/wCgp4Y/79t/8RXr9FAHkH2L49f9BTwx/wB+2/8AiKPsXx6/6Cnhj/v23/xFev0UAeQfYvj1/wBBTwx/37b/AOIo+xfHr/oKeGP+/bf/ABFev0UAeQfYvj1/0FPDH/ftv/iKPsXx6/6Cnhj/AL9t/wDEV6/RQB5B9i+PX/QU8Mf9+2/+Io+xfHr/AKCnhj/v23/xFev0UAeQfYvj1/0FPDH/AH7b/wCIo+xfHr/oKeGP+/bf/EV6/RQB5B9i+PX/AEFPDH/ftv8A4ij7F8ev+gp4Y/79t/8AEV6/RQB5B9i+PX/QU8Mf9+2/+Io+xfHr/oKeGP8Av23/AMRXr9FAHkH2L49f9BTwx/37b/4ij7F8ev8AoKeGP+/bf/EV6/RQB5B9i+PX/QU8Mf8Aftv/AIij7F8ev+gp4Y/79t/8RXr9FAHkH2L49f8AQU8Mf9+2/wDiKPsXx6/6Cnhj/v23/wARXr9FAHkH2L49f9BTwx/37b/4ij7F8ev+gp4Y/wC/bf8AxFev0UAeQfYvj1/0FPDH/ftv/iKPsXx6/wCgp4Y/79t/8RXr9FAHkH2L49f9BTwx/wB+2/8AiKPsXx6/6Cnhj/v23/xFev0UAeHeI7P43r4W1U6nqXhxrMWcxuFjQ7jHsO4D5euM1h/Cy1+Lsnwz0lvCd/oMWkFZPs6XSEyAeY2c/Kf4s17l40/5ELX/APsG3H/opq5b4C/8kP8AD3+5N/6OkoAxPsXx6/6Cnhj/AL9t/wDEUfYvj1/0FPDH/ftv/iK9fooA8g+xfHr/AKCnhj/v23/xFH2L49f9BTwx/wB+2/8AiK9fooA8g+xfHr/oKeGP+/bf/EUfYvj1/wBBTwx/37b/AOIr1+igDyD7F8ev+gp4Y/79t/8AEUfYvj1/0FPDH/ftv/iK9fooA8g+xfHr/oKeGP8Av23/AMRR9i+PX/QU8Mf9+2/+Ir1+igDyD7F8ev8AoKeGP+/bf/EUfYvj1/0FPDH/AH7b/wCIr1+igDyD7F8ev+gp4Y/79t/8RR9i+PX/AEFPDH/ftv8A4ivX6KAPIPsXx6/6Cnhj/v23/wARR9i+PX/QU8Mf9+2/+Ir1+igDyD7F8ev+gp4Y/wC/bf8AxFH2L49f9BTwx/37b/4ivX6KAPIPsXx6/wCgp4Y/79t/8RR9i+PX/QU8Mf8Aftv/AIivX6KAPIPsXx6/6Cnhj/v23/xFH2L49f8AQU8Mf9+2/wDiK9fooA8g+xfHr/oKeGP+/bf/ABFH2L49f9BTwx/37b/4ivX6KAPIPsXx6/6Cnhj/AL9t/wDEUfYvj1/0FPDH/ftv/iK9fooA8g+xfHr/AKCnhj/v23/xFH2L49f9BTwx/wB+2/8AiK9fooA8g+xfHr/oKeGP+/bf/EUfYvj1/wBBTwx/37b/AOIr1+igDyD7F8ev+gp4Y/79t/8AEUfYvj1/0FPDH/ftv/iK9fooA8g+xfHr/oKeGP8Av23/AMRR9i+PX/QU8Mf9+2/+Ir1+igDyD7F8ev8AoKeGP+/bf/EVj+LrT41r4P1U6xqPh17AWz/aFhQ7ymOcfL1r3eub+In/ACTfX/8Arxk/9BoAyPgr/wAkc8O/9eo/maKX4K/8kc8O/wDXqP5migDtrj/j2l/3D/KvJf2Zv+SPp/1/zfyWvWrj/j2l/wBw/wAq8l/Zm/5I+n/X/N/JaAPXqKKKACiiigAooooAKKKKACiiigAooooAKKKKACiiigAoorgdcvfEqaxcprK3lnoQf91caLF5zlPWTq6n/cUigDt5L61huY7eW4iSeU4jjLjcxxngVMzBVLMcADJNc14VsvCksZv/AA5JbX8oO2S783zplPcMxyyn24+ldNQBiaJ4v0fxDq2o6dpNw00+msq3OY2VVLDIAJHPHORxW3Xnfg5QPjJ49wMZNoT7/uq9EoAKKKKACiiigAooooAKKKKACiiigAooooAKKKKACiiigDE8af8AIha//wBg24/9FNXLfAX/AJIf4e/3Jv8A0dJXU+NP+RC1/wD7Btx/6KauW+Av/JD/AA9/uTf+jpKAPRKKKKACiiigAooooAKKKKACiiigAooooAKKKKACudfxrpnlXVxbxXl1Z2bslxd29uXjjK/e56tjvtBxg10VfP8AeajrPgm012HQ5JtT8DTXciXN/DGHl05nY+dsGfnUEkbugOfSgD3q0u7e/s4buzlSa3nQSRyIcq6kZBBqSSRIY2klYIiAszMcAD1rL8LRaVB4T0yLw9IsumJbILV1OdyY4OfWuY8R+L/D154kl8O6n4g03TbWy2tqC3V7HC8zEBliAYg4wQWPTkD1wAdD4b8X6R4r0y51DR5zJaW0zwvK67QSnUjPb3rJj+KXhxtdttMma9tjeP5drc3Fo8cFw3YI5GDnt2PauX+BOpaTd6HrenW17ZTyHU7mX7NHKjMYSwAbaD905xnpU3xW1W60u+0a81zw+tx4Y0++jnlu4LjLxODhHZMDCg88E54oA9UopFYOgZejDIpaACiiigAooooAKKKKACiiigAooooAKKKKACub+In/ACTfX/8Arxk/9BrpK5v4if8AJN9f/wCvGT/0GgDJ+Cv/ACRzw7/16j+Zoo+Cv/JHPDv/AF6j+ZooA7a4/wCPaX/cP8q8l/Zm/wCSPp/1/wA38lr1q4/49pf9w/yryX9mb/kj6f8AX/N/JaAPXqKKKACiiigAooooAKKKKACiiigAooooAKKKKACiiigArDufEc9vdSQroOqTBGKiSOIFW9xz0rcooA5W2Gn6l4mtr+bwpdW2oICFv5bdUZRg8MwOSPY5FdUfaiigDjvDvhbVtK8da9rt5PZyQ6wYiYY926Ly02jkjnPWuxoooAKKKKACiiigAooooAKKKKACiiigAooooAKKKKACiiigDE8af8iFr/8A2Dbj/wBFNXLfAX/kh/h7/cm/9HSV1PjT/kQtf/7Btx/6KauW+Av/ACQ/w9/uTf8Ao6SgD0SiiigAooooAKKKKACiiigAooooAKKKKACiiigBGAZSp6EYNcbovhPVfDeh3miaZNY3NhLJK8LXYbegkJLKygYYAk9xmuzooA5K18L6r4b8H6JoXg+/t4U0941nkvIy5lizlwMdCcnFb8+iaXdTNNdaZZzSt96SS3Vmb6kir1FAHE+DPAc3gzQ9XhsZbI6jd3E81vcGD5Y9/Kq2MEqDjIBqa48Pa/4l0VdK8Yzab9lZka5+wB/9ICsGC4YfKCQM8muwooAQAKoA4AGBS0UUAFFFFABRRRQAUUUUAFFFFABRRRQAUUUUAFc38RP+Sb6//wBeMn/oNdJXN/ET/km+v/8AXjJ/6DQBk/BX/kjnh3/r1H8zRR8Ff+SOeHf+vUfzNFAHbXH/AB7S/wC4f5V8y/Bj40+FPAvw+XR9d+2/ahdSS/uIAy7WxjnI9K+mrj/j2l/3D/KvJf2ZlB+D6ZAP+nzdvZaAE/4ab8Aeuqf+Ao/+Ko/4ab8Aeuqf+Ao/+Kr17av90flRtX+6PyoA8h/4ab8Aeuqf+Ao/+Ko/4ab8Aeuqf+Ao/wDiq9e2r/dH5UbV/uj8qAPIf+Gm/AHrqn/gKP8A4qj/AIab8Aeuqf8AgKP/AIqvXtq/3R+VG1f7o/KgDyH/AIab8Aeuqf8AgKP/AIqj/hpvwB66p/4Cj/4qvXtq/wB0flRtX+6PyoA8h/4ab8Aeuqf+Ao/+Ko/4ab8Aeuqf+Ao/+Kr17av90flRtX+6PyoA8h/4ab8Aeuqf+Ao/+Ko/4ab8Aeuqf+Ao/wDiq9e2r/dH5UbV/uj8qAPIf+Gm/AHrqn/gKP8A4qj/AIab8Aeuqf8AgKP/AIqvXtq/3R+VG1f7o/KgDyH/AIab8Aeuqf8AgKP/AIqj/hpvwB66p/4Cj/4qvXtq/wB0flRtX+6PyoA8h/4ab8Aeuqf+Ao/+Ko/4ab8Aeuqf+Ao/+Kr17av90flRtX+6PyoA8h/4ab8Aeuqf+Ao/+Ko/4ab8Aeuqf+Ao/wDiq9e2r/dH5UbV/uj8qAPIf+Gm/AHrqn/gKP8A4qj/AIab8Aeuqf8AgKP/AIqvXtq/3R+VG1f7o/KgDyH/AIab8Aeuqf8AgKP/AIqj/hpvwB66p/4Cj/4qvXtq/wB0flRtX+6PyoA8h/4ab8Aeuqf+Ao/+Ko/4ab8Aeuqf+Ao/+Kr17av90flRtX+6PyoA8h/4ab8Aeuqf+Ao/+Ko/4ab8Aeuqf+Ao/wDiq9e2r/dH5UbV/uj8qAPIf+Gm/AHrqn/gKP8A4qj/AIab8Aeuqf8AgKP/AIqvXtq/3R+VG1f7o/KgDyH/AIab8Aeuqf8AgKP/AIqj/hpvwB66p/4Cj/4qvXtq/wB0flRtX+6PyoA8h/4ab8Aeuqf+Ao/+Ko/4ab8Aeuqf+Ao/+Kr17av90flRtX+6PyoA8h/4ab8Aeuqf+Ao/+Ko/4ab8Aeuqf+Ao/wDiq9e2r/dH5UbV/uj8qAPIf+Gm/AHrqn/gKP8A4qj/AIab8Aeuqf8AgKP/AIqvXtq/3R+VG1f7o/KgDw/xH+0b4G1TwtqthanUvOurOaGPdbADcyEDJ3eprD+Fvx38H+EfhppOh6ub/wC2WiyCTyrcMvzSMwwdw7MK9x8aKv8Awgev/KP+Qbcdv+mTVy3wFUH4IeHsgfcm7f8ATaSgDF/4ab8Aeuqf+Ao/+Ko/4ab8Aeuqf+Ao/wDiq9e2r/dH5UbV/uj8qAPIf+Gm/AHrqn/gKP8A4qj/AIab8Aeuqf8AgKP/AIqvXtq/3R+VG1f7o/KgDyH/AIab8Aeuqf8AgKP/AIqj/hpvwB66p/4Cj/4qvXtq/wB0flRtX+6PyoA8h/4ab8Aeuqf+Ao/+Ko/4ab8Aeuqf+Ao/+Kr17av90flRtX+6PyoA8h/4ab8Aeuqf+Ao/+Ko/4ab8Aeuqf+Ao/wDiq9e2r/dH5UbV/uj8qAPIf+Gm/AHrqn/gKP8A4qj/AIab8Aeuqf8AgKP/AIqvXtq/3R+VG1f7o/KgDyH/AIab8Aeuqf8AgKP/AIqj/hpvwB66p/4Cj/4qvXtq/wB0flRtX+6PyoA8h/4ab8Aeuqf+Ao/+Ko/4ab8Aeuqf+Ao/+Kr17av90flRtX+6PyoA8h/4ab8Aeuqf+Ao/+Ko/4ab8Aeuqf+Ao/wDiq9e2r/dH5UbV/uj8qAPIf+Gm/AHrqn/gKP8A4qj/AIab8Aeuqf8AgKP/AIqvXtq/3R+VG1f7o/KgDyH/AIab8Aeuqf8AgKP/AIqj/hpvwB66p/4Cj/4qvXtq/wB0flRtX+6PyoA8h/4ab8Aeuqf+Ao/+Ko/4ab8Aeuqf+Ao/+Kr17av90flRtX+6PyoA8h/4ab8Aeuqf+Ao/+Ko/4ab8Aeuqf+Ao/wDiq9e2r/dH5UbV/uj8qAPIf+Gm/AHrqn/gKP8A4qj/AIab8Aeuqf8AgKP/AIqvXtq/3R+VG1f7o/KgDyH/AIab8Aeuqf8AgKP/AIqj/hpvwB66p/4Cj/4qvXtq/wB0flRtX+6PyoA8h/4ab8Aeuqf+Ao/+Ko/4ab8Aeuqf+Ao/+Kr17av90flRtX+6PyoA8h/4ab8Aeuqf+Ao/+Ko/4ab8Aeuqf+Ao/wDiq9e2r/dH5UbV/uj8qAPIf+Gm/AHrqn/gKP8A4qsfxd+0R4I1rwfqum2R1H7RdWzxR77YAbiOMndXu21f7o/Kub+Iir/wrfX/AJR/x4ydvagDJ+Cv/JHPDv8A16j+Zopfgr/yRzw7/wBeo/maKAO2uP8Aj2l/3D/KvJf2Zv8Akj6f9f8AN/Ja9auP+PaX/cP8q8l/Zm/5I+n/AF/zfyWgD16iiigAooooAKKKKACiiigAooooAKKKKACiiigAoJx1orz343iaP4X393bXdzbSwPEVMEpTOZVBzjrwT+dAHoXXpRVTSiTo9kTyTbpk/wDARVugAoorn/HcLS+AdcaO4nt3isJ5UkgkKMGWNiOR7igDoAQRkHI9qK4/4TSyT/CXw5LPI0kj2Slndsljk8kmuk1e6ubHRru5sbV7y5iiZorePG6RscKM+9AFyivDfBf9gal41tYPFI8TaP4rMn2lbTULyVILlwdx8sA7WUY+76DvzXuVABRRRQAUUUUAFFFFABRRRQAUUUUAFFFFABRRRQBieNP+RC1//sG3H/opq5b4C/8AJD/D3+5N/wCjpK6nxp/yIWv/APYNuP8A0U1ct8Bf+SH+Hv8Acm/9HSUAeiUUUUAFFFFABRRRQAUUUUAFFFFABRRRQAUUUUABOBk8CivN/jl50Hw+F5bXdzbyxX1qoEMpQMGmUHOOvBNdvf2lxqGgm1tLprSSZEUzp95FJG/b6Ntzg9jg0AaAZWJCsCR1APSlryDxN4SPg3xV4XvPBt7fre3morBc20ty8q3EPWRmDE8gZOa9foAQuqkBmAJ6AnrS15V8VtH8OWWgX9/rOvTWutzKf7Nka+MLLL0jVVBAChsZOMAZJNdbL4eufEHgPTtK1PV5dzQQ/a7uyl2tPhQTtcdATzkUAdRRXkuoeAdM07xz4b0vRr3V/PaRry5MuoyyAQRAZyCf4mZR+detUAFFFFABRRRQAUUUUAFFFFABRRRQAUUUUAFc38RP+Sb6/wD9eMn/AKDXSVzfxE/5Jvr/AP14yf8AoNAGT8Ff+SOeHf8Ar1H8zRR8Ff8Akjnh3/r1H8zRQB21x/x7S/7h/lXkv7M3/JH0/wCv+b+S161cf8e0v+4f5V5L+zN/yR9P+v8Am/ktAHr1FFFABRRRQAUUUUAFFFFABRRRQAUUUUAFFFFABXn3xt3S/C3ULSCKaa4naLy4oYmdmxKhPCg9q9BooAoaHOlxoVk8e7HkIPmUqQQo7HmqniTQ77W4YU0/Xr3RmjYlntFQmT2O4GtqigDL8P6Td6Npptr/AFe61eUyF/tF0qhgCB8vygDAx+tVPHUyxeAtcDB2aWwnijWNC7MzRsAAACeTW/RQBxfwjJT4VaDbSxyxT29oscscsbIyNzwQQKvQ+O9Pm8J3XiBLLUvs1rM0LxG0bziQwBITqRznP1rpqMADAHFAHnutix+Il94bk0aGZ/7M1SHUHvZIGjEKRncYwWAJLcDA4/KvQqAABgDA9qKACiiigAooooAKKKKACiiigAooooAKKKKACiiigDE8af8AIha//wBg24/9FNXLfAX/AJIf4e/3Jv8A0dJXU+NP+RC1/wD7Btx/6KauW+Av/JD/AA9/uTf+jpKAPRKKKKACiiigAooooAKKKKACiiigAooooAKKKKAPN/jlum+HZtLeGae4kvbZ1jhhZyVWZSx+UHoBmuu1DxFaaL4UOryx3E8McQIiggZ5HOOFCgZzW1RQB5TpnxD0qXVP7Wv9M1u51acCG2t10uUJbKx+4GIwCTjc39BXfz+I7aDxRZ6C9vdG5u4GnWVYSYlC9Qz9AeOla9GOc96AOL1PxH4Y8T2Go6PqFhPeshaFrO4sHJdug25XHXo2R61d+HGgXfhf4eaTpGouXubaEh8tu25YkLn2Bx+FdNgAkgDJ6mloA4/wlFLqvinxB4luo2RZJ/7NsQ6kEW8BIZhns0pc/QLXYUAAdBiigAooooAKKKKACiiigAooooAKKKKACiiigArm/iJ/yTfX/wDrxk/9BrpK5v4if8k31/8A68ZP/QaAMn4K/wDJHPDv/XqP5mij4K/8kc8O/wDXqP5migDtrj/j2l/3D/KvJf2Zv+SPp/1/zfyWvWrj/j2l/wBw/wAq+Zfgx8H9H8a/D5dW1DVNWtZjdSReXaXGxMDHOMdeaAPp6ivIP+GcfDn/AEHvEH/gYP8A4mj/AIZx8Of9B7xB/wCBg/8AiaAPX6K8g/4Zx8Of9B7xB/4GD/4mj/hnHw5/0HvEH/gYP/iaAPX6K8g/4Zx8Of8AQe8Qf+Bg/wDiaP8AhnHw5/0HvEH/AIGD/wCJoA9foryD/hnHw5/0HvEH/gYP/iaP+GcfDn/Qe8Qf+Bg/+JoA9foryD/hnHw5/wBB7xB/4GD/AOJo/wCGcfDn/Qe8Qf8AgYP/AImgD1+ivIP+GcfDn/Qe8Qf+Bg/+Jo/4Zx8Of9B7xB/4GD/4mgD1+ivIP+GcfDn/AEHvEH/gYP8A4mj/AIZx8Of9B7xB/wCBg/8AiaAPX6K8g/4Zx8Of9B7xB/4GD/4mj/hnHw5/0HvEH/gYP/iaAPX6K8g/4Zx8Of8AQe8Qf+Bg/wDiaP8AhnHw5/0HvEH/AIGD/wCJoA9foryD/hnHw5/0HvEH/gYP/iaP+GcfDn/Qe8Qf+Bg/+JoA9foryD/hnHw5/wBB7xB/4GD/AOJo/wCGcfDn/Qe8Qf8AgYP/AImgD1+ivIP+GcfDn/Qe8Qf+Bg/+Jo/4Zx8Of9B7xB/4GD/4mgD1+ivIP+GcfDn/AEHvEH/gYP8A4mj/AIZx8Of9B7xB/wCBg/8AiaAPX6K8g/4Zx8Of9B7xB/4GD/4mj/hnHw5/0HvEH/gYP/iaAPX6K8g/4Zx8Of8AQe8Qf+Bg/wDiaP8AhnHw5/0HvEH/AIGD/wCJoA9foryD/hnHw5/0HvEH/gYP/iaP+GcfDn/Qe8Qf+Bg/+JoA9foryD/hnHw5/wBB7xB/4GD/AOJo/wCGcfDn/Qe8Qf8AgYP/AImgD1+ivIP+GcfDn/Qe8Qf+Bg/+Jo/4Zx8Of9B7xB/4GD/4mgD1+ivIP+GcfDn/AEHvEH/gYP8A4mj/AIZx8Of9B7xB/wCBg/8AiaAPRPGn/Iha/wD9g24/9FNXLfAX/kh/h7/cm/8AR0lcl4j/AGfvD+m+FtVvotb115LWzmmVZLsFWKoSARjpxWH8LPgloniv4aaTrV7q+s2890shaO2ugka4kZeBjjpQB9G0V5B/wzj4c/6D3iD/AMDB/wDE0f8ADOPhz/oPeIP/AAMH/wATQB6/RXkH/DOPhz/oPeIP/Awf/E0f8M4+HP8AoPeIP/Awf/E0Aev0V5B/wzj4c/6D3iD/AMDB/wDE0f8ADOPhz/oPeIP/AAMH/wATQB6/RXkH/DOPhz/oPeIP/Awf/E0f8M4+HP8AoPeIP/Awf/E0Aev0V5B/wzj4c/6D3iD/AMDB/wDE0f8ADOPhz/oPeIP/AAMH/wATQB6/RXkH/DOPhz/oPeIP/Awf/E0f8M4+HP8AoPeIP/Awf/E0Aev0V5B/wzj4c/6D3iD/AMDB/wDE0f8ADOPhz/oPeIP/AAMH/wATQB6/RXkH/DOPhz/oPeIP/Awf/E0f8M4+HP8AoPeIP/Awf/E0Aev0V5B/wzj4c/6D3iD/AMDB/wDE0f8ADOPhz/oPeIP/AAMH/wATQB6/RXkH/DOPhz/oPeIP/Awf/E0f8M4+HP8AoPeIP/Awf/E0Aev0V5B/wzj4c/6D3iD/AMDB/wDE0f8ADOPhz/oPeIP/AAMH/wATQB6/RXkH/DOPhz/oPeIP/Awf/E0f8M4+HP8AoPeIP/Awf/E0Aev0V5B/wzj4c/6D3iD/AMDB/wDE0f8ADOPhz/oPeIP/AAMH/wATQB6/RXkH/DOPhz/oPeIP/Awf/E0f8M4+HP8AoPeIP/Awf/E0Aev0V5B/wzj4c/6D3iD/AMDB/wDE0f8ADOPhz/oPeIP/AAMH/wATQB6/RXkH/DOPhz/oPeIP/Awf/E0f8M4+HP8AoPeIP/Awf/E0Aev0V5B/wzj4c/6D3iD/AMDB/wDE0f8ADOPhz/oPeIP/AAMH/wATQB6/XN/ET/km+v8A/XjJ/wCg1wn/AAzj4c/6D3iD/wADB/8AE1j+LvgFoGj+D9V1GDWtckktrZ5FSW7BViB0Ix0oA734K/8AJHPDv/XqP5mik+Cv/JHPDv8A16j+ZooA7e4/49pf9w/yryX9mb/kj6f9f838lr1q4/49pf8AcP8AKvJf2Zv+SPp/1/zfyWgD16iiigAooooAKKKKACiiigAooooAKKKKACiiigAoori9e8Y6no/xJ8N+HvsFt9i1pp8XPmln/dIGPy4AH3l7nvQB2lFFc14w8SXWjR2ljogsZdZv3K2sV/MY4iAMsSRz+XUmgDpaKwPC0vi2WK5PjO20m3cFfs66ZJI4I5yWLge2Me9b9ABRRTXfZGzkEhQTgDJNADqK818SeL/HuhaTP4kTQNNfRrVTNNZtO4uhCOS+fug45x2HrXe6NqsGuaFY6rZ7vs97bpcRhhghWUEA+/NAF2iiigAooooAKKKKACiiigAooooAKKKKACiiigDE8af8iFr/AP2Dbj/0U1ct8Bf+SH+Hv9yb/wBHSV1PjT/kQtf/AOwbcf8Aopq5b4C/8kP8Pf7k3/o6SgD0SiiigAooooAKKKKACiiigAooooAKKKKACiiigAorj/iR4u1LwX4cXVNPsbe6T7RFDIZpSNm9wuQoHPX1FdNdXM8WltcWtsbm48sGOEMF3segyegyeT2HrQBaorz+PxX4u0fxxpOj+KNO06Sz1lnSCfT3cmB1XcQwbqMDrXoFABRXCeMPEHjbRdPv9a0nS9MbTdOjeZ4LmVvPmjQZZht4XgEgV1uiamNa0Cw1NYXgF5bpOIn6puUHB/OgC9RXAw/ESW++LFl4asLVW0ya2nk+2t/y2eM4Pl+qhgVz3IOOBk99QAUUUUAFFFFABRRRQAUUUUAFFFFABRRRQAVzfxE/5Jvr/wD14yf+g10lc38RP+Sb6/8A9eMn/oNAGT8Ff+SOeHf+vUfzNFHwV/5I54d/69R/M0UAdtcf8e0v+4f5V5L+zN/yR9P+v+b+S161cf8AHtL/ALh/lXkv7M3/ACR9P+v+b+S0AevUUUUAFFFFABRRRQAUUUUAFFFFABRRRQAUUUUAFeZ+Pf8Aktfwz/3tR/8ARcVemVh6p4P0fWdfsNZv4rh77TixtZFu5UEW4ANhVYDkAZ45xQBuEgdTiud8U+AvDPjRFHiTSor140KRyMSrxg+hBGKua/4a0/xLb2kOqCYpaXKXUXlTNGd6dMkHke1VNU8E6Xq2vLrMs2oW16IhCz2d9LAHQHIBCMM9TQBz/wAL7fUtF1DxL4Zur2bUdO0e7iSwup23MEeIOYi3fZlR+Ndpf3V9bMn2HTjeA/eImVNv59afp2m2mlWa2unwrDCpJwOSSepJPJJ7k8mrVAGN/amtf9C83/gZHWvGzNErSJsYjJXOdp9M06myxiaF42LBXBBKsVP4EcigDlfFMZ8XW9x4WsHYW048vU7pOkcR+9Gp7uw49gSa6WxhtbWxhtdPWNLa3QQxpGcqir8oX8MY/CuLHwZ8FhnYWV+C7F2I1W65J6n/AFldfpOlWeh6Tb6bpkXk2tumyNCxYge5JJJ9zQBcooooAKKKKACiiigAooooAKKKKACiiigAooooAxPGn/Iha/8A9g24/wDRTVy3wF/5If4e/wByb/0dJXU+NP8AkQtf/wCwbcf+imrlvgL/AMkP8Pf7k3/o6SgD0SiiigAooooAKKKKACiiigAooooAKKKKACiiigDzj47f8kvk/wCwhZ/+j0r0O3/49Yv9wfyrL8SeFtK8WaetjrsUs9srrJ5aXEkQLKcgnYwzggGpdS0Cy1Xw/Jo12bg2kiKpK3DrIMEEHeDuzkDvQBwPja18QeHfHeheJLDVWvra6vY9Ol06aFcRpIeWjIGQRjJPtXqORnGefSsXTfCmnadLBLvu72a3GIZL66knMfb5d5IB9xUk/hvT7nxVaeIZRN9vtIGt4iJmCbW65TOCeTz/APWoAy/iD4Z1LxR4ZuLPS9bl0t9hYhYldJsc7XBH3TjBHcZzkcVysHirxPrPwo0C7TRLy7udRBS/Om7VdI1JBK5Ixvx1HTJx2rroPAWkQTXLLNqbw3Tl5bV9RmMLEnJ+TdjB9OntXRwwx28CQwRrHFGoVEQYCgdABQB4VL4jvE+OPhlovBuqWS2+ly20VkwjDbM43DBxtUV7xWXP4c0u48TWviCa3LanawtBDN5jDajdRtzg/UitSgAooooAKKKKACiiigAooooAKKKKACiiigArm/iJ/wAk31//AK8ZP/Qa6Sub+In/ACTfX/8Arxk/9BoAyfgr/wAkc8O/9eo/maKPgr/yRzw7/wBeo/maKAO2uP8Aj2l/3D/KvJf2Zv8Akj6f9f8AN/Ja9auP+PaX/cP8q+Zfgxq/xJsvh8sXg7QdPvtN+1SETXE21t/GRj8qAPp6ivIP+Ej+Nn/Qp6P/AOBJ/wAaP+Ej+Nn/AEKej/8AgSf8aAPX6K8g/wCEj+Nn/Qp6P/4En/Gj/hI/jZ/0Kej/APgSf8aAPX6K8g/4SP42f9Cno/8A4En/ABo/4SP42f8AQp6P/wCBJ/xoA9foryD/AISP42f9Cno//gSf8aP+Ej+Nn/Qp6P8A+BJ/xoA9foryD/hI/jZ/0Kej/wDgSf8AGj/hI/jZ/wBCno//AIEn/GgD1+ivIP8AhI/jZ/0Kej/+BJ/xo/4SP42f9Cno/wD4En/GgD1+ivIP+Ej+Nn/Qp6P/AOBJ/wAaP+Ej+Nn/AEKej/8AgSf8aAPX6K8g/wCEj+Nn/Qp6P/4En/Gj/hI/jZ/0Kej/APgSf8aAPX6K8g/4SP42f9Cno/8A4En/ABo/4SP42f8AQp6P/wCBJ/xoA9foryD/AISP42f9Cno//gSf8aP+Ej+Nn/Qp6P8A+BJ/xoA9foryD/hI/jZ/0Kej/wDgSf8AGj/hI/jZ/wBCno//AIEn/GgD1+ivIP8AhI/jZ/0Kej/+BJ/xo/4SP42f9Cno/wD4En/GgD1+ivIP+Ej+Nn/Qp6P/AOBJ/wAaP+Ej+Nn/AEKej/8AgSf8aAPX6K8g/wCEj+Nn/Qp6P/4En/Gj/hI/jZ/0Kej/APgSf8aAPX6K8g/4SP42f9Cno/8A4En/ABo/4SP42f8AQp6P/wCBJ/xoA9foryD/AISP42f9Cno//gSf8aP+Ej+Nn/Qp6P8A+BJ/xoA9foryD/hI/jZ/0Kej/wDgSf8AGj/hI/jZ/wBCno//AIEn/GgD1+ivIP8AhI/jZ/0Kej/+BJ/xo/4SP42f9Cno/wD4En/GgD1+ivIP+Ej+Nn/Qp6P/AOBJ/wAaP+Ej+Nn/AEKej/8AgSf8aAPRPGn/ACIWv/8AYNuP/RTVy3wF/wCSH+Hv9yb/ANHSVyXiPX/jFJ4W1VNQ8L6TFaNZzCeRLgkqmw7iOeuM1h/CzWvina/DTSYfDHh3TbvS1WTyJpp9ruPMbOR9cigD6NoryD/hI/jZ/wBCno//AIEn/Gj/AISP42f9Cno//gSf8aAPX6K8g/4SP42f9Cno/wD4En/Gj/hI/jZ/0Kej/wDgSf8AGgD1+ivIP+Ej+Nn/AEKej/8AgSf8aP8AhI/jZ/0Kej/+BJ/xoA9foryD/hI/jZ/0Kej/APgSf8aP+Ej+Nn/Qp6P/AOBJ/wAaAPX6K8g/4SP42f8AQp6P/wCBJ/xo/wCEj+Nn/Qp6P/4En/GgD1+ivIP+Ej+Nn/Qp6P8A+BJ/xo/4SP42f9Cno/8A4En/ABoA9foryD/hI/jZ/wBCno//AIEn/Gj/AISP42f9Cno//gSf8aAPX6K8g/4SP42f9Cno/wD4En/Gj/hI/jZ/0Kej/wDgSf8AGgD1+ivIP+Ej+Nn/AEKej/8AgSf8aP8AhI/jZ/0Kej/+BJ/xoA9foryD/hI/jZ/0Kej/APgSf8aP+Ej+Nn/Qp6P/AOBJ/wAaAPX6K8g/4SP42f8AQp6P/wCBJ/xo/wCEj+Nn/Qp6P/4En/GgD1+ivIP+Ej+Nn/Qp6P8A+BJ/xo/4SP42f9Cno/8A4En/ABoA9foryD/hI/jZ/wBCno//AIEn/Gj/AISP42f9Cno//gSf8aAPX6K8g/4SP42f9Cno/wD4En/Gj/hI/jZ/0Kej/wDgSf8AGgD1+ivIP+Ej+Nn/AEKej/8AgSf8aP8AhI/jZ/0Kej/+BJ/xoA9foryD/hI/jZ/0Kej/APgSf8aP+Ej+Nn/Qp6P/AOBJ/wAaAPX6K8g/4SP42f8AQp6P/wCBJ/xo/wCEj+Nn/Qp6P/4En/GgD1+ub+In/JN9f/68ZP8A0GuE/wCEj+Nn/Qp6P/4En/Gsfxdr3xfm8H6rHq3hjSobJrZxPIlwSypjkgZoA734K/8AJHPDv/XqP5mik+Cv/JHPDv8A16j+ZooA7e4/49pf9w/yryX9mb/kj6f9f838lr1q4/49pf8AcP8AKvJf2Zv+SPp/1/zfyWgD16iiigAooooAKKKKACiiigAooooAKKKKACiiigAooooAKK5bxD8SvCHhXUBY69rcVrc4BaMRvJ5YPTdsUhc/7WK6KyvbXUrGG80+4jubadA8U0TBldT0II60AT0UUUAFFFclqfxT8FaPrkmj6jr9vDqETiN4NjsQxxgcKRnkUAdbRQDlQR39RiigAooooAKKKKACiiigAooooAKKKKACiiigAooooAxPGn/Iha//ANg24/8ARTVy3wF/5If4e/3Jv/R0ldT40/5ELX/+wbcf+imrlvgL/wAkP8Pf7k3/AKOkoA9EooooAKKKKACiiigAooooAKKKKACiiigAooooAKKyde8U6H4Yhjl17U7eyWVgkYkb5nJOAFUcn8BWlJcQw2rXM0qxwIhkeRztVVAySSegxQBJRXL6L8SfCXiHWf7K0nWY5r4qXWF4pIzIo7qXUBh9M11FABRVXVNUstF0u41LVblLWztYzJNNIeEUf56dTSWWqWWoaRDqlpcK1lPEJo5mBUFCMhjnGOPWgC3RWVonijRfEjXg0HUYb8WUvkztCSVV8Zxu6H8M1q0AFFFFABRRRQAUUUUAFFFFABRRRQAUUUUAFc38RP8Akm+v/wDXjJ/6DXSVzfxE/wCSb6//ANeMn/oNAGT8Ff8Akjnh3/r1H8zRR8Ff+SOeHf8Ar1H8zRQB21x/x7S/7h/lXkv7M3/JH0/6/wCb+S161cf8e0v+4f5V5L+zN/yR9P8Ar/m/ktAHr1FFFABRRRQAUUUUAFFFFABRRRQAUUUUAFFFFABRRRQBi6mmj6DoGoz3tsjW0297iMpva5Zhjbj+Jm4UDv0rH+E/hm78JfDjT9M1EbLjLzPDuyId7Fgn4A/nmszVLT4iXHip7+DS9AubO3Yiwhub2QeV/tkBOXPr2HA756zw0fET2Msvi0WMd28h8uGwLNHGmOPmbksec9ulAFi88RaLp1ybfUNYsLWdQCYp7pEYA9OCc1FH4r8OzSpFDr2mSSOwVUW8jJYnoAM8mtCSztZnLzW0MjHqzRgmmrp9mrBltIAQcgiIcfpQBJcLK9rKts6pMUIjdhkK2OCR9a8fS48VfCuS1bxRBpuueH5rkJLqFtAUuLd5HzvfP3ssevqa9a1Q340u4Oji3a+EZ8gXOfLL9t2OcfSuWm0zxH4v0mLTfFenWGmWpkR7sW12Z2uNpDbVGwBFJAySSccY70AdmCCAQcg9DRQAAABwB0ooAKKKKACiiigAooooAKKKKACiiigAooooAKKKKAMTxp/yIWv/APYNuP8A0U1ct8Bf+SH+Hv8Acm/9HSV1PjT/AJELX/8AsG3H/opq5b4C/wDJD/D3+5N/6OkoA9EooooAKKKKACiiigAooooAKKKKACiiigAooooA84+O/wDyS+T/ALCFn/6PSu+NtBeaakF1Ek0TIu6NxlWxg8jv0rlPij4b1Xxb4R/sfRooDI9zDM0k82xVEcgfHAJOcYrfvpNai8NO+kWdq+qoi+Xb3MxETHIyC4GemccdcUAcB4t1ezT4v+GT4i0e8tLa1leOw1IAFJbhxtCEg5C4P5mvVCQqkscAckntXH3uh6r4w/soeJLC1063sbqO9eGK5M7ySp90BtqgKDznkn2rYu219vFVrDBb6e/h57d/tckhb7QJedoUfd29M59/xAPPfH+saX4r8F+Jp5tStDp9jpt2LK2M67rmcRMBIVzkhTwo9eeoFdh8M7mC5+GegCCaOXy7CFX2OG2sEHBx0NZ/if4U+F9S8Lava6T4a0eDUbmzmjtp/sqLslZCFbcBkYYg5rW8EeGIvB/guy02CztYrqK3T7T9mUKs0oXBYnHOT3NAHK/CUAeLfiLgY/4qGT+VenVwngDwzrPh7xB4ou9Vgt1h1rUmvYjDPvMYI+6w2jn6V3dABRRRQAUUUUAFFFFABRRRQAUUUUAFFFFABXN/ET/km+v/APXjJ/6DXSVzfxE/5Jvr/wD14yf+g0AZPwV/5I54d/69R/M0UfBX/kjnh3/r1H8zRQB21x/x7S/7h/lXkv7M3/JH0/6/5v5LXrVx/wAe0v8AuH+VfO3wL+KfhHwj8Nl0zX9UFrdi7lk8soT8p24PH0oA+jaK85/4X38O/wDoPL/36b/Cj/hffw7/AOg8v/fpv8KAPRqK85/4X38O/wDoPL/36b/Cj/hffw7/AOg8v/fpv8KAPRqK85/4X38O/wDoPL/36b/Cj/hffw7/AOg8v/fpv8KAPRqK85/4X38O/wDoPL/36b/Cj/hffw7/AOg8v/fpv8KAPRqK85/4X38O/wDoPL/36b/Cj/hffw7/AOg8v/fpv8KAPRqK85/4X38O/wDoPL/36b/Cj/hffw7/AOg8v/fpv8KAPRqK85/4X38O/wDoPL/36b/Cj/hffw7/AOg8v/fpv8KAPRqK85/4X38O/wDoPL/36b/Cj/hffw7/AOg8v/fpv8KAPRqK85/4X38O/wDoPL/36b/Cj/hffw7/AOg8v/fpv8KAPRqK85/4X38O/wDoPL/36b/Cj/hffw7/AOg8v/fpv8KAPRqK85/4X38O/wDoPL/36b/Cj/hffw7/AOg8v/fpv8KAPRqK85/4X38O/wDoPL/36b/Cj/hffw7/AOg8v/fpv8KAPRqK85/4X38O/wDoPL/36b/Cj/hffw7/AOg8v/fpv8KAPRqK85/4X38O/wDoPL/36b/Cj/hffw7/AOg8v/fpv8KAPRqK85/4X38O/wDoPL/36b/Cj/hffw7/AOg8v/fpv8KAPRqK85/4X38O/wDoPL/36b/Cj/hffw7/AOg8v/fpv8KAPRqK85/4X38O/wDoPL/36b/Cj/hffw7/AOg8v/fpv8KAPRqK85/4X38O/wDoPL/36b/Cj/hffw7/AOg8v/fpv8KAPRqK85/4X38O/wDoPL/36b/Cj/hffw7/AOg8v/fpv8KAOr8af8iFr/8A2Dbj/wBFNXLfAX/kh/h7/cm/9HSVkeJ/jh4B1Dwjq9na62rz3FjNFGvlN8zNGQB09TWB8Ivi94L8NfCrRtJ1nV1t722SQSxmNjtzK7DoPQigD3qivOf+F9/Dv/oPL/36b/Cj/hffw7/6Dy/9+m/woA9Gorzn/hffw7/6Dy/9+m/wo/4X38O/+g8v/fpv8KAPRqK85/4X38O/+g8v/fpv8KP+F9/Dv/oPL/36b/CgD0aivOf+F9/Dv/oPL/36b/Cj/hffw7/6Dy/9+m/woA9Gorzn/hffw7/6Dy/9+m/wo/4X38O/+g8v/fpv8KAPRqK85/4X38O/+g8v/fpv8KP+F9/Dv/oPL/36b/CgD0aivOf+F9/Dv/oPL/36b/Cj/hffw7/6Dy/9+m/woA9Gorzn/hffw7/6Dy/9+m/wo/4X38O/+g8v/fpv8KAPRqK85/4X38O/+g8v/fpv8KP+F9/Dv/oPL/36b/CgD0aivOf+F9/Dv/oPL/36b/Cj/hffw7/6Dy/9+m/woA9Gorzn/hffw7/6Dy/9+m/wo/4X38O/+g8v/fpv8KAPRqK85/4X38O/+g8v/fpv8KP+F9/Dv/oPL/36b/CgD0aivOf+F9/Dv/oPL/36b/Cj/hffw7/6Dy/9+m/woA9Gorzn/hffw7/6Dy/9+m/wo/4X38O/+g8v/fpv8KAPRqK85/4X38O/+g8v/fpv8KP+F9/Dv/oPL/36b/CgD0aivOf+F9/Dv/oPL/36b/Cj/hffw7/6Dy/9+m/woA9Gorzn/hffw7/6Dy/9+m/wo/4X38O/+g8v/fpv8KAPRq5v4if8k31//rxk/wDQa53/AIX38O/+g8v/AH6b/CsPxn8bPAeqeCdXsbHWlkuLi0eONPLYbmI4HSgDqPgr/wAkc8O/9eo/maKT4K/8kc8O/wDXqP5migDt7j/j2l/3D/KvFf2c/D+j6l8J0n1DS7S5m+2zL5k0Ks2Pl4yRXtVx/wAe0v8AuH+VeS/szf8AJH0/6/5v5LQB6N/wiHhz/oBad/4DJ/hR/wAIh4c/6AWnf+Ayf4VsUUAY/wDwiHhz/oBad/4DJ/hR/wAIh4c/6AWnf+Ayf4VsUUAY/wDwiHhz/oBad/4DJ/hR/wAIh4c/6AWnf+Ayf4VsUUAY/wDwiHhz/oBad/4DJ/hR/wAIh4c/6AWnf+Ayf4VsUUAY/wDwiHhz/oBad/4DJ/hR/wAIh4c/6AWnf+Ayf4VsUUAY/wDwiHhz/oBad/4DJ/hR/wAIh4c/6AWnf+Ayf4VsUUAY/wDwiHhz/oBad/4DJ/hR/wAIh4c/6AWnf+Ayf4VsUUAY/wDwiHhz/oBad/4DJ/hR/wAIh4c/6AWnf+Ayf4VsUUAY/wDwiHhz/oBad/4DJ/hR/wAIh4c/6AWnf+Ayf4VsUUAY/wDwiHhz/oBad/4DJ/hR/wAIh4c/6AWnf+Ayf4VsUUAY/wDwiHhz/oBad/4DJ/hR/wAIh4c/6AWnf+Ayf4VsUUAY/wDwiHhz/oBad/4DJ/hR/wAIh4c/6AWnf+Ayf4VsUUAY/wDwiHhz/oBad/4DJ/hR/wAIh4c/6AWnf+Ayf4VsUUAY/wDwiHhz/oBad/4DJ/hR/wAIh4c/6AWnf+Ayf4VsUUAY/wDwiHhz/oBad/4DJ/hR/wAIh4c/6AWnf+Ayf4VsUUAY/wDwiHhz/oBad/4DJ/hR/wAIh4c/6AWnf+Ayf4VsUUAY/wDwiHhz/oBad/4DJ/hR/wAIh4c/6AWnf+Ayf4VsUUAY/wDwiHhz/oBad/4DJ/hR/wAIh4c/6AWnf+Ayf4VsUUAY/wDwiHhz/oBad/4DJ/hR/wAIh4c/6AWnf+Ayf4VsUUAcd4v8K+H4fA+uSxaLYJImnXDKy2ygqRG2COK5n4H+G9EvvgzoNxe6TZTzuku6SSBWZv3zjkkV3njT/kQtf/7Btx/6KauW+Av/ACQ/w9/uTf8Ao6SgDrP+EQ8Of9ALTv8AwGT/AAo/4RDw5/0AtO/8Bk/wrYooAx/+EQ8Of9ALTv8AwGT/AAo/4RDw5/0AtO/8Bk/wrYooAx/+EQ8Of9ALTv8AwGT/AAo/4RDw5/0AtO/8Bk/wrYooAx/+EQ8Of9ALTv8AwGT/AAo/4RDw5/0AtO/8Bk/wrYooAx/+EQ8Of9ALTv8AwGT/AAo/4RDw5/0AtO/8Bk/wrYooAx/+EQ8Of9ALTv8AwGT/AAo/4RDw5/0AtO/8Bk/wrYooAx/+EQ8Of9ALTv8AwGT/AAo/4RDw5/0AtO/8Bk/wrYooAx/+EQ8Of9ALTv8AwGT/AAo/4RDw5/0AtO/8Bk/wrYooAx/+EQ8Of9ALTv8AwGT/AAo/4RDw5/0AtO/8Bk/wrYooAx/+EQ8Of9ALTv8AwGT/AAo/4RDw5/0AtO/8Bk/wrYooAx/+EQ8Of9ALTv8AwGT/AAo/4RDw5/0AtO/8Bk/wrYooAx/+EQ8Of9ALTv8AwGT/AAo/4RDw5/0AtO/8Bk/wrYooAx/+EQ8Of9ALTv8AwGT/AAo/4RDw5/0AtO/8Bk/wrYooAx/+EQ8Of9ALTv8AwGT/AAo/4RDw5/0AtO/8Bk/wrYooAx/+EQ8Of9ALTv8AwGT/AAo/4RDw5/0AtO/8Bk/wrYooAx/+EQ8Of9ALTv8AwGT/AAo/4RDw5/0AtO/8Bk/wrYooAx/+EQ8Of9ALTv8AwGT/AAo/4RDw5/0AtO/8Bk/wrYooAx/+EQ8Of9ALTv8AwGT/AArnvH3hbQbf4e65LBo1jHIllIVdbdQVOOoOK7mub+In/JN9f/68ZP8A0GgDJ+Cv/JHPDv8A16j+Zoo+Cv8AyRzw7/16j+ZooA7a4/49pf8AcP8AKvJf2Zv+SPp/1/zfyWvWrj/j2l/3D/KvJf2Zv+SPp/1/zfyWgD16iiigAooooAKKKKACiiigAooooAKKKKACiiigAooooAK526ufFGm3ssi2drq1izkokLeVPGvpg8Nj6jNdFXOXdj4o1W9ljbU7bRtODkJ9iTzbmVexLuNkefQIx/2qAJ9N8W6ZqF6lhI0tjqD522l5GY5GwOdueG/AmtDVtQ/srRru/MEtx9mhaUQwrueQgZ2qO5PSqWmeE9I0q7F5FbtcX+MG9u5DNOfX52yQPYYHtVrWtasPD2kzanq03kWkON8m0tjJAHA56mgDyTwRfaf4s8SRPqPi7xJZa8HFxPo1xK1vFnqURCOUHT3Ar2qvN/FUOk+ONT8PT+GZorrULO/juPttvyIYR9/cw7EcAV6RQAUUUUAFFFFABRRRQAUUUUAFFFFABRRRQAUUUUAFFFFAGJ40/wCRC1//ALBtx/6KauW+Av8AyQ/w9/uTf+jpK6nxp/yIWv8A/YNuP/RTVy3wF/5If4e/3Jv/AEdJQB6JRRRQAUUUUAFFFFABRRRQAUUUUAFFFFABRRRQB558abzUtL8C/wBoaTql1YyR3lvGwgYLvV5VUgnGeh7EV2d9FfXOhGLTLhbe6lRVWdhu8sEjcwHcgZIz3xXC/HiWNfhm0TOBI9/alUzyQJlJ49hXaX/iDTND8MHWNRukjsoYlZpB82eOAMdSemKAPOfEOk614D8S+Hb7Q/EusamNR1FLS7sdRuPOWRW+86jA27Rk8V65XlGn/EzwdqOrR63qeomW+A8uwsEhZmtw3GOBgyNxk9B0HrXocviPTIfEVroU05TUruBp4YCh+ZF6nPQdPWgDzHx74rs5vGb6Zr+reIfDWmWm2OG9sY3jimkb7xeTGMDgD8fWuk8StqXhn4SSSeFr691aWNUk+2PL587wlgXdSeCdvStG+8YeD9Zs9R0y9vLe68vdBcWUsZLMem0IRk57Y61y/wBi8QeC/gVbWdkJ0uInCy7fnltLV5SWx/tKh98HPpQBPpuu2+sat4bn+HupXV/BNLu1QTXEkyJb7SDv3k7H3AYAx37V6dXkN54XsPDvjTw9rPw3lEM1/OkOoWNu+6G5g28ysOxHXd3z68169QAUUUUAFFFFABRRRQAUUUUAFFFFABRRRQAVzfxE/wCSb6//ANeMn/oNdJXN/ET/AJJvr/8A14yf+g0AZPwV/wCSOeHf+vUfzNFHwV/5I54d/wCvUfzNFAHbXH/HtL/uH+VeS/szf8kfT/r/AJv5LXrVx/x7S/7h/lXkv7M3/JH0/wCv+b+S0AevUUUUAFFFFABRRRQAUUUUAFFFFABRRRQAUUUUAFFFFABWHc+D9Iu7qS4mjnMkrFmIuXAyfYGtyigDGsfCmladeJdWscwljztLXDsPToTitd40ljKSorowwVYZBp1FAEcFvDbR+XbQxwp/djUKPyFSUUUAFFFFABRRRQAUUUUAFFFFABRRRQAUUUUAFFFFABRRRQBieNP+RC1//sG3H/opq5b4C/8AJD/D3+5N/wCjpK6nxp/yIWv/APYNuP8A0U1ct8Bf+SH+Hv8Acm/9HSUAeiUUUUAFFFFABRRRQAUUUUAFFFFABRRRQAUUUUARTWlvckG4t4pSvQyIGx+dBtLdoBAbeIxDpGUG0fhUtFAFZdNsUYMllbqynIIiUEH8qmMMTTLM0aGVQQrlRuAPUA0+igCEWlstwbhbeITHrIEG4/j1qaiigCKG0t7dma3t4oi33iiBc/XFS0UUAFFFFABRRRQAUUUUAFFFFABRRRQAUUUUAFc38RP+Sb6//wBeMn/oNdJXN/ET/km+v/8AXjJ/6DQBk/BX/kjnh3/r1H8zRR8Ff+SOeHf+vUfzNFAHcSL5kbJnG4EZrx7S/wBntdGs/sum+PPElpBuLeVbTLGuT1OAOtex0UAeUf8ACkLr/oo/iz/wLH+FH/CkLr/oo/iz/wACx/hXq9FAHlH/AApC6/6KP4s/8Cx/hR/wpC6/6KP4s/8AAsf4V6vRQB5R/wAKQuv+ij+LP/Asf4Uf8KQuv+ij+LP/AALH+Fer0UAeUf8ACkLr/oo/iz/wLH+FH/CkLr/oo/iz/wACx/hXq9FAHlH/AApC6/6KP4s/8Cx/hR/wpC6/6KP4s/8AAsf4V6vRQB5R/wAKQuv+ij+LP/Asf4Uf8KQuv+ij+LP/AALH+Fer0UAeUf8ACkLr/oo/iz/wLH+FH/CkLr/oo/iz/wACx/hXq9FAHlH/AApC6/6KP4s/8Cx/hR/wpC6/6KP4s/8AAsf4V6vRQB5R/wAKQuv+ij+LP/Asf4Uf8KQuv+ij+LP/AALH+Fer0UAeUf8ACkLr/oo/iz/wLH+FH/CkLr/oo/iz/wACx/hXq9FAHlH/AApC6/6KP4s/8Cx/hR/wpC6/6KP4s/8AAsf4V6vRQB5R/wAKQuv+ij+LP/Asf4Uf8KQuv+ij+LP/AALH+Fer0UAeUf8ACkLr/oo/iz/wLH+FH/CkLr/oo/iz/wACx/hXq9FAHlH/AApC6/6KP4s/8Cx/hR/wpC6/6KP4s/8AAsf4V6vRQB5R/wAKQuv+ij+LP/Asf4Uf8KQuv+ij+LP/AALH+Fer0UAeUf8ACkLr/oo/iz/wLH+FH/CkLr/oo/iz/wACx/hXq9FAHlH/AApC6/6KP4s/8Cx/hR/wpC6/6KP4s/8AAsf4V6vRQB5R/wAKQuv+ij+LP/Asf4Uf8KQuv+ij+LP/AALH+Fer0UAeUf8ACkLr/oo/iz/wLH+FH/CkLr/oo/iz/wACx/hXq9FAHkk/wKnuLeSGb4ieKpI5FKOj3QKsCMEEY5FRaf8AAE6XYR2dh4/8TW1vFnZFBOERcnPCgccmvYKKAPKP+FIXX/RR/Fn/AIFj/Cj/AIUhdf8ARR/Fn/gWP8K9XooA8o/4Uhdf9FH8Wf8AgWP8KP8AhSF1/wBFH8Wf+BY/wr1eigDyj/hSF1/0UfxZ/wCBY/wo/wCFIXX/AEUfxZ/4Fj/CvV6KAPKP+FIXX/RR/Fn/AIFj/Cj/AIUhdf8ARR/Fn/gWP8K9XooA8o/4Uhdf9FH8Wf8AgWP8KP8AhSF1/wBFH8Wf+BY/wr1eigDyj/hSF1/0UfxZ/wCBY/wo/wCFIXX/AEUfxZ/4Fj/CvV6KAPKP+FIXX/RR/Fn/AIFj/Cj/AIUhdf8ARR/Fn/gWP8K9XooA8o/4Uhdf9FH8Wf8AgWP8KP8AhSF1/wBFH8Wf+BY/wr1eigDyj/hSF1/0UfxZ/wCBY/wo/wCFIXX/AEUfxZ/4Fj/CvV6KAPKP+FIXX/RR/Fn/AIFj/Cj/AIUhdf8ARR/Fn/gWP8K9XooA8o/4Uhdf9FH8Wf8AgWP8KP8AhSF1/wBFH8Wf+BY/wr1eigDyj/hSF1/0UfxZ/wCBY/wo/wCFIXX/AEUfxZ/4Fj/CvV6KAPKP+FIXX/RR/Fn/AIFj/Cj/AIUhdf8ARR/Fn/gWP8K9XooA8o/4Uhdf9FH8Wf8AgWP8KP8AhSF1/wBFH8Wf+BY/wr1eigDyj/hSF1/0UfxZ/wCBY/wo/wCFIXX/AEUfxZ/4Fj/CvV6KAPKP+FIXX/RR/Fn/AIFj/Cj/AIUhdf8ARR/Fn/gWP8K9XooA8o/4Uhdf9FH8Wf8AgWP8KP8AhSF1/wBFH8Wf+BY/wr1eigDyj/hSF1/0UfxZ/wCBY/wqK5+BE13ayW9x8Q/FMsUilXSS5DKw9CMcivXKKAMbwj4bh8I+FLHQrad7iKyj8tZZAAzD3xRWzRQB/9k=)\n"
   ]
  },
  {
   "cell_type": "code",
   "execution_count": 9,
   "metadata": {
    "colab": {
     "base_uri": "https://localhost:8080/",
     "height": 319
    },
    "executionInfo": {
     "elapsed": 180,
     "status": "ok",
     "timestamp": 1666204836304,
     "user": {
      "displayName": "Tracy Wang",
      "userId": "01058367074215440184"
     },
     "user_tz": 240
    },
    "id": "H5z110RCcDnE",
    "outputId": "48b8d7ce-b4a5-4cec-b3c4-6f4591dbbaab"
   },
   "outputs": [
    {
     "data": {
      "text/html": [
       "<div>\n",
       "<style scoped>\n",
       "    .dataframe tbody tr th:only-of-type {\n",
       "        vertical-align: middle;\n",
       "    }\n",
       "\n",
       "    .dataframe tbody tr th {\n",
       "        vertical-align: top;\n",
       "    }\n",
       "\n",
       "    .dataframe thead th {\n",
       "        text-align: right;\n",
       "    }\n",
       "</style>\n",
       "<table border=\"1\" class=\"dataframe\">\n",
       "  <thead>\n",
       "    <tr style=\"text-align: right;\">\n",
       "      <th></th>\n",
       "      <th>t_state</th>\n",
       "      <th>t_county</th>\n",
       "      <th>p_name</th>\n",
       "      <th>p_year</th>\n",
       "      <th>p_tnum</th>\n",
       "      <th>p_cap</th>\n",
       "      <th>t_manu</th>\n",
       "      <th>t_model</th>\n",
       "      <th>t_cap</th>\n",
       "      <th>t_hh</th>\n",
       "      <th>t_rd</th>\n",
       "      <th>t_rsa</th>\n",
       "      <th>t_ttlh</th>\n",
       "      <th>cap_mw</th>\n",
       "      <th>est_blade_wt</th>\n",
       "    </tr>\n",
       "  </thead>\n",
       "  <tbody>\n",
       "    <tr>\n",
       "      <th>0</th>\n",
       "      <td>NY</td>\n",
       "      <td>Chautauqua County</td>\n",
       "      <td>Arkwright Summit</td>\n",
       "      <td>2018.0</td>\n",
       "      <td>36</td>\n",
       "      <td>78.40</td>\n",
       "      <td>Vestas</td>\n",
       "      <td>V110-2.0</td>\n",
       "      <td>2200.0</td>\n",
       "      <td>95.0</td>\n",
       "      <td>110.0</td>\n",
       "      <td>9503.32</td>\n",
       "      <td>150.0</td>\n",
       "      <td>2.200</td>\n",
       "      <td>9.834000</td>\n",
       "    </tr>\n",
       "    <tr>\n",
       "      <th>3</th>\n",
       "      <td>NY</td>\n",
       "      <td>Chautauqua County</td>\n",
       "      <td>Arkwright Summit</td>\n",
       "      <td>2018.0</td>\n",
       "      <td>36</td>\n",
       "      <td>78.40</td>\n",
       "      <td>Vestas</td>\n",
       "      <td>V110-2.0</td>\n",
       "      <td>2000.0</td>\n",
       "      <td>95.0</td>\n",
       "      <td>110.0</td>\n",
       "      <td>9503.32</td>\n",
       "      <td>150.0</td>\n",
       "      <td>2.000</td>\n",
       "      <td>8.893333</td>\n",
       "    </tr>\n",
       "    <tr>\n",
       "      <th>36</th>\n",
       "      <td>NY</td>\n",
       "      <td>Chautauqua County</td>\n",
       "      <td>Cassadaga</td>\n",
       "      <td>2021.0</td>\n",
       "      <td>37</td>\n",
       "      <td>125.48</td>\n",
       "      <td>Nordex</td>\n",
       "      <td>N117/3675</td>\n",
       "      <td>3675.0</td>\n",
       "      <td>91.0</td>\n",
       "      <td>117.0</td>\n",
       "      <td>10751.32</td>\n",
       "      <td>149.4</td>\n",
       "      <td>3.675</td>\n",
       "      <td>16.427250</td>\n",
       "    </tr>\n",
       "    <tr>\n",
       "      <th>39</th>\n",
       "      <td>NY</td>\n",
       "      <td>Chautauqua County</td>\n",
       "      <td>Cassadaga</td>\n",
       "      <td>2021.0</td>\n",
       "      <td>37</td>\n",
       "      <td>125.48</td>\n",
       "      <td>Siemens Gamesa Renewable Energy</td>\n",
       "      <td>SG-2.625-114</td>\n",
       "      <td>2625.0</td>\n",
       "      <td>93.0</td>\n",
       "      <td>114.0</td>\n",
       "      <td>10207.03</td>\n",
       "      <td>150.0</td>\n",
       "      <td>2.625</td>\n",
       "      <td>11.733750</td>\n",
       "    </tr>\n",
       "    <tr>\n",
       "      <th>73</th>\n",
       "      <td>NY</td>\n",
       "      <td>Lewis County</td>\n",
       "      <td>Copenhagen</td>\n",
       "      <td>2018.0</td>\n",
       "      <td>40</td>\n",
       "      <td>80.00</td>\n",
       "      <td>Vestas</td>\n",
       "      <td>V110-2.0</td>\n",
       "      <td>2000.0</td>\n",
       "      <td>95.0</td>\n",
       "      <td>110.0</td>\n",
       "      <td>9503.32</td>\n",
       "      <td>150.0</td>\n",
       "      <td>2.000</td>\n",
       "      <td>8.893333</td>\n",
       "    </tr>\n",
       "  </tbody>\n",
       "</table>\n",
       "</div>"
      ],
      "text/plain": [
       "   t_state           t_county            p_name  p_year  p_tnum   p_cap  \\\n",
       "0       NY  Chautauqua County  Arkwright Summit  2018.0      36   78.40   \n",
       "3       NY  Chautauqua County  Arkwright Summit  2018.0      36   78.40   \n",
       "36      NY  Chautauqua County         Cassadaga  2021.0      37  125.48   \n",
       "39      NY  Chautauqua County         Cassadaga  2021.0      37  125.48   \n",
       "73      NY       Lewis County        Copenhagen  2018.0      40   80.00   \n",
       "\n",
       "                             t_manu       t_model   t_cap  t_hh   t_rd  \\\n",
       "0                            Vestas      V110-2.0  2200.0  95.0  110.0   \n",
       "3                            Vestas      V110-2.0  2000.0  95.0  110.0   \n",
       "36                           Nordex     N117/3675  3675.0  91.0  117.0   \n",
       "39  Siemens Gamesa Renewable Energy  SG-2.625-114  2625.0  93.0  114.0   \n",
       "73                           Vestas      V110-2.0  2000.0  95.0  110.0   \n",
       "\n",
       "       t_rsa  t_ttlh  cap_mw  est_blade_wt  \n",
       "0    9503.32   150.0   2.200      9.834000  \n",
       "3    9503.32   150.0   2.000      8.893333  \n",
       "36  10751.32   149.4   3.675     16.427250  \n",
       "39  10207.03   150.0   2.625     11.733750  \n",
       "73   9503.32   150.0   2.000      8.893333  "
      ]
     },
     "execution_count": 9,
     "metadata": {},
     "output_type": "execute_result"
    }
   ],
   "source": [
    "method2_df = grouped_df.assign(cap_mw=lambda df: df.t_cap/1000)\n",
    "def estimate_blade_mass_piecewise_linear(df):\n",
    "    cap = df['cap_mw']\n",
    "    # total blade mass per turbine = ratio * capacity (mw)\n",
    "    # there are three blades in one turbine \n",
    "    if cap <= 1:\n",
    "        est_blade_mass = 8.43 * cap / 3\n",
    "    elif (cap > 1) & (cap <= 1.5):\n",
    "        est_blade_mass = 12.37 * cap / 3\n",
    "    elif (cap > 1.5) & (cap <= 2):\n",
    "        est_blade_mass = 13.34 * cap / 3\n",
    "    elif (cap > 2) & (cap <= 5):\n",
    "        est_blade_mass = 13.41 * cap / 3\n",
    "    else:\n",
    "        assert(cap >= 5)\n",
    "        est_blade_mass = 12.58 * cap / 3\n",
    "    return est_blade_mass\n",
    "method2_df['est_blade_wt'] = method2_df.apply(estimate_blade_mass_piecewise_linear,\n",
    "                                              axis=1)\n",
    "method2_df.head()"
   ]
  },
  {
   "cell_type": "code",
   "execution_count": 10,
   "metadata": {
    "colab": {
     "base_uri": "https://localhost:8080/",
     "height": 313
    },
    "executionInfo": {
     "elapsed": 501,
     "status": "ok",
     "timestamp": 1666207272937,
     "user": {
      "displayName": "Tracy Wang",
      "userId": "01058367074215440184"
     },
     "user_tz": 240
    },
    "id": "CtnpOhmkhBAM",
    "outputId": "2d5cd162-1906-40e1-bbb5-8fc478709ccc"
   },
   "outputs": [
    {
     "data": {
      "text/plain": [
       "Text(0.5, 1.0, 'Method2: Piecewise Linear Relationship')"
      ]
     },
     "execution_count": 10,
     "metadata": {},
     "output_type": "execute_result"
    },
    {
     "data": {
      "image/png": "[encoded data removed]",
      "text/plain": [
       "<Figure size 432x288 with 1 Axes>"
      ]
     },
     "metadata": {
      "needs_background": "light"
     },
     "output_type": "display_data"
    }
   ],
   "source": [
    "# visualize the distribution of estimated single blade mass\n",
    "plt.hist(method2_df['est_blade_wt'], bins=[0,5,10,15,20,25,30])  # density=False would make counts\n",
    "plt.ylabel('Count')\n",
    "plt.xlabel('Estimated Weight of Single Blade (tons)')\n",
    "plt.title('Method2: Piecewise Linear Relationship')"
   ]
  },
  {
   "cell_type": "code",
   "execution_count": 11,
   "metadata": {
    "colab": {
     "base_uri": "https://localhost:8080/"
    },
    "executionInfo": {
     "elapsed": 136,
     "status": "ok",
     "timestamp": 1666205170513,
     "user": {
      "displayName": "Tracy Wang",
      "userId": "01058367074215440184"
     },
     "user_tz": 240
    },
    "id": "xFlOaJn7jG9j",
    "outputId": "4039004a-7c25-4673-87a3-fc0878acc4bc"
   },
   "outputs": [
    {
     "name": "stdout",
     "output_type": "stream",
     "text": [
      "mean 7.673997560975609\n",
      "standard deviation 3.996293543589956\n"
     ]
    }
   ],
   "source": [
    "print(\"mean\", np.average(method2_df['est_blade_wt']))\n",
    "print(\"standard deviation\", np.std(method2_df['est_blade_wt']))"
   ]
  },
  {
   "cell_type": "markdown",
   "metadata": {
    "id": "immY8lsdkd_z"
   },
   "source": [
    "\n",
    "# Method3: Exponential relationship between blade mass and rotor radius"
   ]
  },
  {
   "cell_type": "code",
   "execution_count": 12,
   "metadata": {
    "colab": {
     "base_uri": "https://localhost:8080/",
     "height": 354
    },
    "executionInfo": {
     "elapsed": 270,
     "status": "ok",
     "timestamp": 1666206037941,
     "user": {
      "displayName": "Tracy Wang",
      "userId": "01058367074215440184"
     },
     "user_tz": 240
    },
    "id": "V07gR1RTkTn6",
    "outputId": "5153114a-dda0-4187-a932-b263d019001f"
   },
   "outputs": [
    {
     "data": {
      "text/html": [
       "<div>\n",
       "<style scoped>\n",
       "    .dataframe tbody tr th:only-of-type {\n",
       "        vertical-align: middle;\n",
       "    }\n",
       "\n",
       "    .dataframe tbody tr th {\n",
       "        vertical-align: top;\n",
       "    }\n",
       "\n",
       "    .dataframe thead th {\n",
       "        text-align: right;\n",
       "    }\n",
       "</style>\n",
       "<table border=\"1\" class=\"dataframe\">\n",
       "  <thead>\n",
       "    <tr style=\"text-align: right;\">\n",
       "      <th></th>\n",
       "      <th>t_state</th>\n",
       "      <th>t_county</th>\n",
       "      <th>p_name</th>\n",
       "      <th>p_year</th>\n",
       "      <th>p_tnum</th>\n",
       "      <th>p_cap</th>\n",
       "      <th>t_manu</th>\n",
       "      <th>t_model</th>\n",
       "      <th>t_cap</th>\n",
       "      <th>t_hh</th>\n",
       "      <th>t_rd</th>\n",
       "      <th>t_rsa</th>\n",
       "      <th>t_ttlh</th>\n",
       "      <th>rotor_radius</th>\n",
       "      <th>est_blade_wt</th>\n",
       "    </tr>\n",
       "  </thead>\n",
       "  <tbody>\n",
       "    <tr>\n",
       "      <th>0</th>\n",
       "      <td>NY</td>\n",
       "      <td>Chautauqua County</td>\n",
       "      <td>Arkwright Summit</td>\n",
       "      <td>2018.0</td>\n",
       "      <td>36</td>\n",
       "      <td>78.40</td>\n",
       "      <td>Vestas</td>\n",
       "      <td>V110-2.0</td>\n",
       "      <td>2200.0</td>\n",
       "      <td>95.0</td>\n",
       "      <td>110.0</td>\n",
       "      <td>9503.32</td>\n",
       "      <td>150.0</td>\n",
       "      <td>55.0</td>\n",
       "      <td>12.518356</td>\n",
       "    </tr>\n",
       "    <tr>\n",
       "      <th>3</th>\n",
       "      <td>NY</td>\n",
       "      <td>Chautauqua County</td>\n",
       "      <td>Arkwright Summit</td>\n",
       "      <td>2018.0</td>\n",
       "      <td>36</td>\n",
       "      <td>78.40</td>\n",
       "      <td>Vestas</td>\n",
       "      <td>V110-2.0</td>\n",
       "      <td>2000.0</td>\n",
       "      <td>95.0</td>\n",
       "      <td>110.0</td>\n",
       "      <td>9503.32</td>\n",
       "      <td>150.0</td>\n",
       "      <td>55.0</td>\n",
       "      <td>12.518356</td>\n",
       "    </tr>\n",
       "    <tr>\n",
       "      <th>36</th>\n",
       "      <td>NY</td>\n",
       "      <td>Chautauqua County</td>\n",
       "      <td>Cassadaga</td>\n",
       "      <td>2021.0</td>\n",
       "      <td>37</td>\n",
       "      <td>125.48</td>\n",
       "      <td>Nordex</td>\n",
       "      <td>N117/3675</td>\n",
       "      <td>3675.0</td>\n",
       "      <td>91.0</td>\n",
       "      <td>117.0</td>\n",
       "      <td>10751.32</td>\n",
       "      <td>149.4</td>\n",
       "      <td>58.5</td>\n",
       "      <td>14.633022</td>\n",
       "    </tr>\n",
       "    <tr>\n",
       "      <th>39</th>\n",
       "      <td>NY</td>\n",
       "      <td>Chautauqua County</td>\n",
       "      <td>Cassadaga</td>\n",
       "      <td>2021.0</td>\n",
       "      <td>37</td>\n",
       "      <td>125.48</td>\n",
       "      <td>Siemens Gamesa Renewable Energy</td>\n",
       "      <td>SG-2.625-114</td>\n",
       "      <td>2625.0</td>\n",
       "      <td>93.0</td>\n",
       "      <td>114.0</td>\n",
       "      <td>10207.03</td>\n",
       "      <td>150.0</td>\n",
       "      <td>57.0</td>\n",
       "      <td>13.702288</td>\n",
       "    </tr>\n",
       "    <tr>\n",
       "      <th>73</th>\n",
       "      <td>NY</td>\n",
       "      <td>Lewis County</td>\n",
       "      <td>Copenhagen</td>\n",
       "      <td>2018.0</td>\n",
       "      <td>40</td>\n",
       "      <td>80.00</td>\n",
       "      <td>Vestas</td>\n",
       "      <td>V110-2.0</td>\n",
       "      <td>2000.0</td>\n",
       "      <td>95.0</td>\n",
       "      <td>110.0</td>\n",
       "      <td>9503.32</td>\n",
       "      <td>150.0</td>\n",
       "      <td>55.0</td>\n",
       "      <td>12.518356</td>\n",
       "    </tr>\n",
       "  </tbody>\n",
       "</table>\n",
       "</div>"
      ],
      "text/plain": [
       "   t_state           t_county            p_name  p_year  p_tnum   p_cap  \\\n",
       "0       NY  Chautauqua County  Arkwright Summit  2018.0      36   78.40   \n",
       "3       NY  Chautauqua County  Arkwright Summit  2018.0      36   78.40   \n",
       "36      NY  Chautauqua County         Cassadaga  2021.0      37  125.48   \n",
       "39      NY  Chautauqua County         Cassadaga  2021.0      37  125.48   \n",
       "73      NY       Lewis County        Copenhagen  2018.0      40   80.00   \n",
       "\n",
       "                             t_manu       t_model   t_cap  t_hh   t_rd  \\\n",
       "0                            Vestas      V110-2.0  2200.0  95.0  110.0   \n",
       "3                            Vestas      V110-2.0  2000.0  95.0  110.0   \n",
       "36                           Nordex     N117/3675  3675.0  91.0  117.0   \n",
       "39  Siemens Gamesa Renewable Energy  SG-2.625-114  2625.0  93.0  114.0   \n",
       "73                           Vestas      V110-2.0  2000.0  95.0  110.0   \n",
       "\n",
       "       t_rsa  t_ttlh  rotor_radius  est_blade_wt  \n",
       "0    9503.32   150.0          55.0     12.518356  \n",
       "3    9503.32   150.0          55.0     12.518356  \n",
       "36  10751.32   149.4          58.5     14.633022  \n",
       "39  10207.03   150.0          57.0     13.702288  \n",
       "73   9503.32   150.0          55.0     12.518356  "
      ]
     },
     "execution_count": 12,
     "metadata": {},
     "output_type": "execute_result"
    }
   ],
   "source": [
    "method3_df = grouped_df.assign(rotor_radius=lambda df: df.t_rd/2)\n",
    "def estimate_blade_mass_exp(df):\n",
    "    # if rator diameter <= 100, baseline model\n",
    "    if df['t_rd'] <= 100:\n",
    "        est_blade_mass = 0.1452 * (df['rotor_radius'] ** 2.9158) / 1000\n",
    "    # if rator diameter > 100, advanced model\n",
    "    else:\n",
    "        assert(df['t_rd'] > 100)\n",
    "        est_blade_mass = 0.4948 * (df['rotor_radius'] ** 2.53) / 1000\n",
    "    return est_blade_mass\n",
    "method3_df['est_blade_wt'] = method3_df.apply(estimate_blade_mass_exp, axis=1) \n",
    "method3_df.head()"
   ]
  },
  {
   "cell_type": "code",
   "execution_count": 13,
   "metadata": {
    "colab": {
     "base_uri": "https://localhost:8080/",
     "height": 313
    },
    "executionInfo": {
     "elapsed": 385,
     "status": "ok",
     "timestamp": 1666207263405,
     "user": {
      "displayName": "Tracy Wang",
      "userId": "01058367074215440184"
     },
     "user_tz": 240
    },
    "id": "LZZLg1ainIHr",
    "outputId": "409cb9e4-ad40-4c67-8ca3-3b92d98310fb"
   },
   "outputs": [
    {
     "data": {
      "text/plain": [
       "Text(0.5, 1.0, 'Method3: Exponential Relationship')"
      ]
     },
     "execution_count": 13,
     "metadata": {},
     "output_type": "execute_result"
    },
    {
     "data": {
      "image/png": "[encoded data removed]",
      "text/plain": [
       "<Figure size 432x288 with 1 Axes>"
      ]
     },
     "metadata": {
      "needs_background": "light"
     },
     "output_type": "display_data"
    }
   ],
   "source": [
    "# visualize the distribution of estimated single blade mass\n",
    "plt.hist(method3_df['est_blade_wt'], bins=[0,5,10,15,20,25,30])  # density=False would make counts\n",
    "plt.ylabel('Count')\n",
    "plt.xlabel('Estimated Weight of Single Blade (tons)')\n",
    "plt.title('Method3: Exponential Relationship')"
   ]
  },
  {
   "cell_type": "code",
   "execution_count": 14,
   "metadata": {
    "colab": {
     "base_uri": "https://localhost:8080/"
    },
    "executionInfo": {
     "elapsed": 148,
     "status": "ok",
     "timestamp": 1666206110361,
     "user": {
      "displayName": "Tracy Wang",
      "userId": "01058367074215440184"
     },
     "user_tz": 240
    },
    "id": "8EtdlVEPnv29",
    "outputId": "58d6c839-1a98-4c75-966e-90355a6bee49"
   },
   "outputs": [
    {
     "name": "stdout",
     "output_type": "stream",
     "text": [
      "mean 8.52617738001771\n",
      "standard deviation 4.960131191950212\n"
     ]
    }
   ],
   "source": [
    "print(\"mean\", np.average(method3_df['est_blade_wt']))\n",
    "print(\"standard deviation\", np.std(method3_df['est_blade_wt']))"
   ]
  }
 ],
 "metadata": {
  "colab": {
   "authorship_tag": "ABX9TyOX5wUjQ2G4aGbqy8wP76PN",
   "collapsed_sections": [],
   "provenance": [],
   "toc_visible": true
  },
  "kernelspec": {
   "display_name": "Python 3 (ipykernel)",
   "language": "python",
   "name": "python3"
  },
  "language_info": {
   "codemirror_mode": {
    "name": "ipython",
    "version": 3
   },
   "file_extension": ".py",
   "mimetype": "text/x-python",
   "name": "python",
   "nbconvert_exporter": "python",
   "pygments_lexer": "ipython3",
   "version": "3.8.12"
  }
 },
 "nbformat": 4,
 "nbformat_minor": 1
}
