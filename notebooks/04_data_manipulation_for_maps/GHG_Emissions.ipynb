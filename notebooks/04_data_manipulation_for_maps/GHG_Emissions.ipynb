{
  "nbformat": 4,
  "nbformat_minor": 0,
  "metadata": {
    "colab": {
      "provenance": []
    },
    "kernelspec": {
      "name": "python3",
      "display_name": "Python 3"
    },
    "language_info": {
      "name": "python"
    }
  },
  "cells": [
    {
      "cell_type": "code",
      "execution_count": 1,
      "metadata": {
        "colab": {
          "base_uri": "https://localhost:8080/"
        },
        "id": "CzmujUurTjcA",
        "outputId": "65641bcf-09f6-4da7-ad17-f540e75ad979"
      },
      "outputs": [
        {
          "output_type": "stream",
          "name": "stdout",
          "text": [
            "Mounted at /content/drive/\n"
          ]
        }
      ],
      "source": [
        "from google.colab import drive\n",
        "drive.mount(\"/content/drive/\")"
      ]
    },
    {
      "cell_type": "code",
      "source": [
        "import numpy as np\n",
        "import pandas as pd\n",
        "import matplotlib.pyplot as plt\n",
        "import seaborn as sns\n",
        "sns.set_style('darkgrid')\n",
        "\n",
        "import requests\n",
        "import json\n",
        "from datetime import timedelta\n",
        "\n",
        "from geopy import Nominatim"
      ],
      "metadata": {
        "id": "h2Bm9cvNT95p"
      },
      "execution_count": 14,
      "outputs": []
    },
    {
      "cell_type": "code",
      "source": [
        "df = pd.read_csv('/content/drive/MyDrive/usgs_data.csv',\n",
        "                 engine='python')"
      ],
      "metadata": {
        "id": "hYBeGH2FUs0M"
      },
      "execution_count": 54,
      "outputs": []
    },
    {
      "cell_type": "code",
      "source": [
        "df.head()"
      ],
      "metadata": {
        "colab": {
          "base_uri": "https://localhost:8080/",
          "height": 354
        },
        "id": "Ye7uC8UZU0zS",
        "outputId": "f7e05bb8-1190-49d1-df40-54b178e8f1f6"
      },
      "execution_count": 55,
      "outputs": [
        {
          "output_type": "execute_result",
          "data": {
            "text/plain": [
              "   Unnamed: 0                     p_name manufacturer_processed  longitude  \\\n",
              "0          49     unknown Wyoming County                  other -78.187935   \n",
              "1          48     unknown Steuben County                  other -77.533662   \n",
              "2          47      unknown Oneida County                  other -75.447369   \n",
              "3          46     unknown Niagara County                  other -78.493963   \n",
              "4          45  unknown Montgomery County                  other -74.510246   \n",
              "\n",
              "    latitude  numb_turbines  avg_turbine_capacity  turbine_blade_weight  \\\n",
              "0  42.740818            1.0                   NaN               0.66904   \n",
              "1  42.486564           11.0                   NaN               0.66904   \n",
              "2  42.975771            2.0                   NaN               0.66904   \n",
              "3  43.282899            1.0                   NaN               0.66904   \n",
              "4  42.905187            2.0                   NaN               0.66904   \n",
              "\n",
              "   turbine_blade_length                                               text  \n",
              "0                  41.0  Project Name: unknown Wyoming County<br>Number...  \n",
              "1                  41.0  Project Name: unknown Steuben County<br>Number...  \n",
              "2                  41.0  Project Name: unknown Oneida County<br>Number ...  \n",
              "3                  41.0  Project Name: unknown Niagara County<br>Number...  \n",
              "4                  41.0  Project Name: unknown Montgomery County<br>Num...  "
            ],
            "text/html": [
              "\n",
              "  <div id=\"df-fa608a77-3596-45db-ab17-a06e8068b4be\">\n",
              "    <div class=\"colab-df-container\">\n",
              "      <div>\n",
              "<style scoped>\n",
              "    .dataframe tbody tr th:only-of-type {\n",
              "        vertical-align: middle;\n",
              "    }\n",
              "\n",
              "    .dataframe tbody tr th {\n",
              "        vertical-align: top;\n",
              "    }\n",
              "\n",
              "    .dataframe thead th {\n",
              "        text-align: right;\n",
              "    }\n",
              "</style>\n",
              "<table border=\"1\" class=\"dataframe\">\n",
              "  <thead>\n",
              "    <tr style=\"text-align: right;\">\n",
              "      <th></th>\n",
              "      <th>Unnamed: 0</th>\n",
              "      <th>p_name</th>\n",
              "      <th>manufacturer_processed</th>\n",
              "      <th>longitude</th>\n",
              "      <th>latitude</th>\n",
              "      <th>numb_turbines</th>\n",
              "      <th>avg_turbine_capacity</th>\n",
              "      <th>turbine_blade_weight</th>\n",
              "      <th>turbine_blade_length</th>\n",
              "      <th>text</th>\n",
              "    </tr>\n",
              "  </thead>\n",
              "  <tbody>\n",
              "    <tr>\n",
              "      <th>0</th>\n",
              "      <td>49</td>\n",
              "      <td>unknown Wyoming County</td>\n",
              "      <td>other</td>\n",
              "      <td>-78.187935</td>\n",
              "      <td>42.740818</td>\n",
              "      <td>1.0</td>\n",
              "      <td>NaN</td>\n",
              "      <td>0.66904</td>\n",
              "      <td>41.0</td>\n",
              "      <td>Project Name: unknown Wyoming County&lt;br&gt;Number...</td>\n",
              "    </tr>\n",
              "    <tr>\n",
              "      <th>1</th>\n",
              "      <td>48</td>\n",
              "      <td>unknown Steuben County</td>\n",
              "      <td>other</td>\n",
              "      <td>-77.533662</td>\n",
              "      <td>42.486564</td>\n",
              "      <td>11.0</td>\n",
              "      <td>NaN</td>\n",
              "      <td>0.66904</td>\n",
              "      <td>41.0</td>\n",
              "      <td>Project Name: unknown Steuben County&lt;br&gt;Number...</td>\n",
              "    </tr>\n",
              "    <tr>\n",
              "      <th>2</th>\n",
              "      <td>47</td>\n",
              "      <td>unknown Oneida County</td>\n",
              "      <td>other</td>\n",
              "      <td>-75.447369</td>\n",
              "      <td>42.975771</td>\n",
              "      <td>2.0</td>\n",
              "      <td>NaN</td>\n",
              "      <td>0.66904</td>\n",
              "      <td>41.0</td>\n",
              "      <td>Project Name: unknown Oneida County&lt;br&gt;Number ...</td>\n",
              "    </tr>\n",
              "    <tr>\n",
              "      <th>3</th>\n",
              "      <td>46</td>\n",
              "      <td>unknown Niagara County</td>\n",
              "      <td>other</td>\n",
              "      <td>-78.493963</td>\n",
              "      <td>43.282899</td>\n",
              "      <td>1.0</td>\n",
              "      <td>NaN</td>\n",
              "      <td>0.66904</td>\n",
              "      <td>41.0</td>\n",
              "      <td>Project Name: unknown Niagara County&lt;br&gt;Number...</td>\n",
              "    </tr>\n",
              "    <tr>\n",
              "      <th>4</th>\n",
              "      <td>45</td>\n",
              "      <td>unknown Montgomery County</td>\n",
              "      <td>other</td>\n",
              "      <td>-74.510246</td>\n",
              "      <td>42.905187</td>\n",
              "      <td>2.0</td>\n",
              "      <td>NaN</td>\n",
              "      <td>0.66904</td>\n",
              "      <td>41.0</td>\n",
              "      <td>Project Name: unknown Montgomery County&lt;br&gt;Num...</td>\n",
              "    </tr>\n",
              "  </tbody>\n",
              "</table>\n",
              "</div>\n",
              "      <button class=\"colab-df-convert\" onclick=\"convertToInteractive('df-fa608a77-3596-45db-ab17-a06e8068b4be')\"\n",
              "              title=\"Convert this dataframe to an interactive table.\"\n",
              "              style=\"display:none;\">\n",
              "        \n",
              "  <svg xmlns=\"http://www.w3.org/2000/svg\" height=\"24px\"viewBox=\"0 0 24 24\"\n",
              "       width=\"24px\">\n",
              "    <path d=\"M0 0h24v24H0V0z\" fill=\"none\"/>\n",
              "    <path d=\"M18.56 5.44l.94 2.06.94-2.06 2.06-.94-2.06-.94-.94-2.06-.94 2.06-2.06.94zm-11 1L8.5 8.5l.94-2.06 2.06-.94-2.06-.94L8.5 2.5l-.94 2.06-2.06.94zm10 10l.94 2.06.94-2.06 2.06-.94-2.06-.94-.94-2.06-.94 2.06-2.06.94z\"/><path d=\"M17.41 7.96l-1.37-1.37c-.4-.4-.92-.59-1.43-.59-.52 0-1.04.2-1.43.59L10.3 9.45l-7.72 7.72c-.78.78-.78 2.05 0 2.83L4 21.41c.39.39.9.59 1.41.59.51 0 1.02-.2 1.41-.59l7.78-7.78 2.81-2.81c.8-.78.8-2.07 0-2.86zM5.41 20L4 18.59l7.72-7.72 1.47 1.35L5.41 20z\"/>\n",
              "  </svg>\n",
              "      </button>\n",
              "      \n",
              "  <style>\n",
              "    .colab-df-container {\n",
              "      display:flex;\n",
              "      flex-wrap:wrap;\n",
              "      gap: 12px;\n",
              "    }\n",
              "\n",
              "    .colab-df-convert {\n",
              "      background-color: #E8F0FE;\n",
              "      border: none;\n",
              "      border-radius: 50%;\n",
              "      cursor: pointer;\n",
              "      display: none;\n",
              "      fill: #1967D2;\n",
              "      height: 32px;\n",
              "      padding: 0 0 0 0;\n",
              "      width: 32px;\n",
              "    }\n",
              "\n",
              "    .colab-df-convert:hover {\n",
              "      background-color: #E2EBFA;\n",
              "      box-shadow: 0px 1px 2px rgba(60, 64, 67, 0.3), 0px 1px 3px 1px rgba(60, 64, 67, 0.15);\n",
              "      fill: #174EA6;\n",
              "    }\n",
              "\n",
              "    [theme=dark] .colab-df-convert {\n",
              "      background-color: #3B4455;\n",
              "      fill: #D2E3FC;\n",
              "    }\n",
              "\n",
              "    [theme=dark] .colab-df-convert:hover {\n",
              "      background-color: #434B5C;\n",
              "      box-shadow: 0px 1px 3px 1px rgba(0, 0, 0, 0.15);\n",
              "      filter: drop-shadow(0px 1px 2px rgba(0, 0, 0, 0.3));\n",
              "      fill: #FFFFFF;\n",
              "    }\n",
              "  </style>\n",
              "\n",
              "      <script>\n",
              "        const buttonEl =\n",
              "          document.querySelector('#df-fa608a77-3596-45db-ab17-a06e8068b4be button.colab-df-convert');\n",
              "        buttonEl.style.display =\n",
              "          google.colab.kernel.accessAllowed ? 'block' : 'none';\n",
              "\n",
              "        async function convertToInteractive(key) {\n",
              "          const element = document.querySelector('#df-fa608a77-3596-45db-ab17-a06e8068b4be');\n",
              "          const dataTable =\n",
              "            await google.colab.kernel.invokeFunction('convertToInteractive',\n",
              "                                                     [key], {});\n",
              "          if (!dataTable) return;\n",
              "\n",
              "          const docLinkHtml = 'Like what you see? Visit the ' +\n",
              "            '<a target=\"_blank\" href=https://colab.research.google.com/notebooks/data_table.ipynb>data table notebook</a>'\n",
              "            + ' to learn more about interactive tables.';\n",
              "          element.innerHTML = '';\n",
              "          dataTable['output_type'] = 'display_data';\n",
              "          await google.colab.output.renderOutput(dataTable, element);\n",
              "          const docLink = document.createElement('div');\n",
              "          docLink.innerHTML = docLinkHtml;\n",
              "          element.appendChild(docLink);\n",
              "        }\n",
              "      </script>\n",
              "    </div>\n",
              "  </div>\n",
              "  "
            ]
          },
          "metadata": {},
          "execution_count": 55
        }
      ]
    },
    {
      "cell_type": "code",
      "source": [
        "def TravelInfo(origin, destination):\n",
        "  \"\"\"\n",
        "  orgin: (x,y) where x and y represent latitude and longitude respectively\n",
        "  destination: (x,y) where x and y represent latitude and longitude respectively\n",
        "\n",
        "  returns travel distance in mi\n",
        "  \"\"\"\n",
        "  # Unpack the latitudes and longitudes\n",
        "  (lat1, lon1) = origin\n",
        "  (lat2, lon2) = destination\n",
        "  # Make API call to OSRM (Open Source Routing Machine) for travel info\n",
        "  r = requests.get(f\"\"\"http://router.project-osrm.org/route/v1/car/{lon1},{lat1};{lon2},{lat2}?overview=false\"\"\")\n",
        "  # Unpack desired info\n",
        "  route_1 = json.loads(r.content)[\"routes\"][0]\n",
        "  distance = route_1['distance']\n",
        "  duration = route_1['duration']\n",
        "  return distance/1609"
      ],
      "metadata": {
        "id": "D5dB05wBmH4T"
      },
      "execution_count": 56,
      "outputs": []
    },
    {
      "cell_type": "code",
      "source": [
        "def PredictTransportEmission(Windturbine,Destination):\n",
        "  \"\"\"\n",
        "  Predicts GHG emissions for transporting one windmill blade\n",
        "\n",
        "  destination: (x,y) where x and y represent latitude and longitude respectively\n",
        "\n",
        "  Windturbine is a row from the df with windmill info.\n",
        "  ex: Windturbine = df.iloc[7]\n",
        "  \"\"\"\n",
        "  # Assume flatbed is 16.2 meters, we need __ flatbeds for transport\n",
        "  numb_trucks = np.ceil(Windturbine['turbine_blade_length']/16.2)\n",
        "  # Transport Distance (mi)\n",
        "  Origin = (Windturbine['latitude'],Windturbine['longitude'])\n",
        "  transport_distance = TravelInfo(Origin, Destination)\n",
        "  # Shipment weight (lbs) --------------------------------------------------------- This we can create a model for if we can find some data\n",
        "  weight_tons = Windturbine['turbine_blade_weight']       # estimation based on XGBoost model\n",
        "  # Total # of ton miles\n",
        "  ton_miles = weight_tons * transport_distance\n",
        "  # Trucks emit 161.8 grams per ton-mile\n",
        "  emission_factor = 161.8\n",
        "\n",
        "  ghg_emissions = transport_distance * weight_tons * emission_factor\n",
        "  print(f'We expect {ghg_emissions} grams of GHG emissions.')\n",
        "  print(f'That is {ghg_emissions/1000} kilograms of GHG emissions;')\n",
        "  print(f'or, {ghg_emissions/1000000000} kilotons. ')\n"
      ],
      "metadata": {
        "id": "r4QsOmgGmOJV"
      },
      "execution_count": 68,
      "outputs": []
    },
    {
      "cell_type": "code",
      "source": [
        "locator = Nominatim(user_agent='myGeocoder')\n",
        "location = locator.geocode('Delaware Park, Buffalo, NY')"
      ],
      "metadata": {
        "id": "iuLITHuTp3-0"
      },
      "execution_count": 69,
      "outputs": []
    },
    {
      "cell_type": "code",
      "source": [
        "Windmill = df.iloc[10]\n",
        "Windmill"
      ],
      "metadata": {
        "colab": {
          "base_uri": "https://localhost:8080/"
        },
        "id": "KdcKNrGZp7Sm",
        "outputId": "92cffc1f-f769-411e-a749-3343c277e363"
      },
      "execution_count": 70,
      "outputs": [
        {
          "output_type": "execute_result",
          "data": {
            "text/plain": [
              "Unnamed: 0                                                               39\n",
              "p_name                                            unknown Chautauqua County\n",
              "manufacturer_processed                                                other\n",
              "longitude                                                         -79.11637\n",
              "latitude                                                           42.55933\n",
              "numb_turbines                                                           1.0\n",
              "avg_turbine_capacity                                                    NaN\n",
              "turbine_blade_weight                                                0.66904\n",
              "turbine_blade_length                                                   41.0\n",
              "text                      Project Name: unknown Chautauqua County<br>Num...\n",
              "Name: 10, dtype: object"
            ]
          },
          "metadata": {},
          "execution_count": 70
        }
      ]
    },
    {
      "cell_type": "code",
      "source": [
        "PredictTransportEmission(\n",
        "    Windmill,\n",
        "    (location.latitude,location.longitude)\n",
        "                         )"
      ],
      "metadata": {
        "colab": {
          "base_uri": "https://localhost:8080/"
        },
        "id": "QLdPNfevp-oX",
        "outputId": "24aebf04-27f4-4ce4-ffd4-8c737776d1c1"
      },
      "execution_count": 71,
      "outputs": [
        {
          "output_type": "stream",
          "name": "stdout",
          "text": [
            "We expect 4163.075330116762 grams of GHG emissions.\n",
            "That is 4.1630753301167625 kilograms of GHG emissions;\n",
            "or, 4.163075330116763e-06 kilotons. \n"
          ]
        }
      ]
    },
    {
      "cell_type": "code",
      "source": [],
      "metadata": {
        "id": "EXSpucxwqAli"
      },
      "execution_count": null,
      "outputs": []
    }
  ]
}