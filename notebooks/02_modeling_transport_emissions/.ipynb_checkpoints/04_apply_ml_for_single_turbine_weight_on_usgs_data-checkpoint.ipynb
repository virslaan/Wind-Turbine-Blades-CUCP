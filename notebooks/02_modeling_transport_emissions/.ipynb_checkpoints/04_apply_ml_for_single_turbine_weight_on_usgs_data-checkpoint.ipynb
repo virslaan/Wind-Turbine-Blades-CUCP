{
 "cells": [
  {
   "cell_type": "markdown",
   "metadata": {
    "id": "qXHRwpbPgUzf"
   },
   "source": [
    "# Imports"
   ]
  },
  {
   "cell_type": "code",
   "execution_count": null,
   "metadata": {
    "colab": {
     "base_uri": "https://localhost:8080/"
    },
    "id": "UhYNr5t2fv_L",
    "outputId": "7c1714f8-6b2a-4499-a5eb-1138527509db"
   },
   "outputs": [
    {
     "name": "stdout",
     "output_type": "stream",
     "text": [
      "Drive already mounted at /content/drive/; to attempt to forcibly remount, call drive.mount(\"/content/drive/\", force_remount=True).\n"
     ]
    }
   ],
   "source": [
    "# Standard Imports\n",
    "import numpy as np\n",
    "import pandas as pd\n",
    "import matplotlib.pyplot as plt\n",
    "import seaborn as sns\n",
    "sns.set_style('darkgrid')\n",
    "\n",
    "# Load ML Model\n",
    "import joblib"
   ]
  },
  {
   "cell_type": "markdown",
   "metadata": {
    "id": "iGVn7PpGgtNu"
   },
   "source": [
    "# Load USGS Data"
   ]
  },
  {
   "cell_type": "code",
   "execution_count": null,
   "metadata": {
    "id": "J665FUoxgrKV"
   },
   "outputs": [],
   "source": [
    "useful_columns = ['t_manu','t_cap','t_rd','t_rsa','t_hh','t_state']\n",
    "                  \n",
    "df = pd.read_csv('../../data/raw/usgs/usgs_data.csv',\n",
    "                 engine='python',encoding='latin1',usecols=useful_columns)\n",
    "# We want only New York data\n",
    "df = df[df.t_state=='NY']\n",
    "df.drop('t_state',axis=1,inplace=True)"
   ]
  },
  {
   "cell_type": "markdown",
   "metadata": {
    "id": "gnuRlHq_ivsw"
   },
   "source": [
    "Preprocess the `t_manu` column, so it works with our model."
   ]
  },
  {
   "cell_type": "code",
   "execution_count": null,
   "metadata": {
    "id": "fw30rgdHiino"
   },
   "outputs": [],
   "source": [
    "processed_manu = [x.lower() if type(x)==str else x for x in list(df['t_manu'])]\n",
    "\n",
    "for i in range(len(processed_manu)):\n",
    "    if processed_manu[i] not in ['fuhrlander', 'ge wind','goldwind','nordex','other', 'repower', 'siemens gamesa renewable energy', 'vensys', 'vergnet','vestas']:\n",
    "        processed_manu[i] = 'other'\n",
    "\n",
    "df.insert(1, 'manufacturer_processed', processed_manu)\n",
    "\n",
    "df.drop('t_manu',axis=1,inplace=True)\n"
   ]
  },
  {
   "cell_type": "code",
   "execution_count": null,
   "metadata": {
    "id": "5cGBNerLiiGZ"
   },
   "outputs": [],
   "source": [
    "X = np.array(df[['manufacturer_processed','t_cap','t_rd','t_rsa','t_hh']])"
   ]
  },
  {
   "cell_type": "code",
   "execution_count": null,
   "metadata": {
    "id": "jUUJrGDZmG9b"
   },
   "outputs": [],
   "source": [
    "model_path = './xgb_predict_rotor_weight_tons.pkl'\n",
    "model = joblib.load(model_path)\n",
    "\n",
    "df['rotor_weight'] = model.predict(X)"
   ]
  },
  {
   "cell_type": "code",
   "execution_count": null,
   "metadata": {
    "id": "gWM5aVFfmlSW"
   },
   "outputs": [],
   "source": [
    "df.sort_values(by=['t_rd'], inplace=True)"
   ]
  },
  {
   "cell_type": "code",
   "execution_count": null,
   "metadata": {
    "id": "k7_2g2nakVVI"
   },
   "outputs": [],
   "source": [
    "df['turbine_blade_weight'] = (1/6) * df['rotor_weight']"
   ]
  },
  {
   "cell_type": "code",
   "execution_count": null,
   "metadata": {
    "id": "PlVTI1jim23B"
   },
   "outputs": [],
   "source": [
    "df.to_csv('/../../data/processed/usgs_data_w_turbine_blade_weight.csv',index=False)"
   ]
  },
  {
   "cell_type": "code",
   "execution_count": null,
   "metadata": {
    "colab": {
     "base_uri": "https://localhost:8080/",
     "height": 298
    },
    "id": "JIP9hwFvkB5P",
    "outputId": "7804f37c-0255-4960-c9cf-f14d41bbc120"
   },
   "outputs": [
    {
     "data": {
      "text/plain": [
       "<matplotlib.axes._subplots.AxesSubplot at 0x7f20469f4650>"
      ]
     },
     "execution_count": 37,
     "metadata": {},
     "output_type": "execute_result"
    },
    {
     "data": {
      "image/png": "[encoded data removed]",
      "text/plain": [
       "<Figure size 432x288 with 1 Axes>"
      ]
     },
     "metadata": {},
     "output_type": "display_data"
    }
   ],
   "source": [
    "sns.histplot(df['turbine_blade_weight'])"
   ]
  }
 ],
 "metadata": {
  "colab": {
   "collapsed_sections": [],
   "provenance": []
  },
  "kernelspec": {
   "display_name": "Python 3",
   "language": "python",
   "name": "python3"
  },
  "language_info": {
   "codemirror_mode": {
    "name": "ipython",
    "version": 3
   },
   "file_extension": ".py",
   "mimetype": "text/x-python",
   "name": "python",
   "nbconvert_exporter": "python",
   "pygments_lexer": "ipython3",
   "version": "3.8.8"
  }
 },
 "nbformat": 4,
 "nbformat_minor": 1
}
