{
 "cells": [
  {
   "cell_type": "code",
   "execution_count": 1,
   "metadata": {
    "id": "3zfNqSStOGYU"
   },
   "outputs": [],
   "source": [
    "import requests\n",
    "import json\n",
    "from datetime import timedelta"
   ]
  },
  {
   "cell_type": "code",
   "execution_count": 2,
   "metadata": {
    "id": "Abj-mQFse-Tz"
   },
   "outputs": [],
   "source": [
    "def TravelInfo(origin, destination):\n",
    "    \"\"\"\n",
    "    orgin: (x,y) where x and y represent latitude and longitude respectively\n",
    "    destination: (x,y) where x and y represent latitude and longitude respectively\n",
    "    \"\"\"\n",
    "    # Unpack the latitudes and longitudes\n",
    "    (lat1, lon1) = origin\n",
    "    (lat2, lon2) = destination\n",
    "    # Make API call to OSRM (Open Source Routing Machine) for travel info\n",
    "    r = requests.get(f\"\"\"http://router.project-osrm.org/route/v1/car/{lon1},{lat1};{lon2},{lat2}?overview=false\"\"\")\n",
    "    # Unpack desired info\n",
    "    route_1 = json.loads(r.content)[\"routes\"][0]\n",
    "    distance = route_1['distance']\n",
    "    duration = route_1['duration']\n",
    "    # Print output\n",
    "    print(f\"Driving Distance (m): {distance}\")\n",
    "    print(f\"Driving Time (s): {duration}\")\n",
    "    print(\"--------------------------------------------\")\n",
    "    print(f\"Driving Distance (mi): {distance/1609}\")\n",
    "    print(f\"Driving Time: {str(timedelta(seconds=duration))}\")\n",
    "    return None\n"
   ]
  },
  {
   "cell_type": "code",
   "execution_count": 3,
   "metadata": {
    "colab": {
     "base_uri": "https://localhost:8080/"
    },
    "executionInfo": {
     "elapsed": 15,
     "status": "ok",
     "timestamp": 1665218212879,
     "user": {
      "displayName": "Sarosh Sopariwalla",
      "userId": "09120032230974479138"
     },
     "user_tz": 420
    },
    "id": "wfT4VYj_hO5v",
    "outputId": "ceceddf0-824d-497b-bc9b-b99f61d72cb8"
   },
   "outputs": [
    {
     "name": "stdout",
     "output_type": "stream",
     "text": [
      "Driving Distance (m): 4684852.4\n",
      "Driving Time (s): 184097.4\n",
      "--------------------------------------------\n",
      "Driving Distance (mi): 2911.6546923555006\n",
      "Driving Time: 2 days, 3:08:17.400000\n"
     ]
    }
   ],
   "source": [
    "lon1 = -73.962570\n",
    "lat1 = 40.807537\n",
    "\n",
    "lon2 = -121.901030\n",
    "lat2 = 37.766970\n",
    "\n",
    "TravelInfo((lat1,lon1),(lat2,lon2))"
   ]
  }
 ],
 "metadata": {
  "colab": {
   "provenance": []
  },
  "kernelspec": {
   "display_name": "Python 3",
   "language": "python",
   "name": "python3"
  },
  "language_info": {
   "codemirror_mode": {
    "name": "ipython",
    "version": 3
   },
   "file_extension": ".py",
   "mimetype": "text/x-python",
   "name": "python",
   "nbconvert_exporter": "python",
   "pygments_lexer": "ipython3",
   "version": "3.8.8"
  }
 },
 "nbformat": 4,
 "nbformat_minor": 1
}
