{
 "cells": [
  {
   "cell_type": "markdown",
   "metadata": {
    "id": "rNgg3fsGXXve"
   },
   "source": [
    "# Imports"
   ]
  },
  {
   "cell_type": "code",
   "execution_count": 1,
   "metadata": {
    "colab": {
     "base_uri": "https://localhost:8080/"
    },
    "executionInfo": {
     "elapsed": 1327,
     "status": "ok",
     "timestamp": 1665348264901,
     "user": {
      "displayName": "Sarosh Sopariwalla",
      "userId": "09791784986979668972"
     },
     "user_tz": 420
    },
    "id": "8kpNIYngXD1x",
    "outputId": "3250aba0-99de-4501-8ef2-7ff3ae88551a"
   },
   "outputs": [],
   "source": [
    "import numpy as np\n",
    "import pandas as pd\n",
    "import matplotlib.pyplot as plt\n",
    "import seaborn as sns\n",
    "sns.set_style('darkgrid')\n",
    "\n",
    "import requests\n",
    "import json\n",
    "from datetime import timedelta\n",
    "\n",
    "from geopy import Nominatim"
   ]
  },
  {
   "cell_type": "markdown",
   "metadata": {
    "id": "VtKE5IiRXh5W"
   },
   "source": [
    "# Load Windmill Data"
   ]
  },
  {
   "cell_type": "code",
   "execution_count": 2,
   "metadata": {
    "colab": {
     "base_uri": "https://localhost:8080/",
     "height": 206
    },
    "executionInfo": {
     "elapsed": 4625,
     "status": "ok",
     "timestamp": 1665346245227,
     "user": {
      "displayName": "Sarosh Sopariwalla",
      "userId": "09791784986979668972"
     },
     "user_tz": 420
    },
    "id": "hJMOmg-1XZJS",
    "outputId": "94bc0bce-ea14-4455-9880-d8629d926c41"
   },
   "outputs": [
    {
     "data": {
      "text/html": [
       "<div>\n",
       "<style scoped>\n",
       "    .dataframe tbody tr th:only-of-type {\n",
       "        vertical-align: middle;\n",
       "    }\n",
       "\n",
       "    .dataframe tbody tr th {\n",
       "        vertical-align: top;\n",
       "    }\n",
       "\n",
       "    .dataframe thead th {\n",
       "        text-align: right;\n",
       "    }\n",
       "</style>\n",
       "<table border=\"1\" class=\"dataframe\">\n",
       "  <thead>\n",
       "    <tr style=\"text-align: right;\">\n",
       "      <th></th>\n",
       "      <th>case_id</th>\n",
       "      <th>t_state</th>\n",
       "      <th>t_county</th>\n",
       "      <th>t_fips</th>\n",
       "      <th>p_name</th>\n",
       "      <th>p_year</th>\n",
       "      <th>p_tnum</th>\n",
       "      <th>p_cap</th>\n",
       "      <th>t_manu</th>\n",
       "      <th>t_model</th>\n",
       "      <th>t_cap</th>\n",
       "      <th>t_hh</th>\n",
       "      <th>t_rd</th>\n",
       "      <th>t_rsa</th>\n",
       "      <th>t_ttlh</th>\n",
       "      <th>xlong</th>\n",
       "      <th>ylat</th>\n",
       "    </tr>\n",
       "  </thead>\n",
       "  <tbody>\n",
       "    <tr>\n",
       "      <th>1528</th>\n",
       "      <td>3075480</td>\n",
       "      <td>NY</td>\n",
       "      <td>Chautauqua County</td>\n",
       "      <td>36013</td>\n",
       "      <td>Arkwright Summit</td>\n",
       "      <td>2018.0</td>\n",
       "      <td>36</td>\n",
       "      <td>78.4</td>\n",
       "      <td>Vestas</td>\n",
       "      <td>V110-2.0</td>\n",
       "      <td>2200.0</td>\n",
       "      <td>95.0</td>\n",
       "      <td>110.0</td>\n",
       "      <td>9503.32</td>\n",
       "      <td>150.0</td>\n",
       "      <td>-79.230286</td>\n",
       "      <td>42.395222</td>\n",
       "    </tr>\n",
       "    <tr>\n",
       "      <th>1529</th>\n",
       "      <td>3075488</td>\n",
       "      <td>NY</td>\n",
       "      <td>Chautauqua County</td>\n",
       "      <td>36013</td>\n",
       "      <td>Arkwright Summit</td>\n",
       "      <td>2018.0</td>\n",
       "      <td>36</td>\n",
       "      <td>78.4</td>\n",
       "      <td>Vestas</td>\n",
       "      <td>V110-2.0</td>\n",
       "      <td>2200.0</td>\n",
       "      <td>95.0</td>\n",
       "      <td>110.0</td>\n",
       "      <td>9503.32</td>\n",
       "      <td>150.0</td>\n",
       "      <td>-79.245026</td>\n",
       "      <td>42.427578</td>\n",
       "    </tr>\n",
       "    <tr>\n",
       "      <th>1530</th>\n",
       "      <td>3075460</td>\n",
       "      <td>NY</td>\n",
       "      <td>Chautauqua County</td>\n",
       "      <td>36013</td>\n",
       "      <td>Arkwright Summit</td>\n",
       "      <td>2018.0</td>\n",
       "      <td>36</td>\n",
       "      <td>78.4</td>\n",
       "      <td>Vestas</td>\n",
       "      <td>V110-2.0</td>\n",
       "      <td>2200.0</td>\n",
       "      <td>95.0</td>\n",
       "      <td>110.0</td>\n",
       "      <td>9503.32</td>\n",
       "      <td>150.0</td>\n",
       "      <td>-79.222168</td>\n",
       "      <td>42.388699</td>\n",
       "    </tr>\n",
       "    <tr>\n",
       "      <th>1531</th>\n",
       "      <td>3075489</td>\n",
       "      <td>NY</td>\n",
       "      <td>Chautauqua County</td>\n",
       "      <td>36013</td>\n",
       "      <td>Arkwright Summit</td>\n",
       "      <td>2018.0</td>\n",
       "      <td>36</td>\n",
       "      <td>78.4</td>\n",
       "      <td>Vestas</td>\n",
       "      <td>V110-2.0</td>\n",
       "      <td>2000.0</td>\n",
       "      <td>95.0</td>\n",
       "      <td>110.0</td>\n",
       "      <td>9503.32</td>\n",
       "      <td>150.0</td>\n",
       "      <td>-79.252396</td>\n",
       "      <td>42.430599</td>\n",
       "    </tr>\n",
       "    <tr>\n",
       "      <th>1532</th>\n",
       "      <td>3075456</td>\n",
       "      <td>NY</td>\n",
       "      <td>Chautauqua County</td>\n",
       "      <td>36013</td>\n",
       "      <td>Arkwright Summit</td>\n",
       "      <td>2018.0</td>\n",
       "      <td>36</td>\n",
       "      <td>78.4</td>\n",
       "      <td>Vestas</td>\n",
       "      <td>V110-2.0</td>\n",
       "      <td>2000.0</td>\n",
       "      <td>95.0</td>\n",
       "      <td>110.0</td>\n",
       "      <td>9503.32</td>\n",
       "      <td>150.0</td>\n",
       "      <td>-79.232803</td>\n",
       "      <td>42.430202</td>\n",
       "    </tr>\n",
       "  </tbody>\n",
       "</table>\n",
       "</div>"
      ],
      "text/plain": [
       "      case_id t_state           t_county  t_fips            p_name  p_year  \\\n",
       "1528  3075480      NY  Chautauqua County   36013  Arkwright Summit  2018.0   \n",
       "1529  3075488      NY  Chautauqua County   36013  Arkwright Summit  2018.0   \n",
       "1530  3075460      NY  Chautauqua County   36013  Arkwright Summit  2018.0   \n",
       "1531  3075489      NY  Chautauqua County   36013  Arkwright Summit  2018.0   \n",
       "1532  3075456      NY  Chautauqua County   36013  Arkwright Summit  2018.0   \n",
       "\n",
       "      p_tnum  p_cap  t_manu   t_model   t_cap  t_hh   t_rd    t_rsa  t_ttlh  \\\n",
       "1528      36   78.4  Vestas  V110-2.0  2200.0  95.0  110.0  9503.32   150.0   \n",
       "1529      36   78.4  Vestas  V110-2.0  2200.0  95.0  110.0  9503.32   150.0   \n",
       "1530      36   78.4  Vestas  V110-2.0  2200.0  95.0  110.0  9503.32   150.0   \n",
       "1531      36   78.4  Vestas  V110-2.0  2000.0  95.0  110.0  9503.32   150.0   \n",
       "1532      36   78.4  Vestas  V110-2.0  2000.0  95.0  110.0  9503.32   150.0   \n",
       "\n",
       "          xlong       ylat  \n",
       "1528 -79.230286  42.395222  \n",
       "1529 -79.245026  42.427578  \n",
       "1530 -79.222168  42.388699  \n",
       "1531 -79.252396  42.430599  \n",
       "1532 -79.232803  42.430202  "
      ]
     },
     "execution_count": 2,
     "metadata": {},
     "output_type": "execute_result"
    }
   ],
   "source": [
    "useful_columns = ['case_id','t_state','t_county','t_fips','p_name','p_year',\n",
    "                  'p_tnum','p_cap','t_manu','t_model','t_cap','t_hh','t_rd',\n",
    "                  't_rsa','t_ttlh','xlong','ylat']\n",
    "                  \n",
    "df = pd.read_csv('../../data/raw/usgs/usgs_data.csv',\n",
    "                 engine='python',encoding='latin1',usecols=useful_columns)\n",
    "# We want only New York data\n",
    "df = df[df.t_state=='NY']\n",
    "df.head()"
   ]
  },
  {
   "cell_type": "markdown",
   "metadata": {
    "id": "_slCqDFtX2L0"
   },
   "source": [
    "### Compute Blade Lengths"
   ]
  },
  {
   "cell_type": "code",
   "execution_count": 3,
   "metadata": {
    "id": "90fUVdPnX1_J"
   },
   "outputs": [],
   "source": [
    "df['t_blade_length'] = df['t_rd'] / 2"
   ]
  },
  {
   "cell_type": "markdown",
   "metadata": {
    "id": "1JdlvsH1X_NU"
   },
   "source": [
    "# Main Computation Functions"
   ]
  },
  {
   "cell_type": "code",
   "execution_count": 4,
   "metadata": {
    "id": "AUmva2B8Xv4X"
   },
   "outputs": [],
   "source": [
    "def TravelInfo(origin, destination):\n",
    "    \"\"\"\n",
    "    orgin: (x,y) where x and y represent latitude and longitude respectively\n",
    "    destination: (x,y) where x and y represent latitude and longitude respectively\n",
    "\n",
    "    returns travel distance in mi\n",
    "    \"\"\"\n",
    "    # Unpack the latitudes and longitudes\n",
    "    (lat1, lon1) = origin\n",
    "    (lat2, lon2) = destination\n",
    "    # Make API call to OSRM (Open Source Routing Machine) for travel info\n",
    "    r = requests.get(f\"\"\"http://router.project-osrm.org/route/v1/car/{lon1},{lat1};{lon2},{lat2}?overview=false\"\"\")\n",
    "    # Unpack desired info\n",
    "    route_1 = json.loads(r.content)[\"routes\"][0]\n",
    "    distance = route_1['distance']\n",
    "    duration = route_1['duration']\n",
    "    # Print output\n",
    "    # print(f\"Driving Distance (m): {distance}\")\n",
    "    # print(f\"Driving Time (s): {duration}\")\n",
    "    # print(\"--------------------------------------------\")\n",
    "    # print(f\"Driving Distance (mi): {distance/1609}\")\n",
    "    # print(f\"Driving Time: {str(timedelta(seconds=duration))}\")\n",
    "    return distance/1609"
   ]
  },
  {
   "cell_type": "markdown",
   "metadata": {
    "id": "-Wp9pH1Oa1qb"
   },
   "source": [
    "### Units of GHG Emissions\n",
    "\n",
    "miles $\\times$ tons $\\times$ $\\frac{\\text{grams}}{\\text{tons $\\cdot$ mile}} = \\text{grams} $ "
   ]
  },
  {
   "cell_type": "code",
   "execution_count": 5,
   "metadata": {
    "id": "n_VmunFfYGj9"
   },
   "outputs": [],
   "source": [
    "def PredictTransportEmission(Windturbine,Destination):\n",
    "    \"\"\"\n",
    "    Predicts GHG emissions for transporting one windmill blade\n",
    "\n",
    "    destination: (x,y) where x and y represent latitude and longitude respectively\n",
    "\n",
    "    Windturbine is a row from the df with windmill info.\n",
    "    ex: Windturbine = df.iloc[7]\n",
    "    \"\"\"\n",
    "    # Assume flatbed is 16.2 meters, we need __ flatbeds for transport\n",
    "    numb_trucks = np.ceil(Windturbine['t_blade_length']/16.2)\n",
    "    # Transport Distance (mi)\n",
    "    Origin = (Windturbine['ylat'],Windturbine['xlong'])\n",
    "    transport_distance = TravelInfo(Origin, Destination)\n",
    "    # Shipment weight (lbs) --------------------------------------------------------- This we can create a model for if we can find some data\n",
    "    weight = 5200       # low estimate\n",
    "    weight_tons = weight / 2000\n",
    "    # Total # of ton miles\n",
    "    ton_miles = weight_tons * transport_distance\n",
    "    # Trucks emit 161.8 grams per ton-mile\n",
    "    emission_factor = 161.8\n",
    "\n",
    "    ghg_emissions = transport_distance * weight_tons * emission_factor\n",
    "    print(f'We expect {ghg_emissions} grams of GHG emissions.')\n",
    "    print(f'That is {ghg_emissions/1000} kilograms of GHG emissions;')\n",
    "    print(f'or, {ghg_emissions/1000000000} kilotons. ')\n"
   ]
  },
  {
   "cell_type": "markdown",
   "metadata": {
    "id": "8LWzt_9_fycc"
   },
   "source": [
    "# Sample\n",
    "\n",
    "Let's take a random windmill."
   ]
  },
  {
   "cell_type": "code",
   "execution_count": 6,
   "metadata": {
    "colab": {
     "base_uri": "https://localhost:8080/"
    },
    "executionInfo": {
     "elapsed": 181,
     "status": "ok",
     "timestamp": 1665348895000,
     "user": {
      "displayName": "Sarosh Sopariwalla",
      "userId": "09791784986979668972"
     },
     "user_tz": 420
    },
    "id": "jIeP0dDqfj-W",
    "outputId": "b482e130-8134-4940-bb15-daed5ca6e431"
   },
   "outputs": [
    {
     "data": {
      "text/plain": [
       "case_id                      3021582\n",
       "t_state                           NY\n",
       "t_county              Wyoming County\n",
       "t_fips                         36121\n",
       "p_name            Noble Wethersfield\n",
       "p_year                        2009.0\n",
       "p_tnum                            84\n",
       "p_cap                          126.0\n",
       "t_manu                       GE Wind\n",
       "t_model                     GE1.5-77\n",
       "t_cap                         1500.0\n",
       "t_hh                            80.0\n",
       "t_rd                            77.0\n",
       "t_rsa                        4656.63\n",
       "t_ttlh                         118.6\n",
       "xlong                     -78.230995\n",
       "ylat                       42.614792\n",
       "t_blade_length                  38.5\n",
       "Name: 41757, dtype: object"
      ]
     },
     "execution_count": 6,
     "metadata": {},
     "output_type": "execute_result"
    }
   ],
   "source": [
    "Windmill = df.iloc[1000]\n",
    "Windmill"
   ]
  },
  {
   "cell_type": "markdown",
   "metadata": {
    "id": "Jf9cJwMXf6-v"
   },
   "source": [
    "Let's send it to Delaware park in Buffalo New York. (In reality we will need to route to reuse centers, then to park; but, for example, we can use this.)"
   ]
  },
  {
   "cell_type": "code",
   "execution_count": 7,
   "metadata": {
    "id": "WVYLveGugiR6"
   },
   "outputs": [],
   "source": [
    "locator = Nominatim(user_agent='myGeocoder')\n",
    "location = locator.geocode('Delaware Park, Buffalo, NY')"
   ]
  },
  {
   "cell_type": "code",
   "execution_count": 8,
   "metadata": {
    "colab": {
     "base_uri": "https://localhost:8080/"
    },
    "executionInfo": {
     "elapsed": 642,
     "status": "ok",
     "timestamp": 1665349142383,
     "user": {
      "displayName": "Sarosh Sopariwalla",
      "userId": "09791784986979668972"
     },
     "user_tz": 420
    },
    "id": "P-1tHNhUeWTY",
    "outputId": "c6d896ff-f10c-46fe-df4f-0d8e82b4b8d2"
   },
   "outputs": [
    {
     "name": "stdout",
     "output_type": "stream",
     "text": [
      "We expect 21286.6955997514 grams of GHG emissions.\n",
      "That is 21.2866955997514 kilograms of GHG emissions;\n",
      "or, 2.1286695599751403e-05 kilotons. \n"
     ]
    }
   ],
   "source": [
    "PredictTransportEmission(\n",
    "    Windmill,\n",
    "    (location.latitude,location.longitude)\n",
    "                         )"
   ]
  }
 ],
 "metadata": {
  "colab": {
   "provenance": []
  },
  "kernelspec": {
   "display_name": "Python 3",
   "language": "python",
   "name": "python3"
  },
  "language_info": {
   "codemirror_mode": {
    "name": "ipython",
    "version": 3
   },
   "file_extension": ".py",
   "mimetype": "text/x-python",
   "name": "python",
   "nbconvert_exporter": "python",
   "pygments_lexer": "ipython3",
   "version": "3.8.8"
  }
 },
 "nbformat": 4,
 "nbformat_minor": 1
}
