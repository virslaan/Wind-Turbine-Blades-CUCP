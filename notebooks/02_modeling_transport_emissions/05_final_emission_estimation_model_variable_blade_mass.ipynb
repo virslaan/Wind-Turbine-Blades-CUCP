{
 "cells": [
  {
   "cell_type": "markdown",
   "id": "89a6a7b6",
   "metadata": {
    "id": "rNgg3fsGXXve"
   },
   "source": [
    "# Imports"
   ]
  },
  {
   "cell_type": "code",
   "execution_count": 1,
   "id": "02fc4dd2",
   "metadata": {},
   "outputs": [],
   "source": [
    "import numpy as np\n",
    "import pandas as pd\n",
    "import matplotlib.pyplot as plt\n",
    "import seaborn as sns\n",
    "sns.set_style('darkgrid')\n",
    "\n",
    "import requests\n",
    "import json\n",
    "from datetime import timedelta\n",
    "\n",
    "from geopy import Nominatim"
   ]
  },
  {
   "cell_type": "markdown",
   "id": "56334beb",
   "metadata": {},
   "source": [
    "# Load Windmill Data"
   ]
  },
  {
   "cell_type": "code",
   "execution_count": 2,
   "id": "19d6b984",
   "metadata": {},
   "outputs": [
    {
     "data": {
      "text/html": [
       "<div>\n",
       "<style scoped>\n",
       "    .dataframe tbody tr th:only-of-type {\n",
       "        vertical-align: middle;\n",
       "    }\n",
       "\n",
       "    .dataframe tbody tr th {\n",
       "        vertical-align: top;\n",
       "    }\n",
       "\n",
       "    .dataframe thead th {\n",
       "        text-align: right;\n",
       "    }\n",
       "</style>\n",
       "<table border=\"1\" class=\"dataframe\">\n",
       "  <thead>\n",
       "    <tr style=\"text-align: right;\">\n",
       "      <th></th>\n",
       "      <th>case_id</th>\n",
       "      <th>t_state</th>\n",
       "      <th>t_county</th>\n",
       "      <th>t_fips</th>\n",
       "      <th>p_name</th>\n",
       "      <th>p_year</th>\n",
       "      <th>p_tnum</th>\n",
       "      <th>p_cap</th>\n",
       "      <th>t_manu</th>\n",
       "      <th>t_model</th>\n",
       "      <th>t_cap</th>\n",
       "      <th>t_hh</th>\n",
       "      <th>t_rd</th>\n",
       "      <th>t_rsa</th>\n",
       "      <th>t_ttlh</th>\n",
       "      <th>xlong</th>\n",
       "      <th>ylat</th>\n",
       "    </tr>\n",
       "  </thead>\n",
       "  <tbody>\n",
       "    <tr>\n",
       "      <th>1528</th>\n",
       "      <td>3075480</td>\n",
       "      <td>NY</td>\n",
       "      <td>Chautauqua County</td>\n",
       "      <td>36013</td>\n",
       "      <td>Arkwright Summit</td>\n",
       "      <td>2018.0</td>\n",
       "      <td>36</td>\n",
       "      <td>78.4</td>\n",
       "      <td>Vestas</td>\n",
       "      <td>V110-2.0</td>\n",
       "      <td>2200.0</td>\n",
       "      <td>95.0</td>\n",
       "      <td>110.0</td>\n",
       "      <td>9503.32</td>\n",
       "      <td>150.0</td>\n",
       "      <td>-79.230286</td>\n",
       "      <td>42.395222</td>\n",
       "    </tr>\n",
       "    <tr>\n",
       "      <th>1529</th>\n",
       "      <td>3075488</td>\n",
       "      <td>NY</td>\n",
       "      <td>Chautauqua County</td>\n",
       "      <td>36013</td>\n",
       "      <td>Arkwright Summit</td>\n",
       "      <td>2018.0</td>\n",
       "      <td>36</td>\n",
       "      <td>78.4</td>\n",
       "      <td>Vestas</td>\n",
       "      <td>V110-2.0</td>\n",
       "      <td>2200.0</td>\n",
       "      <td>95.0</td>\n",
       "      <td>110.0</td>\n",
       "      <td>9503.32</td>\n",
       "      <td>150.0</td>\n",
       "      <td>-79.245026</td>\n",
       "      <td>42.427578</td>\n",
       "    </tr>\n",
       "    <tr>\n",
       "      <th>1530</th>\n",
       "      <td>3075460</td>\n",
       "      <td>NY</td>\n",
       "      <td>Chautauqua County</td>\n",
       "      <td>36013</td>\n",
       "      <td>Arkwright Summit</td>\n",
       "      <td>2018.0</td>\n",
       "      <td>36</td>\n",
       "      <td>78.4</td>\n",
       "      <td>Vestas</td>\n",
       "      <td>V110-2.0</td>\n",
       "      <td>2200.0</td>\n",
       "      <td>95.0</td>\n",
       "      <td>110.0</td>\n",
       "      <td>9503.32</td>\n",
       "      <td>150.0</td>\n",
       "      <td>-79.222168</td>\n",
       "      <td>42.388699</td>\n",
       "    </tr>\n",
       "    <tr>\n",
       "      <th>1531</th>\n",
       "      <td>3075489</td>\n",
       "      <td>NY</td>\n",
       "      <td>Chautauqua County</td>\n",
       "      <td>36013</td>\n",
       "      <td>Arkwright Summit</td>\n",
       "      <td>2018.0</td>\n",
       "      <td>36</td>\n",
       "      <td>78.4</td>\n",
       "      <td>Vestas</td>\n",
       "      <td>V110-2.0</td>\n",
       "      <td>2000.0</td>\n",
       "      <td>95.0</td>\n",
       "      <td>110.0</td>\n",
       "      <td>9503.32</td>\n",
       "      <td>150.0</td>\n",
       "      <td>-79.252396</td>\n",
       "      <td>42.430599</td>\n",
       "    </tr>\n",
       "    <tr>\n",
       "      <th>1532</th>\n",
       "      <td>3075456</td>\n",
       "      <td>NY</td>\n",
       "      <td>Chautauqua County</td>\n",
       "      <td>36013</td>\n",
       "      <td>Arkwright Summit</td>\n",
       "      <td>2018.0</td>\n",
       "      <td>36</td>\n",
       "      <td>78.4</td>\n",
       "      <td>Vestas</td>\n",
       "      <td>V110-2.0</td>\n",
       "      <td>2000.0</td>\n",
       "      <td>95.0</td>\n",
       "      <td>110.0</td>\n",
       "      <td>9503.32</td>\n",
       "      <td>150.0</td>\n",
       "      <td>-79.232803</td>\n",
       "      <td>42.430202</td>\n",
       "    </tr>\n",
       "  </tbody>\n",
       "</table>\n",
       "</div>"
      ],
      "text/plain": [
       "      case_id t_state           t_county  t_fips            p_name  p_year  \\\n",
       "1528  3075480      NY  Chautauqua County   36013  Arkwright Summit  2018.0   \n",
       "1529  3075488      NY  Chautauqua County   36013  Arkwright Summit  2018.0   \n",
       "1530  3075460      NY  Chautauqua County   36013  Arkwright Summit  2018.0   \n",
       "1531  3075489      NY  Chautauqua County   36013  Arkwright Summit  2018.0   \n",
       "1532  3075456      NY  Chautauqua County   36013  Arkwright Summit  2018.0   \n",
       "\n",
       "      p_tnum  p_cap  t_manu   t_model   t_cap  t_hh   t_rd    t_rsa  t_ttlh  \\\n",
       "1528      36   78.4  Vestas  V110-2.0  2200.0  95.0  110.0  9503.32   150.0   \n",
       "1529      36   78.4  Vestas  V110-2.0  2200.0  95.0  110.0  9503.32   150.0   \n",
       "1530      36   78.4  Vestas  V110-2.0  2200.0  95.0  110.0  9503.32   150.0   \n",
       "1531      36   78.4  Vestas  V110-2.0  2000.0  95.0  110.0  9503.32   150.0   \n",
       "1532      36   78.4  Vestas  V110-2.0  2000.0  95.0  110.0  9503.32   150.0   \n",
       "\n",
       "          xlong       ylat  \n",
       "1528 -79.230286  42.395222  \n",
       "1529 -79.245026  42.427578  \n",
       "1530 -79.222168  42.388699  \n",
       "1531 -79.252396  42.430599  \n",
       "1532 -79.232803  42.430202  "
      ]
     },
     "execution_count": 2,
     "metadata": {},
     "output_type": "execute_result"
    }
   ],
   "source": [
    "useful_columns = ['case_id','t_state','t_county','t_fips','p_name','p_year',\n",
    "                  'p_tnum','p_cap','t_manu','t_model','t_cap','t_hh','t_rd',\n",
    "                  't_rsa','t_ttlh','xlong','ylat']\n",
    "                  \n",
    "df = pd.read_csv('../../data/raw/usgs/usgs_data.csv',\n",
    "                 engine='python',encoding='latin1',usecols=useful_columns)\n",
    "# We want only New York data\n",
    "df = df[df.t_state=='NY']\n",
    "df.head()"
   ]
  },
  {
   "cell_type": "code",
   "execution_count": 3,
   "id": "c1a6e5cb",
   "metadata": {
    "scrolled": true
   },
   "outputs": [
    {
     "data": {
      "text/html": [
       "<div>\n",
       "<style scoped>\n",
       "    .dataframe tbody tr th:only-of-type {\n",
       "        vertical-align: middle;\n",
       "    }\n",
       "\n",
       "    .dataframe tbody tr th {\n",
       "        vertical-align: top;\n",
       "    }\n",
       "\n",
       "    .dataframe thead th {\n",
       "        text-align: right;\n",
       "    }\n",
       "</style>\n",
       "<table border=\"1\" class=\"dataframe\">\n",
       "  <thead>\n",
       "    <tr style=\"text-align: right;\">\n",
       "      <th></th>\n",
       "      <th>manufacturer_processed</th>\n",
       "      <th>t_cap</th>\n",
       "      <th>t_hh</th>\n",
       "      <th>t_rd</th>\n",
       "      <th>t_rsa</th>\n",
       "      <th>rotor_weight</th>\n",
       "      <th>turbine_blade_weight</th>\n",
       "      <th>case_id</th>\n",
       "    </tr>\n",
       "  </thead>\n",
       "  <tbody>\n",
       "    <tr>\n",
       "      <th>0</th>\n",
       "      <td>other</td>\n",
       "      <td>100.0</td>\n",
       "      <td>37.0</td>\n",
       "      <td>21.0</td>\n",
       "      <td>346.36</td>\n",
       "      <td>3.709862</td>\n",
       "      <td>0.61831</td>\n",
       "      <td>3075480</td>\n",
       "    </tr>\n",
       "    <tr>\n",
       "      <th>1</th>\n",
       "      <td>other</td>\n",
       "      <td>100.0</td>\n",
       "      <td>NaN</td>\n",
       "      <td>21.0</td>\n",
       "      <td>346.36</td>\n",
       "      <td>3.709862</td>\n",
       "      <td>0.61831</td>\n",
       "      <td>3075488</td>\n",
       "    </tr>\n",
       "    <tr>\n",
       "      <th>2</th>\n",
       "      <td>vergnet</td>\n",
       "      <td>275.0</td>\n",
       "      <td>32.0</td>\n",
       "      <td>29.0</td>\n",
       "      <td>660.52</td>\n",
       "      <td>2.926740</td>\n",
       "      <td>0.48779</td>\n",
       "      <td>3075460</td>\n",
       "    </tr>\n",
       "    <tr>\n",
       "      <th>3</th>\n",
       "      <td>vergnet</td>\n",
       "      <td>275.0</td>\n",
       "      <td>32.0</td>\n",
       "      <td>29.0</td>\n",
       "      <td>660.52</td>\n",
       "      <td>2.926740</td>\n",
       "      <td>0.48779</td>\n",
       "      <td>3075489</td>\n",
       "    </tr>\n",
       "    <tr>\n",
       "      <th>4</th>\n",
       "      <td>vergnet</td>\n",
       "      <td>275.0</td>\n",
       "      <td>32.0</td>\n",
       "      <td>29.0</td>\n",
       "      <td>660.52</td>\n",
       "      <td>2.926740</td>\n",
       "      <td>0.48779</td>\n",
       "      <td>3075456</td>\n",
       "    </tr>\n",
       "  </tbody>\n",
       "</table>\n",
       "</div>"
      ],
      "text/plain": [
       "  manufacturer_processed  t_cap  t_hh  t_rd   t_rsa  rotor_weight  \\\n",
       "0                  other  100.0  37.0  21.0  346.36      3.709862   \n",
       "1                  other  100.0   NaN  21.0  346.36      3.709862   \n",
       "2                vergnet  275.0  32.0  29.0  660.52      2.926740   \n",
       "3                vergnet  275.0  32.0  29.0  660.52      2.926740   \n",
       "4                vergnet  275.0  32.0  29.0  660.52      2.926740   \n",
       "\n",
       "   turbine_blade_weight  case_id  \n",
       "0               0.61831  3075480  \n",
       "1               0.61831  3075488  \n",
       "2               0.48779  3075460  \n",
       "3               0.48779  3075489  \n",
       "4               0.48779  3075456  "
      ]
     },
     "execution_count": 3,
     "metadata": {},
     "output_type": "execute_result"
    }
   ],
   "source": [
    "blade_info = pd.read_csv('../../data/processed/usgs_data_w_turbine_blade_weight.csv',\n",
    "                 engine='python',encoding='latin1')\n",
    "blade_info['case_id'] = list(df['case_id'])\n",
    "blade_info.head()"
   ]
  },
  {
   "cell_type": "markdown",
   "id": "59e291df",
   "metadata": {},
   "source": [
    "### Compute Blade Lengths"
   ]
  },
  {
   "cell_type": "code",
   "execution_count": 4,
   "id": "ffa9c7f7",
   "metadata": {},
   "outputs": [],
   "source": [
    "df['t_blade_length'] = df['t_rd'] / 2"
   ]
  },
  {
   "cell_type": "markdown",
   "id": "b43c1627",
   "metadata": {},
   "source": [
    "# Main Computation Functions"
   ]
  },
  {
   "cell_type": "code",
   "execution_count": 5,
   "id": "84192063",
   "metadata": {},
   "outputs": [],
   "source": [
    "def TravelInfo(origin, destination):\n",
    "    \"\"\"\n",
    "    orgin: (x,y) where x and y represent latitude and longitude respectively\n",
    "    destination: (x,y) where x and y represent latitude and longitude respectively\n",
    "\n",
    "    returns travel distance in mi\n",
    "    \"\"\"\n",
    "    # Unpack the latitudes and longitudes\n",
    "    (lat1, lon1) = origin\n",
    "    (lat2, lon2) = destination\n",
    "    # Make API call to OSRM (Open Source Routing Machine) for travel info\n",
    "    r = requests.get(f\"\"\"http://router.project-osrm.org/route/v1/car/{lon1},{lat1};{lon2},{lat2}?overview=false\"\"\")\n",
    "    # Unpack desired info\n",
    "    route_1 = json.loads(r.content)[\"routes\"][0]\n",
    "    distance = route_1['distance']\n",
    "    duration = route_1['duration']\n",
    "    return distance/1609"
   ]
  },
  {
   "cell_type": "markdown",
   "id": "bfc3e53b",
   "metadata": {},
   "source": [
    "### Units of GHG Emissions\n",
    "\n",
    "miles $\\times$ tons $\\times$ $\\frac{\\text{grams}}{\\text{tons $\\cdot$ mile}} = \\text{grams} $ "
   ]
  },
  {
   "cell_type": "code",
   "execution_count": 6,
   "id": "64f01380",
   "metadata": {},
   "outputs": [],
   "source": [
    "def PredictTransportEmission(Windturbine,Destination):\n",
    "    \"\"\"\n",
    "    Predicts GHG emissions for transporting one windmill blade\n",
    "\n",
    "    destination: (x,y) where x and y represent latitude and longitude respectively\n",
    "\n",
    "    Windturbine is a row from the df with windmill info.\n",
    "    ex: Windturbine = df.iloc[7]\n",
    "    \"\"\"\n",
    "    # Assume flatbed is 16.2 meters, we need __ flatbeds for transport\n",
    "    numb_trucks = np.ceil(Windturbine['t_blade_length']/16.2)\n",
    "    # Transport Distance (mi)\n",
    "    Origin = (Windturbine['ylat'],Windturbine['xlong'])\n",
    "    transport_distance = TravelInfo(Origin, Destination)\n",
    "    # Shipment weight (lbs) \n",
    "    weight_tons = float(blade_info[blade_info['case_id']==Windturbine['case_id']]['turbine_blade_weight'])\n",
    "    # Total # of ton miles\n",
    "    ton_miles = weight_tons * transport_distance\n",
    "    # Trucks emit 161.8 grams per ton-mile\n",
    "    emission_factor = 161.8\n",
    "\n",
    "    ghg_emissions = transport_distance * weight_tons * emission_factor\n",
    "    print(f'We expect {ghg_emissions} grams of GHG emissions.')\n",
    "    print(f'That is {ghg_emissions/1000} kilograms of GHG emissions;')\n",
    "    print(f'or, {ghg_emissions/1000000000} kilotons. ')\n"
   ]
  },
  {
   "cell_type": "markdown",
   "id": "0700010a",
   "metadata": {},
   "source": [
    "# Sample\n",
    "Let's take a random windmill"
   ]
  },
  {
   "cell_type": "code",
   "execution_count": 7,
   "id": "b202d10a",
   "metadata": {},
   "outputs": [
    {
     "data": {
      "text/plain": [
       "case_id                      3021582\n",
       "t_state                           NY\n",
       "t_county              Wyoming County\n",
       "t_fips                         36121\n",
       "p_name            Noble Wethersfield\n",
       "p_year                        2009.0\n",
       "p_tnum                            84\n",
       "p_cap                          126.0\n",
       "t_manu                       GE Wind\n",
       "t_model                     GE1.5-77\n",
       "t_cap                         1500.0\n",
       "t_hh                            80.0\n",
       "t_rd                            77.0\n",
       "t_rsa                        4656.63\n",
       "t_ttlh                         118.6\n",
       "xlong                     -78.230995\n",
       "ylat                       42.614792\n",
       "t_blade_length                  38.5\n",
       "Name: 41757, dtype: object"
      ]
     },
     "execution_count": 7,
     "metadata": {},
     "output_type": "execute_result"
    }
   ],
   "source": [
    "Windmill = df.iloc[1000]\n",
    "Windmill"
   ]
  },
  {
   "cell_type": "markdown",
   "id": "c2ef5761",
   "metadata": {},
   "source": [
    "Let's send it to Delaware park in Buffalo New York. (In reality we will need to route to reuse centers, then to park; but, for example, we can use this.)"
   ]
  },
  {
   "cell_type": "code",
   "execution_count": 8,
   "id": "9aaa0ed2",
   "metadata": {},
   "outputs": [],
   "source": [
    "locator = Nominatim(user_agent='myGeocoder')\n",
    "location = locator.geocode('Delaware Park, Buffalo, NY')"
   ]
  },
  {
   "cell_type": "code",
   "execution_count": 9,
   "id": "a8297e09",
   "metadata": {},
   "outputs": [
    {
     "name": "stdout",
     "output_type": "stream",
     "text": [
      "We expect 87286.938587414 grams of GHG emissions.\n",
      "That is 87.286938587414 kilograms of GHG emissions;\n",
      "or, 8.7286938587414e-05 kilotons. \n"
     ]
    }
   ],
   "source": [
    "PredictTransportEmission(\n",
    "    Windmill,\n",
    "    (location.latitude,location.longitude)\n",
    "                         )"
   ]
  },
  {
   "cell_type": "code",
   "execution_count": null,
   "id": "d5c75390",
   "metadata": {},
   "outputs": [],
   "source": []
  }
 ],
 "metadata": {
  "kernelspec": {
   "display_name": "Python 3",
   "language": "python",
   "name": "python3"
  },
  "language_info": {
   "codemirror_mode": {
    "name": "ipython",
    "version": 3
   },
   "file_extension": ".py",
   "mimetype": "text/x-python",
   "name": "python",
   "nbconvert_exporter": "python",
   "pygments_lexer": "ipython3",
   "version": "3.8.8"
  }
 },
 "nbformat": 4,
 "nbformat_minor": 5
}
