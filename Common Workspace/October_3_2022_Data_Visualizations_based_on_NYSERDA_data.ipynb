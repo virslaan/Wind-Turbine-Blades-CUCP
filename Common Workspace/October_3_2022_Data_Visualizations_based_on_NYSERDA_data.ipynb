{
  "nbformat": 4,
  "nbformat_minor": 0,
  "metadata": {
    "colab": {
      "provenance": []
    },
    "kernelspec": {
      "name": "python3",
      "display_name": "Python 3"
    },
    "language_info": {
      "name": "python"
    }
  },
  "cells": [
    {
      "cell_type": "markdown",
      "source": [
        "\n",
        "Exploratory Data Analysis using NYSERDA Data\n"
      ],
      "metadata": {
        "id": "q1gNttxvFNyW"
      }
    },
    {
      "cell_type": "code",
      "source": [
        "# import modules, read data\n",
        "import pandas as pd\n",
        "import matplotlib.pyplot as plt\n",
        "%matplotlib inline\n",
        "import numpy as np\n",
        "import seaborn as sns\n",
        "\n",
        "## TODO: Replace with the path to your dataset\n",
        "PATH_TO_DATASET = '/content/Large-scale_Renewable_Projects_Reported_by_NYSERDA__Beginning_2004_Wind.xlsx' \n",
        "############################################################\n",
        "\n",
        "df = pd.read_excel(PATH_TO_DATASET)\n",
        "df.head()"
      ],
      "metadata": {
        "colab": {
          "base_uri": "https://localhost:8080/",
          "height": 716
        },
        "id": "B0Z_PKVP0eg8",
        "outputId": "c43e43b1-ad67-4c63-8620-441ceef5e968"
      },
      "execution_count": 4,
      "outputs": [
        {
          "output_type": "execute_result",
          "data": {
            "text/plain": [
              "  Data Through Date  Eligibility  \\\n",
              "0        2022-07-15       Tier 1   \n",
              "1        2022-07-15       Tier 1   \n",
              "2        2022-07-15  Maintenance   \n",
              "3        2022-07-15       Tier 1   \n",
              "4        2022-07-15  Maintenance   \n",
              "\n",
              "                                     Project Name     Solicitation Name  \\\n",
              "0                       Silver Lake Solar Project            RESRFP18-1   \n",
              "1  Great Gully Solar Farm (formerly Delight Farm)            RESRFP20-1   \n",
              "2              Kayuta Lake Hydro _July 2021 Award  Tier 2 - Maintenance   \n",
              "3           Tannery Island - Tannery Island Hydro                  3257   \n",
              "4                               Kayuta Lake Hydro  Tier 2 - Maintenance   \n",
              "\n",
              "   Fixed REC Price  Index REC Strike Price       Renewable Technology  \\\n",
              "0             21.0                     NaN                      Solar   \n",
              "1              NaN                     NaN                      Solar   \n",
              "2              NaN                     NaN  Maintenance Hydroelectric   \n",
              "3              9.5                     NaN              Hydroelectric   \n",
              "4              NaN                     NaN  Maintenance Hydroelectric   \n",
              "\n",
              "  Generation Type Type of Existing                        Counterparty  ...  \\\n",
              "0             New              NaN               Silver Lake Solar LLC  ...   \n",
              "1             New              NaN         Great Gully Solar Farm, LLC  ...   \n",
              "2             NaN              NaN                                 NaN  ...   \n",
              "3        Existing          Upgrade  Ampersand Tannery Island Hydro LLC  ...   \n",
              "4             NaN              NaN                                 NaN  ...   \n",
              "\n",
              "      Project Status  Year of Delivery Start Date  Contract Duration  \\\n",
              "0  Under Development                       2024.0                 20   \n",
              "1          Cancelled                       2022.0                 20   \n",
              "2  Under Development                       2022.0                  3   \n",
              "3        Operational                       2016.0                 20   \n",
              "4          Completed                       2018.0                  3   \n",
              "\n",
              "  New Renewable Capacity (MW) Bid Capacity (MW) Bid Quantity (MWh)  \\\n",
              "0                       24.99             24.99            38200.0   \n",
              "1                       16.80             16.80            31052.0   \n",
              "2                         NaN              0.46             1681.0   \n",
              "3                        0.17              0.16              827.0   \n",
              "4                         NaN              0.46             1897.0   \n",
              "\n",
              "  Max Annual Contract Quantity (MWh) P10 Annual OREC Exceedance  \\\n",
              "0                            45840.0                        NaN   \n",
              "1                            37262.0                        NaN   \n",
              "2                             1681.0                        NaN   \n",
              "3                              827.0                        NaN   \n",
              "4                             1897.0                        NaN   \n",
              "\n",
              "  Transmission Capacity (HVDC)                  Georeference  \n",
              "0                          NaN  POINT (-78.004538 42.731213)  \n",
              "1                          NaN  POINT (-76.659767 42.826929)  \n",
              "2                          NaN  POINT (-75.112193 43.469339)  \n",
              "3                          NaN  POINT (-75.608418 43.979234)  \n",
              "4                          NaN  POINT (-75.112193 43.469339)  \n",
              "\n",
              "[5 rows x 33 columns]"
            ],
            "text/html": [
              "\n",
              "  <div id=\"df-85e958db-13ff-44b4-a464-9c5d77840b95\">\n",
              "    <div class=\"colab-df-container\">\n",
              "      <div>\n",
              "<style scoped>\n",
              "    .dataframe tbody tr th:only-of-type {\n",
              "        vertical-align: middle;\n",
              "    }\n",
              "\n",
              "    .dataframe tbody tr th {\n",
              "        vertical-align: top;\n",
              "    }\n",
              "\n",
              "    .dataframe thead th {\n",
              "        text-align: right;\n",
              "    }\n",
              "</style>\n",
              "<table border=\"1\" class=\"dataframe\">\n",
              "  <thead>\n",
              "    <tr style=\"text-align: right;\">\n",
              "      <th></th>\n",
              "      <th>Data Through Date</th>\n",
              "      <th>Eligibility</th>\n",
              "      <th>Project Name</th>\n",
              "      <th>Solicitation Name</th>\n",
              "      <th>Fixed REC Price</th>\n",
              "      <th>Index REC Strike Price</th>\n",
              "      <th>Renewable Technology</th>\n",
              "      <th>Generation Type</th>\n",
              "      <th>Type of Existing</th>\n",
              "      <th>Counterparty</th>\n",
              "      <th>...</th>\n",
              "      <th>Project Status</th>\n",
              "      <th>Year of Delivery Start Date</th>\n",
              "      <th>Contract Duration</th>\n",
              "      <th>New Renewable Capacity (MW)</th>\n",
              "      <th>Bid Capacity (MW)</th>\n",
              "      <th>Bid Quantity (MWh)</th>\n",
              "      <th>Max Annual Contract Quantity (MWh)</th>\n",
              "      <th>P10 Annual OREC Exceedance</th>\n",
              "      <th>Transmission Capacity (HVDC)</th>\n",
              "      <th>Georeference</th>\n",
              "    </tr>\n",
              "  </thead>\n",
              "  <tbody>\n",
              "    <tr>\n",
              "      <th>0</th>\n",
              "      <td>2022-07-15</td>\n",
              "      <td>Tier 1</td>\n",
              "      <td>Silver Lake Solar Project</td>\n",
              "      <td>RESRFP18-1</td>\n",
              "      <td>21.0</td>\n",
              "      <td>NaN</td>\n",
              "      <td>Solar</td>\n",
              "      <td>New</td>\n",
              "      <td>NaN</td>\n",
              "      <td>Silver Lake Solar LLC</td>\n",
              "      <td>...</td>\n",
              "      <td>Under Development</td>\n",
              "      <td>2024.0</td>\n",
              "      <td>20</td>\n",
              "      <td>24.99</td>\n",
              "      <td>24.99</td>\n",
              "      <td>38200.0</td>\n",
              "      <td>45840.0</td>\n",
              "      <td>NaN</td>\n",
              "      <td>NaN</td>\n",
              "      <td>POINT (-78.004538 42.731213)</td>\n",
              "    </tr>\n",
              "    <tr>\n",
              "      <th>1</th>\n",
              "      <td>2022-07-15</td>\n",
              "      <td>Tier 1</td>\n",
              "      <td>Great Gully Solar Farm (formerly Delight Farm)</td>\n",
              "      <td>RESRFP20-1</td>\n",
              "      <td>NaN</td>\n",
              "      <td>NaN</td>\n",
              "      <td>Solar</td>\n",
              "      <td>New</td>\n",
              "      <td>NaN</td>\n",
              "      <td>Great Gully Solar Farm, LLC</td>\n",
              "      <td>...</td>\n",
              "      <td>Cancelled</td>\n",
              "      <td>2022.0</td>\n",
              "      <td>20</td>\n",
              "      <td>16.80</td>\n",
              "      <td>16.80</td>\n",
              "      <td>31052.0</td>\n",
              "      <td>37262.0</td>\n",
              "      <td>NaN</td>\n",
              "      <td>NaN</td>\n",
              "      <td>POINT (-76.659767 42.826929)</td>\n",
              "    </tr>\n",
              "    <tr>\n",
              "      <th>2</th>\n",
              "      <td>2022-07-15</td>\n",
              "      <td>Maintenance</td>\n",
              "      <td>Kayuta Lake Hydro _July 2021 Award</td>\n",
              "      <td>Tier 2 - Maintenance</td>\n",
              "      <td>NaN</td>\n",
              "      <td>NaN</td>\n",
              "      <td>Maintenance Hydroelectric</td>\n",
              "      <td>NaN</td>\n",
              "      <td>NaN</td>\n",
              "      <td>NaN</td>\n",
              "      <td>...</td>\n",
              "      <td>Under Development</td>\n",
              "      <td>2022.0</td>\n",
              "      <td>3</td>\n",
              "      <td>NaN</td>\n",
              "      <td>0.46</td>\n",
              "      <td>1681.0</td>\n",
              "      <td>1681.0</td>\n",
              "      <td>NaN</td>\n",
              "      <td>NaN</td>\n",
              "      <td>POINT (-75.112193 43.469339)</td>\n",
              "    </tr>\n",
              "    <tr>\n",
              "      <th>3</th>\n",
              "      <td>2022-07-15</td>\n",
              "      <td>Tier 1</td>\n",
              "      <td>Tannery Island - Tannery Island Hydro</td>\n",
              "      <td>3257</td>\n",
              "      <td>9.5</td>\n",
              "      <td>NaN</td>\n",
              "      <td>Hydroelectric</td>\n",
              "      <td>Existing</td>\n",
              "      <td>Upgrade</td>\n",
              "      <td>Ampersand Tannery Island Hydro LLC</td>\n",
              "      <td>...</td>\n",
              "      <td>Operational</td>\n",
              "      <td>2016.0</td>\n",
              "      <td>20</td>\n",
              "      <td>0.17</td>\n",
              "      <td>0.16</td>\n",
              "      <td>827.0</td>\n",
              "      <td>827.0</td>\n",
              "      <td>NaN</td>\n",
              "      <td>NaN</td>\n",
              "      <td>POINT (-75.608418 43.979234)</td>\n",
              "    </tr>\n",
              "    <tr>\n",
              "      <th>4</th>\n",
              "      <td>2022-07-15</td>\n",
              "      <td>Maintenance</td>\n",
              "      <td>Kayuta Lake Hydro</td>\n",
              "      <td>Tier 2 - Maintenance</td>\n",
              "      <td>NaN</td>\n",
              "      <td>NaN</td>\n",
              "      <td>Maintenance Hydroelectric</td>\n",
              "      <td>NaN</td>\n",
              "      <td>NaN</td>\n",
              "      <td>NaN</td>\n",
              "      <td>...</td>\n",
              "      <td>Completed</td>\n",
              "      <td>2018.0</td>\n",
              "      <td>3</td>\n",
              "      <td>NaN</td>\n",
              "      <td>0.46</td>\n",
              "      <td>1897.0</td>\n",
              "      <td>1897.0</td>\n",
              "      <td>NaN</td>\n",
              "      <td>NaN</td>\n",
              "      <td>POINT (-75.112193 43.469339)</td>\n",
              "    </tr>\n",
              "  </tbody>\n",
              "</table>\n",
              "<p>5 rows × 33 columns</p>\n",
              "</div>\n",
              "      <button class=\"colab-df-convert\" onclick=\"convertToInteractive('df-85e958db-13ff-44b4-a464-9c5d77840b95')\"\n",
              "              title=\"Convert this dataframe to an interactive table.\"\n",
              "              style=\"display:none;\">\n",
              "        \n",
              "  <svg xmlns=\"http://www.w3.org/2000/svg\" height=\"24px\"viewBox=\"0 0 24 24\"\n",
              "       width=\"24px\">\n",
              "    <path d=\"M0 0h24v24H0V0z\" fill=\"none\"/>\n",
              "    <path d=\"M18.56 5.44l.94 2.06.94-2.06 2.06-.94-2.06-.94-.94-2.06-.94 2.06-2.06.94zm-11 1L8.5 8.5l.94-2.06 2.06-.94-2.06-.94L8.5 2.5l-.94 2.06-2.06.94zm10 10l.94 2.06.94-2.06 2.06-.94-2.06-.94-.94-2.06-.94 2.06-2.06.94z\"/><path d=\"M17.41 7.96l-1.37-1.37c-.4-.4-.92-.59-1.43-.59-.52 0-1.04.2-1.43.59L10.3 9.45l-7.72 7.72c-.78.78-.78 2.05 0 2.83L4 21.41c.39.39.9.59 1.41.59.51 0 1.02-.2 1.41-.59l7.78-7.78 2.81-2.81c.8-.78.8-2.07 0-2.86zM5.41 20L4 18.59l7.72-7.72 1.47 1.35L5.41 20z\"/>\n",
              "  </svg>\n",
              "      </button>\n",
              "      \n",
              "  <style>\n",
              "    .colab-df-container {\n",
              "      display:flex;\n",
              "      flex-wrap:wrap;\n",
              "      gap: 12px;\n",
              "    }\n",
              "\n",
              "    .colab-df-convert {\n",
              "      background-color: #E8F0FE;\n",
              "      border: none;\n",
              "      border-radius: 50%;\n",
              "      cursor: pointer;\n",
              "      display: none;\n",
              "      fill: #1967D2;\n",
              "      height: 32px;\n",
              "      padding: 0 0 0 0;\n",
              "      width: 32px;\n",
              "    }\n",
              "\n",
              "    .colab-df-convert:hover {\n",
              "      background-color: #E2EBFA;\n",
              "      box-shadow: 0px 1px 2px rgba(60, 64, 67, 0.3), 0px 1px 3px 1px rgba(60, 64, 67, 0.15);\n",
              "      fill: #174EA6;\n",
              "    }\n",
              "\n",
              "    [theme=dark] .colab-df-convert {\n",
              "      background-color: #3B4455;\n",
              "      fill: #D2E3FC;\n",
              "    }\n",
              "\n",
              "    [theme=dark] .colab-df-convert:hover {\n",
              "      background-color: #434B5C;\n",
              "      box-shadow: 0px 1px 3px 1px rgba(0, 0, 0, 0.15);\n",
              "      filter: drop-shadow(0px 1px 2px rgba(0, 0, 0, 0.3));\n",
              "      fill: #FFFFFF;\n",
              "    }\n",
              "  </style>\n",
              "\n",
              "      <script>\n",
              "        const buttonEl =\n",
              "          document.querySelector('#df-85e958db-13ff-44b4-a464-9c5d77840b95 button.colab-df-convert');\n",
              "        buttonEl.style.display =\n",
              "          google.colab.kernel.accessAllowed ? 'block' : 'none';\n",
              "\n",
              "        async function convertToInteractive(key) {\n",
              "          const element = document.querySelector('#df-85e958db-13ff-44b4-a464-9c5d77840b95');\n",
              "          const dataTable =\n",
              "            await google.colab.kernel.invokeFunction('convertToInteractive',\n",
              "                                                     [key], {});\n",
              "          if (!dataTable) return;\n",
              "\n",
              "          const docLinkHtml = 'Like what you see? Visit the ' +\n",
              "            '<a target=\"_blank\" href=https://colab.research.google.com/notebooks/data_table.ipynb>data table notebook</a>'\n",
              "            + ' to learn more about interactive tables.';\n",
              "          element.innerHTML = '';\n",
              "          dataTable['output_type'] = 'display_data';\n",
              "          await google.colab.output.renderOutput(dataTable, element);\n",
              "          const docLink = document.createElement('div');\n",
              "          docLink.innerHTML = docLinkHtml;\n",
              "          element.appendChild(docLink);\n",
              "        }\n",
              "      </script>\n",
              "    </div>\n",
              "  </div>\n",
              "  "
            ]
          },
          "metadata": {},
          "execution_count": 4
        }
      ]
    },
    {
      "cell_type": "code",
      "source": [
        "df['longitude']=df['Georeference'].str.slice(7, 17)"
      ],
      "metadata": {
        "id": "zwnfNO474Xjl"
      },
      "execution_count": 53,
      "outputs": []
    },
    {
      "cell_type": "code",
      "source": [
        "df['latitude']=df['Georeference'].str.slice(18, 27)"
      ],
      "metadata": {
        "id": "sw_0GAwo6R-J"
      },
      "execution_count": 58,
      "outputs": []
    },
    {
      "cell_type": "code",
      "source": [
        "df['latitude']"
      ],
      "metadata": {
        "colab": {
          "base_uri": "https://localhost:8080/"
        },
        "id": "tiBHZpJm6Msa",
        "outputId": "5a22ea96-048c-4167-aa0b-94a3c512d914"
      },
      "execution_count": 59,
      "outputs": [
        {
          "output_type": "execute_result",
          "data": {
            "text/plain": [
              "0      42.731213\n",
              "1      42.826929\n",
              "2      43.469339\n",
              "3      43.979234\n",
              "4      43.469339\n",
              "         ...    \n",
              "223    43.247901\n",
              "224    43.163267\n",
              "225    41.032718\n",
              "226    41.032718\n",
              "227    40.507933\n",
              "Name: latitude, Length: 228, dtype: object"
            ]
          },
          "metadata": {},
          "execution_count": 59
        }
      ]
    },
    {
      "cell_type": "code",
      "source": [
        "\n",
        "import plotly.express as px"
      ],
      "metadata": {
        "id": "6O6j41cy1QdE"
      },
      "execution_count": 60,
      "outputs": []
    },
    {
      "cell_type": "code",
      "source": [
        "fig=px.scatter_geo(df,lat=df['latitude'], lon=df['longitude'])\n",
        "fig.update_layout(title='Significant Windmills Location',title_x=1)\n",
        "fig.show()"
      ],
      "metadata": {
        "colab": {
          "base_uri": "https://localhost:8080/",
          "height": 542
        },
        "id": "EDgENqxU2E0q",
        "outputId": "b0dd1963-2aea-40b5-8a44-519aa7900701"
      },
      "execution_count": 61,
      "outputs": [
        {
          "output_type": "display_data",
          "data": {
            "text/html": [
              "<html>\n",
              "<head><meta charset=\"utf-8\" /></head>\n",
              "<body>\n",
              "    <div>            <script src=\"https://cdnjs.cloudflare.com/ajax/libs/mathjax/2.7.5/MathJax.js?config=TeX-AMS-MML_SVG\"></script><script type=\"text/javascript\">if (window.MathJax) {MathJax.Hub.Config({SVG: {font: \"STIX-Web\"}});}</script>                <script type=\"text/javascript\">window.PlotlyConfig = {MathJaxConfig: 'local'};</script>\n",
              "        <script src=\"https://cdn.plot.ly/plotly-2.8.3.min.js\"></script>                <div id=\"db0a4668-e7f0-4191-bca6-a1dd5d179be4\" class=\"plotly-graph-div\" style=\"height:525px; width:100%;\"></div>            <script type=\"text/javascript\">                                    window.PLOTLYENV=window.PLOTLYENV || {};                                    if (document.getElementById(\"db0a4668-e7f0-4191-bca6-a1dd5d179be4\")) {                    Plotly.newPlot(                        \"db0a4668-e7f0-4191-bca6-a1dd5d179be4\",                        [{\"geo\":\"geo\",\"hovertemplate\":\"latitude=%{lat}<br>longitude=%{lon}<extra></extra>\",\"lat\":[\"42.731213\",\"42.826929\",\"43.469339\",\"43.979234\",\"43.469339\",\"44.901726\",\"43.232126\",\"42.864272\",\"43.798604\",\"41.078061\",\"2.806462)\",\"43.097845\",\"43.977155\",\"43.808485\",\"43.188019\",\"43.097845\",\"43.152959\",\"43.256199\",\"43.125063\",\"44.966166\",\"43.977155\",\"44.423334\",\"42.572191\",\"42.05757)\",\"42.52668)\",\"43.324957\",\"43.944401\",\"43.324957\",\"43.163267\",\"44.309723\",\"42.92408)\",\"43.213788\",\"2.23975)\",\"42.674217\",\"2.897125)\",\"42.674217\",\"2.897125)\",\"41.683748\",\"43.256199\",\"42.886234\",\"43.256199\",\"42.931823\",\"42.576404\",\"42.088748\",\"43.977155\",\"43.157671\",\"42.942451\",\"1.489649)\",\"43.857953\",\"42.855499\",\"42.376918\",\"42.698994\",\"42.588691\",\"42.418802\",\"44.194059\",\"42.982885\",\".58107)\",\"43.157671\",\"42.065354\",\"42.42155)\",\"3.079847)\",\"43.635657\",null,null,null,\"42.443738\",null,\"42.916667\",\"42.931823\",\"43.023495\",\"42.560839\",\"42.855499\",\"42.26358)\",\"42.956396\",\"43.097845\",\"42.376146\",\"1.435735)\",\"42.69988)\",\"43.030313\",\"42.545755\",\"42.347068\",\"42.347068\",\"42.347068\",\"2.168727)\",\"43.099707\",\"42.347068\",\"42.943297\",\"42.572191\",\"42.490952\",\"42.490952\",\"42.523492\",\"43.635657\",\"43.635657\",\"40.759522\",\"42.081318\",\"41.263165\",\"42.767469\",\"42.775785\",\"42.937079\",\"43.077354\",\"42.911888\",\"2.374999)\",\"43.05166)\",\"44.936118\",\"43.798604\",\"42.490952\",\"42.818699\",\"42.818699\",\"42.155039\",\"42.336124\",\"42.392018\",\".560629)\",\"42.943297\",\"42.698994\",null,\"42.836052\",\"44.936118\",\"2.421916)\",\"44.901726\",\"42.850322\",\"42.778874\",\"43.248755\",\"42.746809\",\"43.060591\",\"42.961921\",\"43.08415)\",\"43.050515\",\"44.652305\",\"43.060591\",\"43.060591\",\"42.731213\",\"42.931823\",\"42.974187\",\"42.942451\",\"42.111474\",\"42.961018\",\"42.850322\",\"43.143375\",\"42.479528\",\"2.976176)\",\"42.426847\",\"42.252408\",null,\"43.09392)\",\"44.947617\",\"42.740132\",\"42.252408\",\"40.06181)\",\"42.847993\",\"42.252408\",\"42.134002\",\"40.6039)\",\"43.798604\",\"44.866712\",\"42.580583\",\"44.901726\",\"44.696049\",\"42.490952\",\"44.465018\",\"44.519843\",\"44.213924\",\"4.36701)\",\"43.250373\",\"44.65525)\",\"44.213924\",\"4.36701)\",\"43.944401\",\"4.831433)\",\"4.36701)\",\"4.831433)\",\"44.751294\",\"43.324957\",\"4.831433)\",\"43.944401\",null,\"44.250826\",\"42.490952\",\"43.335343\",\"44.947617\",\"42.778683\",\"43.250373\",\"42.712719\",\"42.490952\",\"42.490952\",\"42.916667\",\"42.623963\",\"42.376918\",\"43.944401\",\"41.589636\",\"42.712719\",\"44.465018\",\"42.088748\",\"43.842547\",\"3.183538)\",\"42.341217\",\"3.183538)\",\"2.822179)\",\"42.727885\",\"42.911888\",\"43.250373\",\"44.099526\",\"44.696049\",\"40.052705\",\"42.818699\",\"42.134002\",\"42.92408)\",\"41.058021\",\"0.726729)\",\"42.35201)\",\"2.939661)\",\"42.523492\",\"1.489649)\",\"0.906831)\",\"43.319879\",\"43.635657\",\"42.667807\",\"44.901726\",\"43.635657\",\"43.635657\",\"44.7036)\",\"43.09392)\",\"42.523492\",\"42.684294\",\"43.247901\",\"43.163267\",\"41.032718\",\"41.032718\",\"40.507933\"],\"legendgroup\":\"\",\"lon\":[\"-78.004538\",\"-76.659767\",\"-75.112193\",\"-75.608418\",\"-75.112193\",\"-74.063438\",\"-78.208094\",\"-74.581925\",\"-75.472278\",\"-73.855087\",\"-76.12834 \",\"-73.500001\",\"-75.916148\",\"-76.053889\",\"-73.693309\",\"-73.500001\",\"-74.240928\",\"-73.579351\",\"-75.202584\",\"-74.481796\",\"-75.916148\",\"-75.381331\",\"-78.391547\",\"-77.686829\",\"-79.167766\",\"-76.390481\",\"-75.295135\",\"-76.390481\",\"-76.340674\",\"-75.252752\",\"-76.558936\",\"-78.377874\",\"-79.69825 \",\"-76.543317\",\"-74.36742 \",\"-76.543317\",\"-74.36742 \",\"-74.177103\",\"-73.579351\",\"-73.359533\",\"-73.579351\",\"-73.601518\",\"-76.555392\",\"-79.250031\",\"-75.916148\",\"-78.693851\",\"-74.664768\",\"-74.80524 \",\"-73.463484\",\"-74.130156\",\"-73.758588\",\"-77.876071\",\"-76.185061\",\"-77.708227\",\"-75.949271\",\"-75.066909\",\"-75.1409 4\",\"-78.693851\",\"-75.643747\",\"-75.483493\",\"-78.27821 \",\"-75.342375\",null,null,null,\"-76.497069\",null,\"-73.722451\",\"-73.601518\",\"-74.394891\",\"-75.934148\",\"-74.130156\",\"-75.821814\",\"-74.387602\",\"-73.500001\",\"-73.868846\",\"-74.73056 \",\"-74.510607\",\"-74.628407\",\"-73.816841\",\"-73.839872\",\"-73.839872\",\"-73.839872\",\"-73.65143 \",\"-78.163949\",\"-73.839872\",\"-77.838265\",\"-78.391547\",\"-77.496964\",\"-77.496964\",\"-77.293814\",\"-75.342375\",\"-75.342375\",\"-73.990194\",\"-73.990029\",\"-74.365461\",\"-74.093608\",\"-74.589047\",\"-74.182795\",\"-78.069443\",\"-76.876553\",\"-76.93086 \",\"-76.654213\",\"-74.870625\",\"-75.472278\",\"-77.496964\",\"-78.818268\",\"-78.818268\",\"-77.780137\",\"-78.426855\",\"-78.533893\",\"-77.4702 4\",\"-77.838265\",\"-77.876071\",null,\"-78.749996\",\"-74.870625\",\"-79.33618 \",\"-74.063438\",\"-74.463741\",\"-76.565785\",\"-75.848762\",\"-76.664773\",\"-74.847449\",\"-77.143807\",\"-75.514002\",\"-75.115762\",\"-75.506864\",\"-74.847449\",\"-74.847449\",\"-78.004538\",\"-73.601518\",\"-74.250388\",\"-74.664768\",\"-76.252877\",\"-75.484019\",\"-74.463741\",\"-75.578144\",\"-79.318146\",\"-78.07635 \",\"-73.887159\",\"-77.560624\",null,\"-78.961364\",\"-73.955217\",\"-78.167436\",\"-77.560624\",\"-75.401557\",\"-76.996769\",\"-77.560624\",\"-77.507424\",\"-75.468937\",\"-75.472278\",\"-73.652501\",\"-78.246347\",\"-74.063438\",\"-73.587536\",\"-77.496964\",\"-73.741216\",\"-74.523479\",\"-75.091488\",\"-74.83126 \",\"-73.862657\",\"-74.932432\",\"-75.091488\",\"-74.83126 \",\"-75.295135\",\"-74.96406 \",\"-74.83126 \",\"-74.96406 \",\"-74.988091\",\"-76.390481\",\"-74.96406 \",\"-75.295135\",null,\"-74.655601\",\"-77.496964\",\"-73.676867\",\"-73.955217\",\"-73.719474\",\"-73.862657\",\"-73.824203\",\"-77.496964\",\"-77.496964\",\"-73.722451\",\"-78.179486\",\"-73.758588\",\"-75.295135\",\"-73.892917\",\"-73.824203\",\"-73.741216\",\"-79.250031\",\"-75.885698\",\"-74.96782 \",\"-77.993317\",\"-74.96782 \",\"-77.12893 \",\"-78.431089\",\"-76.876553\",\"-73.862657\",\"-75.676266\",\"-73.587536\",\"-77.494279\",\"-78.818268\",\"-77.507424\",\"-76.558936\",\"-73.816463\",\"-73.86152 \",\"-76.607292\",\"-75.83303 \",\"-77.293814\",\"-74.80524 \",\"-73.83589 \",\"-78.720222\",\"-75.342375\",\"-74.296222\",\"-74.063438\",\"-75.342375\",\"-75.342375\",\"-74.086646\",\"-78.961364\",\"-77.293814\",\"-76.956294\",\"-79.015825\",\"-76.340674\",\"-73.764824\",\"-73.764824\",\"-74.242305\"],\"marker\":{\"color\":\"#636efa\",\"symbol\":\"circle\"},\"mode\":\"markers\",\"name\":\"\",\"showlegend\":false,\"type\":\"scattergeo\"}],                        {\"template\":{\"data\":{\"bar\":[{\"error_x\":{\"color\":\"#2a3f5f\"},\"error_y\":{\"color\":\"#2a3f5f\"},\"marker\":{\"line\":{\"color\":\"#E5ECF6\",\"width\":0.5},\"pattern\":{\"fillmode\":\"overlay\",\"size\":10,\"solidity\":0.2}},\"type\":\"bar\"}],\"barpolar\":[{\"marker\":{\"line\":{\"color\":\"#E5ECF6\",\"width\":0.5},\"pattern\":{\"fillmode\":\"overlay\",\"size\":10,\"solidity\":0.2}},\"type\":\"barpolar\"}],\"carpet\":[{\"aaxis\":{\"endlinecolor\":\"#2a3f5f\",\"gridcolor\":\"white\",\"linecolor\":\"white\",\"minorgridcolor\":\"white\",\"startlinecolor\":\"#2a3f5f\"},\"baxis\":{\"endlinecolor\":\"#2a3f5f\",\"gridcolor\":\"white\",\"linecolor\":\"white\",\"minorgridcolor\":\"white\",\"startlinecolor\":\"#2a3f5f\"},\"type\":\"carpet\"}],\"choropleth\":[{\"colorbar\":{\"outlinewidth\":0,\"ticks\":\"\"},\"type\":\"choropleth\"}],\"contour\":[{\"colorbar\":{\"outlinewidth\":0,\"ticks\":\"\"},\"colorscale\":[[0.0,\"#0d0887\"],[0.1111111111111111,\"#46039f\"],[0.2222222222222222,\"#7201a8\"],[0.3333333333333333,\"#9c179e\"],[0.4444444444444444,\"#bd3786\"],[0.5555555555555556,\"#d8576b\"],[0.6666666666666666,\"#ed7953\"],[0.7777777777777778,\"#fb9f3a\"],[0.8888888888888888,\"#fdca26\"],[1.0,\"#f0f921\"]],\"type\":\"contour\"}],\"contourcarpet\":[{\"colorbar\":{\"outlinewidth\":0,\"ticks\":\"\"},\"type\":\"contourcarpet\"}],\"heatmap\":[{\"colorbar\":{\"outlinewidth\":0,\"ticks\":\"\"},\"colorscale\":[[0.0,\"#0d0887\"],[0.1111111111111111,\"#46039f\"],[0.2222222222222222,\"#7201a8\"],[0.3333333333333333,\"#9c179e\"],[0.4444444444444444,\"#bd3786\"],[0.5555555555555556,\"#d8576b\"],[0.6666666666666666,\"#ed7953\"],[0.7777777777777778,\"#fb9f3a\"],[0.8888888888888888,\"#fdca26\"],[1.0,\"#f0f921\"]],\"type\":\"heatmap\"}],\"heatmapgl\":[{\"colorbar\":{\"outlinewidth\":0,\"ticks\":\"\"},\"colorscale\":[[0.0,\"#0d0887\"],[0.1111111111111111,\"#46039f\"],[0.2222222222222222,\"#7201a8\"],[0.3333333333333333,\"#9c179e\"],[0.4444444444444444,\"#bd3786\"],[0.5555555555555556,\"#d8576b\"],[0.6666666666666666,\"#ed7953\"],[0.7777777777777778,\"#fb9f3a\"],[0.8888888888888888,\"#fdca26\"],[1.0,\"#f0f921\"]],\"type\":\"heatmapgl\"}],\"histogram\":[{\"marker\":{\"pattern\":{\"fillmode\":\"overlay\",\"size\":10,\"solidity\":0.2}},\"type\":\"histogram\"}],\"histogram2d\":[{\"colorbar\":{\"outlinewidth\":0,\"ticks\":\"\"},\"colorscale\":[[0.0,\"#0d0887\"],[0.1111111111111111,\"#46039f\"],[0.2222222222222222,\"#7201a8\"],[0.3333333333333333,\"#9c179e\"],[0.4444444444444444,\"#bd3786\"],[0.5555555555555556,\"#d8576b\"],[0.6666666666666666,\"#ed7953\"],[0.7777777777777778,\"#fb9f3a\"],[0.8888888888888888,\"#fdca26\"],[1.0,\"#f0f921\"]],\"type\":\"histogram2d\"}],\"histogram2dcontour\":[{\"colorbar\":{\"outlinewidth\":0,\"ticks\":\"\"},\"colorscale\":[[0.0,\"#0d0887\"],[0.1111111111111111,\"#46039f\"],[0.2222222222222222,\"#7201a8\"],[0.3333333333333333,\"#9c179e\"],[0.4444444444444444,\"#bd3786\"],[0.5555555555555556,\"#d8576b\"],[0.6666666666666666,\"#ed7953\"],[0.7777777777777778,\"#fb9f3a\"],[0.8888888888888888,\"#fdca26\"],[1.0,\"#f0f921\"]],\"type\":\"histogram2dcontour\"}],\"mesh3d\":[{\"colorbar\":{\"outlinewidth\":0,\"ticks\":\"\"},\"type\":\"mesh3d\"}],\"parcoords\":[{\"line\":{\"colorbar\":{\"outlinewidth\":0,\"ticks\":\"\"}},\"type\":\"parcoords\"}],\"pie\":[{\"automargin\":true,\"type\":\"pie\"}],\"scatter\":[{\"marker\":{\"colorbar\":{\"outlinewidth\":0,\"ticks\":\"\"}},\"type\":\"scatter\"}],\"scatter3d\":[{\"line\":{\"colorbar\":{\"outlinewidth\":0,\"ticks\":\"\"}},\"marker\":{\"colorbar\":{\"outlinewidth\":0,\"ticks\":\"\"}},\"type\":\"scatter3d\"}],\"scattercarpet\":[{\"marker\":{\"colorbar\":{\"outlinewidth\":0,\"ticks\":\"\"}},\"type\":\"scattercarpet\"}],\"scattergeo\":[{\"marker\":{\"colorbar\":{\"outlinewidth\":0,\"ticks\":\"\"}},\"type\":\"scattergeo\"}],\"scattergl\":[{\"marker\":{\"colorbar\":{\"outlinewidth\":0,\"ticks\":\"\"}},\"type\":\"scattergl\"}],\"scattermapbox\":[{\"marker\":{\"colorbar\":{\"outlinewidth\":0,\"ticks\":\"\"}},\"type\":\"scattermapbox\"}],\"scatterpolar\":[{\"marker\":{\"colorbar\":{\"outlinewidth\":0,\"ticks\":\"\"}},\"type\":\"scatterpolar\"}],\"scatterpolargl\":[{\"marker\":{\"colorbar\":{\"outlinewidth\":0,\"ticks\":\"\"}},\"type\":\"scatterpolargl\"}],\"scatterternary\":[{\"marker\":{\"colorbar\":{\"outlinewidth\":0,\"ticks\":\"\"}},\"type\":\"scatterternary\"}],\"surface\":[{\"colorbar\":{\"outlinewidth\":0,\"ticks\":\"\"},\"colorscale\":[[0.0,\"#0d0887\"],[0.1111111111111111,\"#46039f\"],[0.2222222222222222,\"#7201a8\"],[0.3333333333333333,\"#9c179e\"],[0.4444444444444444,\"#bd3786\"],[0.5555555555555556,\"#d8576b\"],[0.6666666666666666,\"#ed7953\"],[0.7777777777777778,\"#fb9f3a\"],[0.8888888888888888,\"#fdca26\"],[1.0,\"#f0f921\"]],\"type\":\"surface\"}],\"table\":[{\"cells\":{\"fill\":{\"color\":\"#EBF0F8\"},\"line\":{\"color\":\"white\"}},\"header\":{\"fill\":{\"color\":\"#C8D4E3\"},\"line\":{\"color\":\"white\"}},\"type\":\"table\"}]},\"layout\":{\"annotationdefaults\":{\"arrowcolor\":\"#2a3f5f\",\"arrowhead\":0,\"arrowwidth\":1},\"autotypenumbers\":\"strict\",\"coloraxis\":{\"colorbar\":{\"outlinewidth\":0,\"ticks\":\"\"}},\"colorscale\":{\"diverging\":[[0,\"#8e0152\"],[0.1,\"#c51b7d\"],[0.2,\"#de77ae\"],[0.3,\"#f1b6da\"],[0.4,\"#fde0ef\"],[0.5,\"#f7f7f7\"],[0.6,\"#e6f5d0\"],[0.7,\"#b8e186\"],[0.8,\"#7fbc41\"],[0.9,\"#4d9221\"],[1,\"#276419\"]],\"sequential\":[[0.0,\"#0d0887\"],[0.1111111111111111,\"#46039f\"],[0.2222222222222222,\"#7201a8\"],[0.3333333333333333,\"#9c179e\"],[0.4444444444444444,\"#bd3786\"],[0.5555555555555556,\"#d8576b\"],[0.6666666666666666,\"#ed7953\"],[0.7777777777777778,\"#fb9f3a\"],[0.8888888888888888,\"#fdca26\"],[1.0,\"#f0f921\"]],\"sequentialminus\":[[0.0,\"#0d0887\"],[0.1111111111111111,\"#46039f\"],[0.2222222222222222,\"#7201a8\"],[0.3333333333333333,\"#9c179e\"],[0.4444444444444444,\"#bd3786\"],[0.5555555555555556,\"#d8576b\"],[0.6666666666666666,\"#ed7953\"],[0.7777777777777778,\"#fb9f3a\"],[0.8888888888888888,\"#fdca26\"],[1.0,\"#f0f921\"]]},\"colorway\":[\"#636efa\",\"#EF553B\",\"#00cc96\",\"#ab63fa\",\"#FFA15A\",\"#19d3f3\",\"#FF6692\",\"#B6E880\",\"#FF97FF\",\"#FECB52\"],\"font\":{\"color\":\"#2a3f5f\"},\"geo\":{\"bgcolor\":\"white\",\"lakecolor\":\"white\",\"landcolor\":\"#E5ECF6\",\"showlakes\":true,\"showland\":true,\"subunitcolor\":\"white\"},\"hoverlabel\":{\"align\":\"left\"},\"hovermode\":\"closest\",\"mapbox\":{\"style\":\"light\"},\"paper_bgcolor\":\"white\",\"plot_bgcolor\":\"#E5ECF6\",\"polar\":{\"angularaxis\":{\"gridcolor\":\"white\",\"linecolor\":\"white\",\"ticks\":\"\"},\"bgcolor\":\"#E5ECF6\",\"radialaxis\":{\"gridcolor\":\"white\",\"linecolor\":\"white\",\"ticks\":\"\"}},\"scene\":{\"xaxis\":{\"backgroundcolor\":\"#E5ECF6\",\"gridcolor\":\"white\",\"gridwidth\":2,\"linecolor\":\"white\",\"showbackground\":true,\"ticks\":\"\",\"zerolinecolor\":\"white\"},\"yaxis\":{\"backgroundcolor\":\"#E5ECF6\",\"gridcolor\":\"white\",\"gridwidth\":2,\"linecolor\":\"white\",\"showbackground\":true,\"ticks\":\"\",\"zerolinecolor\":\"white\"},\"zaxis\":{\"backgroundcolor\":\"#E5ECF6\",\"gridcolor\":\"white\",\"gridwidth\":2,\"linecolor\":\"white\",\"showbackground\":true,\"ticks\":\"\",\"zerolinecolor\":\"white\"}},\"shapedefaults\":{\"line\":{\"color\":\"#2a3f5f\"}},\"ternary\":{\"aaxis\":{\"gridcolor\":\"white\",\"linecolor\":\"white\",\"ticks\":\"\"},\"baxis\":{\"gridcolor\":\"white\",\"linecolor\":\"white\",\"ticks\":\"\"},\"bgcolor\":\"#E5ECF6\",\"caxis\":{\"gridcolor\":\"white\",\"linecolor\":\"white\",\"ticks\":\"\"}},\"title\":{\"x\":0.05},\"xaxis\":{\"automargin\":true,\"gridcolor\":\"white\",\"linecolor\":\"white\",\"ticks\":\"\",\"title\":{\"standoff\":15},\"zerolinecolor\":\"white\",\"zerolinewidth\":2},\"yaxis\":{\"automargin\":true,\"gridcolor\":\"white\",\"linecolor\":\"white\",\"ticks\":\"\",\"title\":{\"standoff\":15},\"zerolinecolor\":\"white\",\"zerolinewidth\":2}}},\"geo\":{\"domain\":{\"x\":[0.0,1.0],\"y\":[0.0,1.0]},\"center\":{}},\"legend\":{\"tracegroupgap\":0},\"margin\":{\"t\":60},\"title\":{\"text\":\"Significant Windmills Location\",\"x\":1}},                        {\"responsive\": true}                    ).then(function(){\n",
              "                            \n",
              "var gd = document.getElementById('db0a4668-e7f0-4191-bca6-a1dd5d179be4');\n",
              "var x = new MutationObserver(function (mutations, observer) {{\n",
              "        var display = window.getComputedStyle(gd).display;\n",
              "        if (!display || display === 'none') {{\n",
              "            console.log([gd, 'removed!']);\n",
              "            Plotly.purge(gd);\n",
              "            observer.disconnect();\n",
              "        }}\n",
              "}});\n",
              "\n",
              "// Listen for the removal of the full notebook cells\n",
              "var notebookContainer = gd.closest('#notebook-container');\n",
              "if (notebookContainer) {{\n",
              "    x.observe(notebookContainer, {childList: true});\n",
              "}}\n",
              "\n",
              "// Listen for the clearing of the current output cell\n",
              "var outputEl = gd.closest('.output');\n",
              "if (outputEl) {{\n",
              "    x.observe(outputEl, {childList: true});\n",
              "}}\n",
              "\n",
              "                        })                };                            </script>        </div>\n",
              "</body>\n",
              "</html>"
            ]
          },
          "metadata": {}
        }
      ]
    },
    {
      "cell_type": "markdown",
      "source": [
        "Exploratory Data Analytics and Visualizations"
      ],
      "metadata": {
        "id": "g9_vf7lyBKcU"
      }
    },
    {
      "cell_type": "code",
      "source": [
        "import plotly.graph_objects as go"
      ],
      "metadata": {
        "id": "Q1zq0ekG2qBu"
      },
      "execution_count": 62,
      "outputs": []
    },
    {
      "cell_type": "markdown",
      "source": [
        "Checking Null Years in dataset"
      ],
      "metadata": {
        "id": "lCSr_UxbCD5r"
      }
    },
    {
      "cell_type": "code",
      "source": [
        "df['Year of Delivery Start Date'].isnull().sum()"
      ],
      "metadata": {
        "colab": {
          "base_uri": "https://localhost:8080/"
        },
        "id": "m8IChJ6vCHF1",
        "outputId": "a4ae7b47-bc05-4b1e-9028-e64b3b8f83db"
      },
      "execution_count": 96,
      "outputs": [
        {
          "output_type": "execute_result",
          "data": {
            "text/plain": [
              "15"
            ]
          },
          "metadata": {},
          "execution_count": 96
        }
      ]
    },
    {
      "cell_type": "code",
      "source": [
        "#Treating NAN year to be the year to have the mean year as their value\n",
        "\n",
        "round(df['Year of Delivery Start Date'].mean(),0)\n",
        "\n"
      ],
      "metadata": {
        "colab": {
          "base_uri": "https://localhost:8080/"
        },
        "id": "5K-yo2DqBQSz",
        "outputId": "256ed180-9331-4470-ad5e-5d24f130ebdd"
      },
      "execution_count": 94,
      "outputs": [
        {
          "output_type": "execute_result",
          "data": {
            "text/plain": [
              "2019.0"
            ]
          },
          "metadata": {},
          "execution_count": 94
        }
      ]
    },
    {
      "cell_type": "code",
      "source": [
        "df['Year of Delivery Start Date'].fillna(round(df['Year of Delivery Start Date'].mean(),0),inplace=True)"
      ],
      "metadata": {
        "id": "ZEBkUIzvCPB6"
      },
      "execution_count": 104,
      "outputs": []
    },
    {
      "cell_type": "code",
      "source": [
        "df['Year of Delivery Start Date'].isnull().sum()\n"
      ],
      "metadata": {
        "colab": {
          "base_uri": "https://localhost:8080/"
        },
        "id": "MRobCR4mCmSu",
        "outputId": "b3d4dd57-b5bb-4f04-d9af-658fbba7a4f3"
      },
      "execution_count": 105,
      "outputs": [
        {
          "output_type": "execute_result",
          "data": {
            "text/plain": [
              "0"
            ]
          },
          "metadata": {},
          "execution_count": 105
        }
      ]
    },
    {
      "cell_type": "code",
      "source": [
        "scl = [0,\"rgb(0,177,64)\"],[1,\"rgb(255, 0, 0)\"]\n",
        "\n",
        "fig = go.Figure(data=go.Scattergeo(\n",
        "    lat = df['latitude'],\n",
        "    lon = df['longitude'],\n",
        "    text = df['Year of Delivery Start Date'].astype(str) + ' year',\n",
        "    marker = dict(\n",
        "        color = df['Year of Delivery Start Date'],\n",
        "        colorscale = scl,\n",
        "        reversescale = True,\n",
        "        opacity = 0.5,\n",
        "        size = 5,\n",
        "        colorbar = dict(\n",
        "            titleside = \"right\",\n",
        "            outlinecolor = \"rgba(68, 68, 68, 0)\",\n",
        "            ticks = \"outside\",\n",
        "            showticksuffix = \"last\",\n",
        "            dtick = 0.1\n",
        "        )\n",
        "    )\n",
        "))\n",
        "\n",
        "fig.update_layout(\n",
        "    geo = dict(\n",
        "        scope = 'north america',\n",
        "        showland = True,\n",
        "        landcolor = \"rgb(212, 212, 212)\",\n",
        "        subunitcolor = \"rgb(255, 255, 255)\",\n",
        "        countrycolor = \"rgb(255, 255, 255)\",\n",
        "        showlakes = True,\n",
        "        lakecolor = \"rgb(255, 255, 255)\",\n",
        "        showsubunits = True,\n",
        "        showcountries = True,\n",
        "        resolution = 50,\n",
        "        projection = dict(\n",
        "            type = 'natural earth',\n",
        "            rotation_lon = -100\n",
        "        ),\n",
        "        lonaxis = dict(\n",
        "            showgrid = True,\n",
        "            gridwidth = 0.5,\n",
        "            range= [ -140.0, -55.0 ],\n",
        "            dtick = 5\n",
        "        ),\n",
        "        lataxis = dict (\n",
        "            showgrid = True,\n",
        "            gridwidth = 0.5,\n",
        "            range= [ 10.0, 60.0 ],\n",
        "            dtick = 10\n",
        "\n",
        "        )\n",
        "    ),\n",
        "    title='US New York City Windmills with Installation Year',\n",
        ")\n",
        "fig.show()\n"
      ],
      "metadata": {
        "colab": {
          "base_uri": "https://localhost:8080/",
          "height": 542
        },
        "id": "onwW0Dpi8L9Z",
        "outputId": "4f26deea-6fcf-49b7-8067-0a3d7d346b9b"
      },
      "execution_count": 116,
      "outputs": [
        {
          "output_type": "display_data",
          "data": {
            "text/html": [
              "<html>\n",
              "<head><meta charset=\"utf-8\" /></head>\n",
              "<body>\n",
              "    <div>            <script src=\"https://cdnjs.cloudflare.com/ajax/libs/mathjax/2.7.5/MathJax.js?config=TeX-AMS-MML_SVG\"></script><script type=\"text/javascript\">if (window.MathJax) {MathJax.Hub.Config({SVG: {font: \"STIX-Web\"}});}</script>                <script type=\"text/javascript\">window.PlotlyConfig = {MathJaxConfig: 'local'};</script>\n",
              "        <script src=\"https://cdn.plot.ly/plotly-2.8.3.min.js\"></script>                <div id=\"32cb3c62-37fc-4456-a3eb-6e0f6f30ff93\" class=\"plotly-graph-div\" style=\"height:525px; width:100%;\"></div>            <script type=\"text/javascript\">                                    window.PLOTLYENV=window.PLOTLYENV || {};                                    if (document.getElementById(\"32cb3c62-37fc-4456-a3eb-6e0f6f30ff93\")) {                    Plotly.newPlot(                        \"32cb3c62-37fc-4456-a3eb-6e0f6f30ff93\",                        [{\"lat\":[\"42.731213\",\"42.826929\",\"43.469339\",\"43.979234\",\"43.469339\",\"44.901726\",\"43.232126\",\"42.864272\",\"43.798604\",\"41.078061\",\"2.806462)\",\"43.097845\",\"43.977155\",\"43.808485\",\"43.188019\",\"43.097845\",\"43.152959\",\"43.256199\",\"43.125063\",\"44.966166\",\"43.977155\",\"44.423334\",\"42.572191\",\"42.05757)\",\"42.52668)\",\"43.324957\",\"43.944401\",\"43.324957\",\"43.163267\",\"44.309723\",\"42.92408)\",\"43.213788\",\"2.23975)\",\"42.674217\",\"2.897125)\",\"42.674217\",\"2.897125)\",\"41.683748\",\"43.256199\",\"42.886234\",\"43.256199\",\"42.931823\",\"42.576404\",\"42.088748\",\"43.977155\",\"43.157671\",\"42.942451\",\"1.489649)\",\"43.857953\",\"42.855499\",\"42.376918\",\"42.698994\",\"42.588691\",\"42.418802\",\"44.194059\",\"42.982885\",\".58107)\",\"43.157671\",\"42.065354\",\"42.42155)\",\"3.079847)\",\"43.635657\",null,null,null,\"42.443738\",null,\"42.916667\",\"42.931823\",\"43.023495\",\"42.560839\",\"42.855499\",\"42.26358)\",\"42.956396\",\"43.097845\",\"42.376146\",\"1.435735)\",\"42.69988)\",\"43.030313\",\"42.545755\",\"42.347068\",\"42.347068\",\"42.347068\",\"2.168727)\",\"43.099707\",\"42.347068\",\"42.943297\",\"42.572191\",\"42.490952\",\"42.490952\",\"42.523492\",\"43.635657\",\"43.635657\",\"40.759522\",\"42.081318\",\"41.263165\",\"42.767469\",\"42.775785\",\"42.937079\",\"43.077354\",\"42.911888\",\"2.374999)\",\"43.05166)\",\"44.936118\",\"43.798604\",\"42.490952\",\"42.818699\",\"42.818699\",\"42.155039\",\"42.336124\",\"42.392018\",\".560629)\",\"42.943297\",\"42.698994\",null,\"42.836052\",\"44.936118\",\"2.421916)\",\"44.901726\",\"42.850322\",\"42.778874\",\"43.248755\",\"42.746809\",\"43.060591\",\"42.961921\",\"43.08415)\",\"43.050515\",\"44.652305\",\"43.060591\",\"43.060591\",\"42.731213\",\"42.931823\",\"42.974187\",\"42.942451\",\"42.111474\",\"42.961018\",\"42.850322\",\"43.143375\",\"42.479528\",\"2.976176)\",\"42.426847\",\"42.252408\",null,\"43.09392)\",\"44.947617\",\"42.740132\",\"42.252408\",\"40.06181)\",\"42.847993\",\"42.252408\",\"42.134002\",\"40.6039)\",\"43.798604\",\"44.866712\",\"42.580583\",\"44.901726\",\"44.696049\",\"42.490952\",\"44.465018\",\"44.519843\",\"44.213924\",\"4.36701)\",\"43.250373\",\"44.65525)\",\"44.213924\",\"4.36701)\",\"43.944401\",\"4.831433)\",\"4.36701)\",\"4.831433)\",\"44.751294\",\"43.324957\",\"4.831433)\",\"43.944401\",null,\"44.250826\",\"42.490952\",\"43.335343\",\"44.947617\",\"42.778683\",\"43.250373\",\"42.712719\",\"42.490952\",\"42.490952\",\"42.916667\",\"42.623963\",\"42.376918\",\"43.944401\",\"41.589636\",\"42.712719\",\"44.465018\",\"42.088748\",\"43.842547\",\"3.183538)\",\"42.341217\",\"3.183538)\",\"2.822179)\",\"42.727885\",\"42.911888\",\"43.250373\",\"44.099526\",\"44.696049\",\"40.052705\",\"42.818699\",\"42.134002\",\"42.92408)\",\"41.058021\",\"0.726729)\",\"42.35201)\",\"2.939661)\",\"42.523492\",\"1.489649)\",\"0.906831)\",\"43.319879\",\"43.635657\",\"42.667807\",\"44.901726\",\"43.635657\",\"43.635657\",\"44.7036)\",\"43.09392)\",\"42.523492\",\"42.684294\",\"43.247901\",\"43.163267\",\"41.032718\",\"41.032718\",\"40.507933\"],\"lon\":[\"-78.004538\",\"-76.659767\",\"-75.112193\",\"-75.608418\",\"-75.112193\",\"-74.063438\",\"-78.208094\",\"-74.581925\",\"-75.472278\",\"-73.855087\",\"-76.12834 \",\"-73.500001\",\"-75.916148\",\"-76.053889\",\"-73.693309\",\"-73.500001\",\"-74.240928\",\"-73.579351\",\"-75.202584\",\"-74.481796\",\"-75.916148\",\"-75.381331\",\"-78.391547\",\"-77.686829\",\"-79.167766\",\"-76.390481\",\"-75.295135\",\"-76.390481\",\"-76.340674\",\"-75.252752\",\"-76.558936\",\"-78.377874\",\"-79.69825 \",\"-76.543317\",\"-74.36742 \",\"-76.543317\",\"-74.36742 \",\"-74.177103\",\"-73.579351\",\"-73.359533\",\"-73.579351\",\"-73.601518\",\"-76.555392\",\"-79.250031\",\"-75.916148\",\"-78.693851\",\"-74.664768\",\"-74.80524 \",\"-73.463484\",\"-74.130156\",\"-73.758588\",\"-77.876071\",\"-76.185061\",\"-77.708227\",\"-75.949271\",\"-75.066909\",\"-75.1409 4\",\"-78.693851\",\"-75.643747\",\"-75.483493\",\"-78.27821 \",\"-75.342375\",null,null,null,\"-76.497069\",null,\"-73.722451\",\"-73.601518\",\"-74.394891\",\"-75.934148\",\"-74.130156\",\"-75.821814\",\"-74.387602\",\"-73.500001\",\"-73.868846\",\"-74.73056 \",\"-74.510607\",\"-74.628407\",\"-73.816841\",\"-73.839872\",\"-73.839872\",\"-73.839872\",\"-73.65143 \",\"-78.163949\",\"-73.839872\",\"-77.838265\",\"-78.391547\",\"-77.496964\",\"-77.496964\",\"-77.293814\",\"-75.342375\",\"-75.342375\",\"-73.990194\",\"-73.990029\",\"-74.365461\",\"-74.093608\",\"-74.589047\",\"-74.182795\",\"-78.069443\",\"-76.876553\",\"-76.93086 \",\"-76.654213\",\"-74.870625\",\"-75.472278\",\"-77.496964\",\"-78.818268\",\"-78.818268\",\"-77.780137\",\"-78.426855\",\"-78.533893\",\"-77.4702 4\",\"-77.838265\",\"-77.876071\",null,\"-78.749996\",\"-74.870625\",\"-79.33618 \",\"-74.063438\",\"-74.463741\",\"-76.565785\",\"-75.848762\",\"-76.664773\",\"-74.847449\",\"-77.143807\",\"-75.514002\",\"-75.115762\",\"-75.506864\",\"-74.847449\",\"-74.847449\",\"-78.004538\",\"-73.601518\",\"-74.250388\",\"-74.664768\",\"-76.252877\",\"-75.484019\",\"-74.463741\",\"-75.578144\",\"-79.318146\",\"-78.07635 \",\"-73.887159\",\"-77.560624\",null,\"-78.961364\",\"-73.955217\",\"-78.167436\",\"-77.560624\",\"-75.401557\",\"-76.996769\",\"-77.560624\",\"-77.507424\",\"-75.468937\",\"-75.472278\",\"-73.652501\",\"-78.246347\",\"-74.063438\",\"-73.587536\",\"-77.496964\",\"-73.741216\",\"-74.523479\",\"-75.091488\",\"-74.83126 \",\"-73.862657\",\"-74.932432\",\"-75.091488\",\"-74.83126 \",\"-75.295135\",\"-74.96406 \",\"-74.83126 \",\"-74.96406 \",\"-74.988091\",\"-76.390481\",\"-74.96406 \",\"-75.295135\",null,\"-74.655601\",\"-77.496964\",\"-73.676867\",\"-73.955217\",\"-73.719474\",\"-73.862657\",\"-73.824203\",\"-77.496964\",\"-77.496964\",\"-73.722451\",\"-78.179486\",\"-73.758588\",\"-75.295135\",\"-73.892917\",\"-73.824203\",\"-73.741216\",\"-79.250031\",\"-75.885698\",\"-74.96782 \",\"-77.993317\",\"-74.96782 \",\"-77.12893 \",\"-78.431089\",\"-76.876553\",\"-73.862657\",\"-75.676266\",\"-73.587536\",\"-77.494279\",\"-78.818268\",\"-77.507424\",\"-76.558936\",\"-73.816463\",\"-73.86152 \",\"-76.607292\",\"-75.83303 \",\"-77.293814\",\"-74.80524 \",\"-73.83589 \",\"-78.720222\",\"-75.342375\",\"-74.296222\",\"-74.063438\",\"-75.342375\",\"-75.342375\",\"-74.086646\",\"-78.961364\",\"-77.293814\",\"-76.956294\",\"-79.015825\",\"-76.340674\",\"-73.764824\",\"-73.764824\",\"-74.242305\"],\"marker\":{\"color\":[2024.0,2022.0,2022.0,2016.0,2018.0,2022.0,2023.0,2024.0,2022.0,2018.0,2023.0,2024.0,2024.0,2024.0,2026.0,2024.0,2026.0,2025.0,2026.0,2026.0,2025.0,2027.0,2025.0,2023.0,2023.0,2018.0,2016.0,2018.0,2021.0,2021.0,2018.0,2024.0,2025.0,2025.0,2025.0,2026.0,2026.0,2019.0,2025.0,2025.0,2025.0,2025.0,2026.0,2025.0,2016.0,2025.0,2019.0,2020.0,2024.0,2024.0,2024.0,2023.0,2024.0,2024.0,2025.0,2026.0,2026.0,2025.0,2022.0,2022.0,2024.0,2021.0,2026.0,2028.0,2027.0,2019.0,2027.0,2020.0,2022.0,2022.0,2022.0,2022.0,2022.0,2022.0,2022.0,2023.0,2023.0,2023.0,2023.0,2023.0,2023.0,2023.0,2022.0,2024.0,2024.0,2024.0,2024.0,2019.0,2023.0,2025.0,2024.0,2019.0,2019.0,2016.0,2021.0,2020.0,2023.0,2023.0,2022.0,2023.0,2023.0,2023.0,2023.0,2024.0,2021.0,2021.0,2021.0,2021.0,2025.0,2024.0,2024.0,2025.0,2025.0,2025.0,2026.0,2017.0,2025.0,2020.0,2019.0,2024.0,2023.0,2023.0,2023.0,2023.0,2024.0,2024.0,2023.0,2024.0,2024.0,2024.0,2024.0,2024.0,2024.0,2026.0,2024.0,2025.0,2026.0,2025.0,2025.0,2025.0,2022.0,2012.0,2026.0,2019.0,2012.0,2014.0,2013.0,2012.0,2013.0,2013.0,2014.0,2006.0,2006.0,2009.0,2008.0,2009.0,2008.0,2009.0,2021.0,2013.0,2006.0,2006.0,2006.0,2008.0,2008.0,2008.0,2008.0,2008.0,2008.0,2008.0,2008.0,2008.0,2008.0,2009.0,2009.0,2009.0,2009.0,2009.0,2008.0,2011.0,2011.0,2011.0,2009.0,2009.0,2011.0,2009.0,2013.0,2011.0,2011.0,2012.0,2011.0,2011.0,2011.0,2011.0,2011.0,2011.0,2011.0,2012.0,2011.0,2013.0,2013.0,2012.0,2012.0,2012.0,2019.0,2014.0,2015.0,2015.0,2019.0,2019.0,2019.0,2014.0,2015.0,2016.0,2019.0,2019.0,2006.0,2008.0,2015.0,2019.0,2008.0,2019.0,2009.0,2011.0,2011.0,2019.0,2019.0,2019.0],\"colorbar\":{\"dtick\":0.1,\"outlinecolor\":\"rgba(68, 68, 68, 0)\",\"showticksuffix\":\"last\",\"ticks\":\"outside\",\"title\":{\"side\":\"right\"}},\"colorscale\":[[0,\"rgb(0,177,64)\"],[1,\"rgb(255, 0, 0)\"]],\"opacity\":0.5,\"reversescale\":true,\"size\":5},\"text\":[\"2024.0 year\",\"2022.0 year\",\"2022.0 year\",\"2016.0 year\",\"2018.0 year\",\"2022.0 year\",\"2023.0 year\",\"2024.0 year\",\"2022.0 year\",\"2018.0 year\",\"2023.0 year\",\"2024.0 year\",\"2024.0 year\",\"2024.0 year\",\"2026.0 year\",\"2024.0 year\",\"2026.0 year\",\"2025.0 year\",\"2026.0 year\",\"2026.0 year\",\"2025.0 year\",\"2027.0 year\",\"2025.0 year\",\"2023.0 year\",\"2023.0 year\",\"2018.0 year\",\"2016.0 year\",\"2018.0 year\",\"2021.0 year\",\"2021.0 year\",\"2018.0 year\",\"2024.0 year\",\"2025.0 year\",\"2025.0 year\",\"2025.0 year\",\"2026.0 year\",\"2026.0 year\",\"2019.0 year\",\"2025.0 year\",\"2025.0 year\",\"2025.0 year\",\"2025.0 year\",\"2026.0 year\",\"2025.0 year\",\"2016.0 year\",\"2025.0 year\",\"2019.0 year\",\"2020.0 year\",\"2024.0 year\",\"2024.0 year\",\"2024.0 year\",\"2023.0 year\",\"2024.0 year\",\"2024.0 year\",\"2025.0 year\",\"2026.0 year\",\"2026.0 year\",\"2025.0 year\",\"2022.0 year\",\"2022.0 year\",\"2024.0 year\",\"2021.0 year\",\"2026.0 year\",\"2028.0 year\",\"2027.0 year\",\"2019.0 year\",\"2027.0 year\",\"2020.0 year\",\"2022.0 year\",\"2022.0 year\",\"2022.0 year\",\"2022.0 year\",\"2022.0 year\",\"2022.0 year\",\"2022.0 year\",\"2023.0 year\",\"2023.0 year\",\"2023.0 year\",\"2023.0 year\",\"2023.0 year\",\"2023.0 year\",\"2023.0 year\",\"2022.0 year\",\"2024.0 year\",\"2024.0 year\",\"2024.0 year\",\"2024.0 year\",\"2019.0 year\",\"2023.0 year\",\"2025.0 year\",\"2024.0 year\",\"2019.0 year\",\"2019.0 year\",\"2016.0 year\",\"2021.0 year\",\"2020.0 year\",\"2023.0 year\",\"2023.0 year\",\"2022.0 year\",\"2023.0 year\",\"2023.0 year\",\"2023.0 year\",\"2023.0 year\",\"2024.0 year\",\"2021.0 year\",\"2021.0 year\",\"2021.0 year\",\"2021.0 year\",\"2025.0 year\",\"2024.0 year\",\"2024.0 year\",\"2025.0 year\",\"2025.0 year\",\"2025.0 year\",\"2026.0 year\",\"2017.0 year\",\"2025.0 year\",\"2020.0 year\",\"2019.0 year\",\"2024.0 year\",\"2023.0 year\",\"2023.0 year\",\"2023.0 year\",\"2023.0 year\",\"2024.0 year\",\"2024.0 year\",\"2023.0 year\",\"2024.0 year\",\"2024.0 year\",\"2024.0 year\",\"2024.0 year\",\"2024.0 year\",\"2024.0 year\",\"2026.0 year\",\"2024.0 year\",\"2025.0 year\",\"2026.0 year\",\"2025.0 year\",\"2025.0 year\",\"2025.0 year\",\"2022.0 year\",\"2012.0 year\",\"2026.0 year\",\"2019.0 year\",\"2012.0 year\",\"2014.0 year\",\"2013.0 year\",\"2012.0 year\",\"2013.0 year\",\"2013.0 year\",\"2014.0 year\",\"2006.0 year\",\"2006.0 year\",\"2009.0 year\",\"2008.0 year\",\"2009.0 year\",\"2008.0 year\",\"2009.0 year\",\"2021.0 year\",\"2013.0 year\",\"2006.0 year\",\"2006.0 year\",\"2006.0 year\",\"2008.0 year\",\"2008.0 year\",\"2008.0 year\",\"2008.0 year\",\"2008.0 year\",\"2008.0 year\",\"2008.0 year\",\"2008.0 year\",\"2008.0 year\",\"2008.0 year\",\"2009.0 year\",\"2009.0 year\",\"2009.0 year\",\"2009.0 year\",\"2009.0 year\",\"2008.0 year\",\"2011.0 year\",\"2011.0 year\",\"2011.0 year\",\"2009.0 year\",\"2009.0 year\",\"2011.0 year\",\"2009.0 year\",\"2013.0 year\",\"2011.0 year\",\"2011.0 year\",\"2012.0 year\",\"2011.0 year\",\"2011.0 year\",\"2011.0 year\",\"2011.0 year\",\"2011.0 year\",\"2011.0 year\",\"2011.0 year\",\"2012.0 year\",\"2011.0 year\",\"2013.0 year\",\"2013.0 year\",\"2012.0 year\",\"2012.0 year\",\"2012.0 year\",\"2019.0 year\",\"2014.0 year\",\"2015.0 year\",\"2015.0 year\",\"2019.0 year\",\"2019.0 year\",\"2019.0 year\",\"2014.0 year\",\"2015.0 year\",\"2016.0 year\",\"2019.0 year\",\"2019.0 year\",\"2006.0 year\",\"2008.0 year\",\"2015.0 year\",\"2019.0 year\",\"2008.0 year\",\"2019.0 year\",\"2009.0 year\",\"2011.0 year\",\"2011.0 year\",\"2019.0 year\",\"2019.0 year\",\"2019.0 year\"],\"type\":\"scattergeo\"}],                        {\"template\":{\"data\":{\"bar\":[{\"error_x\":{\"color\":\"#2a3f5f\"},\"error_y\":{\"color\":\"#2a3f5f\"},\"marker\":{\"line\":{\"color\":\"#E5ECF6\",\"width\":0.5},\"pattern\":{\"fillmode\":\"overlay\",\"size\":10,\"solidity\":0.2}},\"type\":\"bar\"}],\"barpolar\":[{\"marker\":{\"line\":{\"color\":\"#E5ECF6\",\"width\":0.5},\"pattern\":{\"fillmode\":\"overlay\",\"size\":10,\"solidity\":0.2}},\"type\":\"barpolar\"}],\"carpet\":[{\"aaxis\":{\"endlinecolor\":\"#2a3f5f\",\"gridcolor\":\"white\",\"linecolor\":\"white\",\"minorgridcolor\":\"white\",\"startlinecolor\":\"#2a3f5f\"},\"baxis\":{\"endlinecolor\":\"#2a3f5f\",\"gridcolor\":\"white\",\"linecolor\":\"white\",\"minorgridcolor\":\"white\",\"startlinecolor\":\"#2a3f5f\"},\"type\":\"carpet\"}],\"choropleth\":[{\"colorbar\":{\"outlinewidth\":0,\"ticks\":\"\"},\"type\":\"choropleth\"}],\"contour\":[{\"colorbar\":{\"outlinewidth\":0,\"ticks\":\"\"},\"colorscale\":[[0.0,\"#0d0887\"],[0.1111111111111111,\"#46039f\"],[0.2222222222222222,\"#7201a8\"],[0.3333333333333333,\"#9c179e\"],[0.4444444444444444,\"#bd3786\"],[0.5555555555555556,\"#d8576b\"],[0.6666666666666666,\"#ed7953\"],[0.7777777777777778,\"#fb9f3a\"],[0.8888888888888888,\"#fdca26\"],[1.0,\"#f0f921\"]],\"type\":\"contour\"}],\"contourcarpet\":[{\"colorbar\":{\"outlinewidth\":0,\"ticks\":\"\"},\"type\":\"contourcarpet\"}],\"heatmap\":[{\"colorbar\":{\"outlinewidth\":0,\"ticks\":\"\"},\"colorscale\":[[0.0,\"#0d0887\"],[0.1111111111111111,\"#46039f\"],[0.2222222222222222,\"#7201a8\"],[0.3333333333333333,\"#9c179e\"],[0.4444444444444444,\"#bd3786\"],[0.5555555555555556,\"#d8576b\"],[0.6666666666666666,\"#ed7953\"],[0.7777777777777778,\"#fb9f3a\"],[0.8888888888888888,\"#fdca26\"],[1.0,\"#f0f921\"]],\"type\":\"heatmap\"}],\"heatmapgl\":[{\"colorbar\":{\"outlinewidth\":0,\"ticks\":\"\"},\"colorscale\":[[0.0,\"#0d0887\"],[0.1111111111111111,\"#46039f\"],[0.2222222222222222,\"#7201a8\"],[0.3333333333333333,\"#9c179e\"],[0.4444444444444444,\"#bd3786\"],[0.5555555555555556,\"#d8576b\"],[0.6666666666666666,\"#ed7953\"],[0.7777777777777778,\"#fb9f3a\"],[0.8888888888888888,\"#fdca26\"],[1.0,\"#f0f921\"]],\"type\":\"heatmapgl\"}],\"histogram\":[{\"marker\":{\"pattern\":{\"fillmode\":\"overlay\",\"size\":10,\"solidity\":0.2}},\"type\":\"histogram\"}],\"histogram2d\":[{\"colorbar\":{\"outlinewidth\":0,\"ticks\":\"\"},\"colorscale\":[[0.0,\"#0d0887\"],[0.1111111111111111,\"#46039f\"],[0.2222222222222222,\"#7201a8\"],[0.3333333333333333,\"#9c179e\"],[0.4444444444444444,\"#bd3786\"],[0.5555555555555556,\"#d8576b\"],[0.6666666666666666,\"#ed7953\"],[0.7777777777777778,\"#fb9f3a\"],[0.8888888888888888,\"#fdca26\"],[1.0,\"#f0f921\"]],\"type\":\"histogram2d\"}],\"histogram2dcontour\":[{\"colorbar\":{\"outlinewidth\":0,\"ticks\":\"\"},\"colorscale\":[[0.0,\"#0d0887\"],[0.1111111111111111,\"#46039f\"],[0.2222222222222222,\"#7201a8\"],[0.3333333333333333,\"#9c179e\"],[0.4444444444444444,\"#bd3786\"],[0.5555555555555556,\"#d8576b\"],[0.6666666666666666,\"#ed7953\"],[0.7777777777777778,\"#fb9f3a\"],[0.8888888888888888,\"#fdca26\"],[1.0,\"#f0f921\"]],\"type\":\"histogram2dcontour\"}],\"mesh3d\":[{\"colorbar\":{\"outlinewidth\":0,\"ticks\":\"\"},\"type\":\"mesh3d\"}],\"parcoords\":[{\"line\":{\"colorbar\":{\"outlinewidth\":0,\"ticks\":\"\"}},\"type\":\"parcoords\"}],\"pie\":[{\"automargin\":true,\"type\":\"pie\"}],\"scatter\":[{\"marker\":{\"colorbar\":{\"outlinewidth\":0,\"ticks\":\"\"}},\"type\":\"scatter\"}],\"scatter3d\":[{\"line\":{\"colorbar\":{\"outlinewidth\":0,\"ticks\":\"\"}},\"marker\":{\"colorbar\":{\"outlinewidth\":0,\"ticks\":\"\"}},\"type\":\"scatter3d\"}],\"scattercarpet\":[{\"marker\":{\"colorbar\":{\"outlinewidth\":0,\"ticks\":\"\"}},\"type\":\"scattercarpet\"}],\"scattergeo\":[{\"marker\":{\"colorbar\":{\"outlinewidth\":0,\"ticks\":\"\"}},\"type\":\"scattergeo\"}],\"scattergl\":[{\"marker\":{\"colorbar\":{\"outlinewidth\":0,\"ticks\":\"\"}},\"type\":\"scattergl\"}],\"scattermapbox\":[{\"marker\":{\"colorbar\":{\"outlinewidth\":0,\"ticks\":\"\"}},\"type\":\"scattermapbox\"}],\"scatterpolar\":[{\"marker\":{\"colorbar\":{\"outlinewidth\":0,\"ticks\":\"\"}},\"type\":\"scatterpolar\"}],\"scatterpolargl\":[{\"marker\":{\"colorbar\":{\"outlinewidth\":0,\"ticks\":\"\"}},\"type\":\"scatterpolargl\"}],\"scatterternary\":[{\"marker\":{\"colorbar\":{\"outlinewidth\":0,\"ticks\":\"\"}},\"type\":\"scatterternary\"}],\"surface\":[{\"colorbar\":{\"outlinewidth\":0,\"ticks\":\"\"},\"colorscale\":[[0.0,\"#0d0887\"],[0.1111111111111111,\"#46039f\"],[0.2222222222222222,\"#7201a8\"],[0.3333333333333333,\"#9c179e\"],[0.4444444444444444,\"#bd3786\"],[0.5555555555555556,\"#d8576b\"],[0.6666666666666666,\"#ed7953\"],[0.7777777777777778,\"#fb9f3a\"],[0.8888888888888888,\"#fdca26\"],[1.0,\"#f0f921\"]],\"type\":\"surface\"}],\"table\":[{\"cells\":{\"fill\":{\"color\":\"#EBF0F8\"},\"line\":{\"color\":\"white\"}},\"header\":{\"fill\":{\"color\":\"#C8D4E3\"},\"line\":{\"color\":\"white\"}},\"type\":\"table\"}]},\"layout\":{\"annotationdefaults\":{\"arrowcolor\":\"#2a3f5f\",\"arrowhead\":0,\"arrowwidth\":1},\"autotypenumbers\":\"strict\",\"coloraxis\":{\"colorbar\":{\"outlinewidth\":0,\"ticks\":\"\"}},\"colorscale\":{\"diverging\":[[0,\"#8e0152\"],[0.1,\"#c51b7d\"],[0.2,\"#de77ae\"],[0.3,\"#f1b6da\"],[0.4,\"#fde0ef\"],[0.5,\"#f7f7f7\"],[0.6,\"#e6f5d0\"],[0.7,\"#b8e186\"],[0.8,\"#7fbc41\"],[0.9,\"#4d9221\"],[1,\"#276419\"]],\"sequential\":[[0.0,\"#0d0887\"],[0.1111111111111111,\"#46039f\"],[0.2222222222222222,\"#7201a8\"],[0.3333333333333333,\"#9c179e\"],[0.4444444444444444,\"#bd3786\"],[0.5555555555555556,\"#d8576b\"],[0.6666666666666666,\"#ed7953\"],[0.7777777777777778,\"#fb9f3a\"],[0.8888888888888888,\"#fdca26\"],[1.0,\"#f0f921\"]],\"sequentialminus\":[[0.0,\"#0d0887\"],[0.1111111111111111,\"#46039f\"],[0.2222222222222222,\"#7201a8\"],[0.3333333333333333,\"#9c179e\"],[0.4444444444444444,\"#bd3786\"],[0.5555555555555556,\"#d8576b\"],[0.6666666666666666,\"#ed7953\"],[0.7777777777777778,\"#fb9f3a\"],[0.8888888888888888,\"#fdca26\"],[1.0,\"#f0f921\"]]},\"colorway\":[\"#636efa\",\"#EF553B\",\"#00cc96\",\"#ab63fa\",\"#FFA15A\",\"#19d3f3\",\"#FF6692\",\"#B6E880\",\"#FF97FF\",\"#FECB52\"],\"font\":{\"color\":\"#2a3f5f\"},\"geo\":{\"bgcolor\":\"white\",\"lakecolor\":\"white\",\"landcolor\":\"#E5ECF6\",\"showlakes\":true,\"showland\":true,\"subunitcolor\":\"white\"},\"hoverlabel\":{\"align\":\"left\"},\"hovermode\":\"closest\",\"mapbox\":{\"style\":\"light\"},\"paper_bgcolor\":\"white\",\"plot_bgcolor\":\"#E5ECF6\",\"polar\":{\"angularaxis\":{\"gridcolor\":\"white\",\"linecolor\":\"white\",\"ticks\":\"\"},\"bgcolor\":\"#E5ECF6\",\"radialaxis\":{\"gridcolor\":\"white\",\"linecolor\":\"white\",\"ticks\":\"\"}},\"scene\":{\"xaxis\":{\"backgroundcolor\":\"#E5ECF6\",\"gridcolor\":\"white\",\"gridwidth\":2,\"linecolor\":\"white\",\"showbackground\":true,\"ticks\":\"\",\"zerolinecolor\":\"white\"},\"yaxis\":{\"backgroundcolor\":\"#E5ECF6\",\"gridcolor\":\"white\",\"gridwidth\":2,\"linecolor\":\"white\",\"showbackground\":true,\"ticks\":\"\",\"zerolinecolor\":\"white\"},\"zaxis\":{\"backgroundcolor\":\"#E5ECF6\",\"gridcolor\":\"white\",\"gridwidth\":2,\"linecolor\":\"white\",\"showbackground\":true,\"ticks\":\"\",\"zerolinecolor\":\"white\"}},\"shapedefaults\":{\"line\":{\"color\":\"#2a3f5f\"}},\"ternary\":{\"aaxis\":{\"gridcolor\":\"white\",\"linecolor\":\"white\",\"ticks\":\"\"},\"baxis\":{\"gridcolor\":\"white\",\"linecolor\":\"white\",\"ticks\":\"\"},\"bgcolor\":\"#E5ECF6\",\"caxis\":{\"gridcolor\":\"white\",\"linecolor\":\"white\",\"ticks\":\"\"}},\"title\":{\"x\":0.05},\"xaxis\":{\"automargin\":true,\"gridcolor\":\"white\",\"linecolor\":\"white\",\"ticks\":\"\",\"title\":{\"standoff\":15},\"zerolinecolor\":\"white\",\"zerolinewidth\":2},\"yaxis\":{\"automargin\":true,\"gridcolor\":\"white\",\"linecolor\":\"white\",\"ticks\":\"\",\"title\":{\"standoff\":15},\"zerolinecolor\":\"white\",\"zerolinewidth\":2}}},\"geo\":{\"projection\":{\"rotation\":{\"lon\":-100},\"type\":\"natural earth\"},\"lonaxis\":{\"showgrid\":true,\"gridwidth\":0.5,\"range\":[-140.0,-55.0],\"dtick\":5},\"lataxis\":{\"showgrid\":true,\"gridwidth\":0.5,\"range\":[10.0,60.0],\"dtick\":10},\"scope\":\"north america\",\"showland\":true,\"landcolor\":\"rgb(212, 212, 212)\",\"subunitcolor\":\"rgb(255, 255, 255)\",\"countrycolor\":\"rgb(255, 255, 255)\",\"showlakes\":true,\"lakecolor\":\"rgb(255, 255, 255)\",\"showsubunits\":true,\"showcountries\":true,\"resolution\":50},\"title\":{\"text\":\"US New York City Windmills with Installation Year\"}},                        {\"responsive\": true}                    ).then(function(){\n",
              "                            \n",
              "var gd = document.getElementById('32cb3c62-37fc-4456-a3eb-6e0f6f30ff93');\n",
              "var x = new MutationObserver(function (mutations, observer) {{\n",
              "        var display = window.getComputedStyle(gd).display;\n",
              "        if (!display || display === 'none') {{\n",
              "            console.log([gd, 'removed!']);\n",
              "            Plotly.purge(gd);\n",
              "            observer.disconnect();\n",
              "        }}\n",
              "}});\n",
              "\n",
              "// Listen for the removal of the full notebook cells\n",
              "var notebookContainer = gd.closest('#notebook-container');\n",
              "if (notebookContainer) {{\n",
              "    x.observe(notebookContainer, {childList: true});\n",
              "}}\n",
              "\n",
              "// Listen for the clearing of the current output cell\n",
              "var outputEl = gd.closest('.output');\n",
              "if (outputEl) {{\n",
              "    x.observe(outputEl, {childList: true});\n",
              "}}\n",
              "\n",
              "                        })                };                            </script>        </div>\n",
              "</body>\n",
              "</html>"
            ]
          },
          "metadata": {}
        }
      ]
    },
    {
      "cell_type": "markdown",
      "source": [
        "Life Span Based on Contract of the WindMill"
      ],
      "metadata": {
        "id": "8zYdHuXADUUE"
      }
    },
    {
      "cell_type": "code",
      "source": [
        "import plotly.express as px\n",
        "\n",
        "fig = px.bar(df, x=df['Year of Delivery Start Date'], y=df['Contract Duration'],\n",
        "             hover_data=['Year of Delivery Start Date', 'Contract Duration'], color='Contract Duration',\n",
        "             labels={'Year':'Contract Years'}, height=400)\n",
        "fig.show()"
      ],
      "metadata": {
        "colab": {
          "base_uri": "https://localhost:8080/",
          "height": 417
        },
        "id": "iE7zy2R19xQ1",
        "outputId": "63211ecb-bbeb-4ee6-8b0a-714ba4f24c41"
      },
      "execution_count": 115,
      "outputs": [
        {
          "output_type": "display_data",
          "data": {
            "text/html": [
              "<html>\n",
              "<head><meta charset=\"utf-8\" /></head>\n",
              "<body>\n",
              "    <div>            <script src=\"https://cdnjs.cloudflare.com/ajax/libs/mathjax/2.7.5/MathJax.js?config=TeX-AMS-MML_SVG\"></script><script type=\"text/javascript\">if (window.MathJax) {MathJax.Hub.Config({SVG: {font: \"STIX-Web\"}});}</script>                <script type=\"text/javascript\">window.PlotlyConfig = {MathJaxConfig: 'local'};</script>\n",
              "        <script src=\"https://cdn.plot.ly/plotly-2.8.3.min.js\"></script>                <div id=\"68ca298d-f48d-45da-a2ff-977cf16df58c\" class=\"plotly-graph-div\" style=\"height:400px; width:100%;\"></div>            <script type=\"text/javascript\">                                    window.PLOTLYENV=window.PLOTLYENV || {};                                    if (document.getElementById(\"68ca298d-f48d-45da-a2ff-977cf16df58c\")) {                    Plotly.newPlot(                        \"68ca298d-f48d-45da-a2ff-977cf16df58c\",                        [{\"alignmentgroup\":\"True\",\"hovertemplate\":\"Year of Delivery Start Date=%{x}<br>Contract Duration=%{marker.color}<extra></extra>\",\"legendgroup\":\"\",\"marker\":{\"color\":[20,20,3,20,3,20,20,20,20,20,20,20,20,20,20,20,20,20,20,20,20,20,20,20,20,20,19,20,3,3,20,20,20,20,20,20,20,20,20,20,20,20,20,20,20,20,20,20,20,20,20,20,20,20,20,20,20,20,20,20,20,3,25,25,25,3,25,20,20,20,20,20,20,20,20,20,20,20,20,20,20,20,20,20,20,20,20,20,20,20,20,20,3,20,20,20,20,20,20,20,20,20,20,20,20,20,20,20,20,20,20,20,20,20,25,10,20,20,20,20,20,20,20,20,20,20,20,20,20,20,20,20,20,20,20,20,20,20,20,20,20,10,25,10,10,10,10,10,10,10,10,4,10,10,10,10,10,10,3,10,1,1,10,10,10,10,10,10,10,10,10,10,10,10,10,10,10,10,10,10,10,10,10,10,10,10,10,10,10,10,10,10,10,10,10,10,10,10,10,10,10,10,10,10,20,10,10,10,10,10,10,10,10,19,20,20,10,7,3,10,10,10,3,10,10,10,10,20],\"coloraxis\":\"coloraxis\",\"pattern\":{\"shape\":\"\"}},\"name\":\"\",\"offsetgroup\":\"\",\"orientation\":\"v\",\"showlegend\":false,\"textposition\":\"auto\",\"x\":[2024.0,2022.0,2022.0,2016.0,2018.0,2022.0,2023.0,2024.0,2022.0,2018.0,2023.0,2024.0,2024.0,2024.0,2026.0,2024.0,2026.0,2025.0,2026.0,2026.0,2025.0,2027.0,2025.0,2023.0,2023.0,2018.0,2016.0,2018.0,2021.0,2021.0,2018.0,2024.0,2025.0,2025.0,2025.0,2026.0,2026.0,2019.0,2025.0,2025.0,2025.0,2025.0,2026.0,2025.0,2016.0,2025.0,2019.0,2020.0,2024.0,2024.0,2024.0,2023.0,2024.0,2024.0,2025.0,2026.0,2026.0,2025.0,2022.0,2022.0,2024.0,2021.0,2026.0,2028.0,2027.0,2019.0,2027.0,2020.0,2022.0,2022.0,2022.0,2022.0,2022.0,2022.0,2022.0,2023.0,2023.0,2023.0,2023.0,2023.0,2023.0,2023.0,2022.0,2024.0,2024.0,2024.0,2024.0,2019.0,2023.0,2025.0,2024.0,2019.0,2019.0,2016.0,2021.0,2020.0,2023.0,2023.0,2022.0,2023.0,2023.0,2023.0,2023.0,2024.0,2021.0,2021.0,2021.0,2021.0,2025.0,2024.0,2024.0,2025.0,2025.0,2025.0,2026.0,2017.0,2025.0,2020.0,2019.0,2024.0,2023.0,2023.0,2023.0,2023.0,2024.0,2024.0,2023.0,2024.0,2024.0,2024.0,2024.0,2024.0,2024.0,2026.0,2024.0,2025.0,2026.0,2025.0,2025.0,2025.0,2022.0,2012.0,2026.0,2019.0,2012.0,2014.0,2013.0,2012.0,2013.0,2013.0,2014.0,2006.0,2006.0,2009.0,2008.0,2009.0,2008.0,2009.0,2021.0,2013.0,2006.0,2006.0,2006.0,2008.0,2008.0,2008.0,2008.0,2008.0,2008.0,2008.0,2008.0,2008.0,2008.0,2009.0,2009.0,2009.0,2009.0,2009.0,2008.0,2011.0,2011.0,2011.0,2009.0,2009.0,2011.0,2009.0,2013.0,2011.0,2011.0,2012.0,2011.0,2011.0,2011.0,2011.0,2011.0,2011.0,2011.0,2012.0,2011.0,2013.0,2013.0,2012.0,2012.0,2012.0,2019.0,2014.0,2015.0,2015.0,2019.0,2019.0,2019.0,2014.0,2015.0,2016.0,2019.0,2019.0,2006.0,2008.0,2015.0,2019.0,2008.0,2019.0,2009.0,2011.0,2011.0,2019.0,2019.0,2019.0],\"xaxis\":\"x\",\"y\":[20,20,3,20,3,20,20,20,20,20,20,20,20,20,20,20,20,20,20,20,20,20,20,20,20,20,19,20,3,3,20,20,20,20,20,20,20,20,20,20,20,20,20,20,20,20,20,20,20,20,20,20,20,20,20,20,20,20,20,20,20,3,25,25,25,3,25,20,20,20,20,20,20,20,20,20,20,20,20,20,20,20,20,20,20,20,20,20,20,20,20,20,3,20,20,20,20,20,20,20,20,20,20,20,20,20,20,20,20,20,20,20,20,20,25,10,20,20,20,20,20,20,20,20,20,20,20,20,20,20,20,20,20,20,20,20,20,20,20,20,20,10,25,10,10,10,10,10,10,10,10,4,10,10,10,10,10,10,3,10,1,1,10,10,10,10,10,10,10,10,10,10,10,10,10,10,10,10,10,10,10,10,10,10,10,10,10,10,10,10,10,10,10,10,10,10,10,10,10,10,10,10,10,10,20,10,10,10,10,10,10,10,10,19,20,20,10,7,3,10,10,10,3,10,10,10,10,20],\"yaxis\":\"y\",\"type\":\"bar\"}],                        {\"template\":{\"data\":{\"bar\":[{\"error_x\":{\"color\":\"#2a3f5f\"},\"error_y\":{\"color\":\"#2a3f5f\"},\"marker\":{\"line\":{\"color\":\"#E5ECF6\",\"width\":0.5},\"pattern\":{\"fillmode\":\"overlay\",\"size\":10,\"solidity\":0.2}},\"type\":\"bar\"}],\"barpolar\":[{\"marker\":{\"line\":{\"color\":\"#E5ECF6\",\"width\":0.5},\"pattern\":{\"fillmode\":\"overlay\",\"size\":10,\"solidity\":0.2}},\"type\":\"barpolar\"}],\"carpet\":[{\"aaxis\":{\"endlinecolor\":\"#2a3f5f\",\"gridcolor\":\"white\",\"linecolor\":\"white\",\"minorgridcolor\":\"white\",\"startlinecolor\":\"#2a3f5f\"},\"baxis\":{\"endlinecolor\":\"#2a3f5f\",\"gridcolor\":\"white\",\"linecolor\":\"white\",\"minorgridcolor\":\"white\",\"startlinecolor\":\"#2a3f5f\"},\"type\":\"carpet\"}],\"choropleth\":[{\"colorbar\":{\"outlinewidth\":0,\"ticks\":\"\"},\"type\":\"choropleth\"}],\"contour\":[{\"colorbar\":{\"outlinewidth\":0,\"ticks\":\"\"},\"colorscale\":[[0.0,\"#0d0887\"],[0.1111111111111111,\"#46039f\"],[0.2222222222222222,\"#7201a8\"],[0.3333333333333333,\"#9c179e\"],[0.4444444444444444,\"#bd3786\"],[0.5555555555555556,\"#d8576b\"],[0.6666666666666666,\"#ed7953\"],[0.7777777777777778,\"#fb9f3a\"],[0.8888888888888888,\"#fdca26\"],[1.0,\"#f0f921\"]],\"type\":\"contour\"}],\"contourcarpet\":[{\"colorbar\":{\"outlinewidth\":0,\"ticks\":\"\"},\"type\":\"contourcarpet\"}],\"heatmap\":[{\"colorbar\":{\"outlinewidth\":0,\"ticks\":\"\"},\"colorscale\":[[0.0,\"#0d0887\"],[0.1111111111111111,\"#46039f\"],[0.2222222222222222,\"#7201a8\"],[0.3333333333333333,\"#9c179e\"],[0.4444444444444444,\"#bd3786\"],[0.5555555555555556,\"#d8576b\"],[0.6666666666666666,\"#ed7953\"],[0.7777777777777778,\"#fb9f3a\"],[0.8888888888888888,\"#fdca26\"],[1.0,\"#f0f921\"]],\"type\":\"heatmap\"}],\"heatmapgl\":[{\"colorbar\":{\"outlinewidth\":0,\"ticks\":\"\"},\"colorscale\":[[0.0,\"#0d0887\"],[0.1111111111111111,\"#46039f\"],[0.2222222222222222,\"#7201a8\"],[0.3333333333333333,\"#9c179e\"],[0.4444444444444444,\"#bd3786\"],[0.5555555555555556,\"#d8576b\"],[0.6666666666666666,\"#ed7953\"],[0.7777777777777778,\"#fb9f3a\"],[0.8888888888888888,\"#fdca26\"],[1.0,\"#f0f921\"]],\"type\":\"heatmapgl\"}],\"histogram\":[{\"marker\":{\"pattern\":{\"fillmode\":\"overlay\",\"size\":10,\"solidity\":0.2}},\"type\":\"histogram\"}],\"histogram2d\":[{\"colorbar\":{\"outlinewidth\":0,\"ticks\":\"\"},\"colorscale\":[[0.0,\"#0d0887\"],[0.1111111111111111,\"#46039f\"],[0.2222222222222222,\"#7201a8\"],[0.3333333333333333,\"#9c179e\"],[0.4444444444444444,\"#bd3786\"],[0.5555555555555556,\"#d8576b\"],[0.6666666666666666,\"#ed7953\"],[0.7777777777777778,\"#fb9f3a\"],[0.8888888888888888,\"#fdca26\"],[1.0,\"#f0f921\"]],\"type\":\"histogram2d\"}],\"histogram2dcontour\":[{\"colorbar\":{\"outlinewidth\":0,\"ticks\":\"\"},\"colorscale\":[[0.0,\"#0d0887\"],[0.1111111111111111,\"#46039f\"],[0.2222222222222222,\"#7201a8\"],[0.3333333333333333,\"#9c179e\"],[0.4444444444444444,\"#bd3786\"],[0.5555555555555556,\"#d8576b\"],[0.6666666666666666,\"#ed7953\"],[0.7777777777777778,\"#fb9f3a\"],[0.8888888888888888,\"#fdca26\"],[1.0,\"#f0f921\"]],\"type\":\"histogram2dcontour\"}],\"mesh3d\":[{\"colorbar\":{\"outlinewidth\":0,\"ticks\":\"\"},\"type\":\"mesh3d\"}],\"parcoords\":[{\"line\":{\"colorbar\":{\"outlinewidth\":0,\"ticks\":\"\"}},\"type\":\"parcoords\"}],\"pie\":[{\"automargin\":true,\"type\":\"pie\"}],\"scatter\":[{\"marker\":{\"colorbar\":{\"outlinewidth\":0,\"ticks\":\"\"}},\"type\":\"scatter\"}],\"scatter3d\":[{\"line\":{\"colorbar\":{\"outlinewidth\":0,\"ticks\":\"\"}},\"marker\":{\"colorbar\":{\"outlinewidth\":0,\"ticks\":\"\"}},\"type\":\"scatter3d\"}],\"scattercarpet\":[{\"marker\":{\"colorbar\":{\"outlinewidth\":0,\"ticks\":\"\"}},\"type\":\"scattercarpet\"}],\"scattergeo\":[{\"marker\":{\"colorbar\":{\"outlinewidth\":0,\"ticks\":\"\"}},\"type\":\"scattergeo\"}],\"scattergl\":[{\"marker\":{\"colorbar\":{\"outlinewidth\":0,\"ticks\":\"\"}},\"type\":\"scattergl\"}],\"scattermapbox\":[{\"marker\":{\"colorbar\":{\"outlinewidth\":0,\"ticks\":\"\"}},\"type\":\"scattermapbox\"}],\"scatterpolar\":[{\"marker\":{\"colorbar\":{\"outlinewidth\":0,\"ticks\":\"\"}},\"type\":\"scatterpolar\"}],\"scatterpolargl\":[{\"marker\":{\"colorbar\":{\"outlinewidth\":0,\"ticks\":\"\"}},\"type\":\"scatterpolargl\"}],\"scatterternary\":[{\"marker\":{\"colorbar\":{\"outlinewidth\":0,\"ticks\":\"\"}},\"type\":\"scatterternary\"}],\"surface\":[{\"colorbar\":{\"outlinewidth\":0,\"ticks\":\"\"},\"colorscale\":[[0.0,\"#0d0887\"],[0.1111111111111111,\"#46039f\"],[0.2222222222222222,\"#7201a8\"],[0.3333333333333333,\"#9c179e\"],[0.4444444444444444,\"#bd3786\"],[0.5555555555555556,\"#d8576b\"],[0.6666666666666666,\"#ed7953\"],[0.7777777777777778,\"#fb9f3a\"],[0.8888888888888888,\"#fdca26\"],[1.0,\"#f0f921\"]],\"type\":\"surface\"}],\"table\":[{\"cells\":{\"fill\":{\"color\":\"#EBF0F8\"},\"line\":{\"color\":\"white\"}},\"header\":{\"fill\":{\"color\":\"#C8D4E3\"},\"line\":{\"color\":\"white\"}},\"type\":\"table\"}]},\"layout\":{\"annotationdefaults\":{\"arrowcolor\":\"#2a3f5f\",\"arrowhead\":0,\"arrowwidth\":1},\"autotypenumbers\":\"strict\",\"coloraxis\":{\"colorbar\":{\"outlinewidth\":0,\"ticks\":\"\"}},\"colorscale\":{\"diverging\":[[0,\"#8e0152\"],[0.1,\"#c51b7d\"],[0.2,\"#de77ae\"],[0.3,\"#f1b6da\"],[0.4,\"#fde0ef\"],[0.5,\"#f7f7f7\"],[0.6,\"#e6f5d0\"],[0.7,\"#b8e186\"],[0.8,\"#7fbc41\"],[0.9,\"#4d9221\"],[1,\"#276419\"]],\"sequential\":[[0.0,\"#0d0887\"],[0.1111111111111111,\"#46039f\"],[0.2222222222222222,\"#7201a8\"],[0.3333333333333333,\"#9c179e\"],[0.4444444444444444,\"#bd3786\"],[0.5555555555555556,\"#d8576b\"],[0.6666666666666666,\"#ed7953\"],[0.7777777777777778,\"#fb9f3a\"],[0.8888888888888888,\"#fdca26\"],[1.0,\"#f0f921\"]],\"sequentialminus\":[[0.0,\"#0d0887\"],[0.1111111111111111,\"#46039f\"],[0.2222222222222222,\"#7201a8\"],[0.3333333333333333,\"#9c179e\"],[0.4444444444444444,\"#bd3786\"],[0.5555555555555556,\"#d8576b\"],[0.6666666666666666,\"#ed7953\"],[0.7777777777777778,\"#fb9f3a\"],[0.8888888888888888,\"#fdca26\"],[1.0,\"#f0f921\"]]},\"colorway\":[\"#636efa\",\"#EF553B\",\"#00cc96\",\"#ab63fa\",\"#FFA15A\",\"#19d3f3\",\"#FF6692\",\"#B6E880\",\"#FF97FF\",\"#FECB52\"],\"font\":{\"color\":\"#2a3f5f\"},\"geo\":{\"bgcolor\":\"white\",\"lakecolor\":\"white\",\"landcolor\":\"#E5ECF6\",\"showlakes\":true,\"showland\":true,\"subunitcolor\":\"white\"},\"hoverlabel\":{\"align\":\"left\"},\"hovermode\":\"closest\",\"mapbox\":{\"style\":\"light\"},\"paper_bgcolor\":\"white\",\"plot_bgcolor\":\"#E5ECF6\",\"polar\":{\"angularaxis\":{\"gridcolor\":\"white\",\"linecolor\":\"white\",\"ticks\":\"\"},\"bgcolor\":\"#E5ECF6\",\"radialaxis\":{\"gridcolor\":\"white\",\"linecolor\":\"white\",\"ticks\":\"\"}},\"scene\":{\"xaxis\":{\"backgroundcolor\":\"#E5ECF6\",\"gridcolor\":\"white\",\"gridwidth\":2,\"linecolor\":\"white\",\"showbackground\":true,\"ticks\":\"\",\"zerolinecolor\":\"white\"},\"yaxis\":{\"backgroundcolor\":\"#E5ECF6\",\"gridcolor\":\"white\",\"gridwidth\":2,\"linecolor\":\"white\",\"showbackground\":true,\"ticks\":\"\",\"zerolinecolor\":\"white\"},\"zaxis\":{\"backgroundcolor\":\"#E5ECF6\",\"gridcolor\":\"white\",\"gridwidth\":2,\"linecolor\":\"white\",\"showbackground\":true,\"ticks\":\"\",\"zerolinecolor\":\"white\"}},\"shapedefaults\":{\"line\":{\"color\":\"#2a3f5f\"}},\"ternary\":{\"aaxis\":{\"gridcolor\":\"white\",\"linecolor\":\"white\",\"ticks\":\"\"},\"baxis\":{\"gridcolor\":\"white\",\"linecolor\":\"white\",\"ticks\":\"\"},\"bgcolor\":\"#E5ECF6\",\"caxis\":{\"gridcolor\":\"white\",\"linecolor\":\"white\",\"ticks\":\"\"}},\"title\":{\"x\":0.05},\"xaxis\":{\"automargin\":true,\"gridcolor\":\"white\",\"linecolor\":\"white\",\"ticks\":\"\",\"title\":{\"standoff\":15},\"zerolinecolor\":\"white\",\"zerolinewidth\":2},\"yaxis\":{\"automargin\":true,\"gridcolor\":\"white\",\"linecolor\":\"white\",\"ticks\":\"\",\"title\":{\"standoff\":15},\"zerolinecolor\":\"white\",\"zerolinewidth\":2}}},\"xaxis\":{\"anchor\":\"y\",\"domain\":[0.0,1.0],\"title\":{\"text\":\"Year of Delivery Start Date\"}},\"yaxis\":{\"anchor\":\"x\",\"domain\":[0.0,1.0],\"title\":{\"text\":\"Contract Duration\"}},\"coloraxis\":{\"colorbar\":{\"title\":{\"text\":\"Contract Duration\"}},\"colorscale\":[[0.0,\"#0d0887\"],[0.1111111111111111,\"#46039f\"],[0.2222222222222222,\"#7201a8\"],[0.3333333333333333,\"#9c179e\"],[0.4444444444444444,\"#bd3786\"],[0.5555555555555556,\"#d8576b\"],[0.6666666666666666,\"#ed7953\"],[0.7777777777777778,\"#fb9f3a\"],[0.8888888888888888,\"#fdca26\"],[1.0,\"#f0f921\"]]},\"legend\":{\"tracegroupgap\":0},\"margin\":{\"t\":60},\"barmode\":\"relative\",\"height\":400},                        {\"responsive\": true}                    ).then(function(){\n",
              "                            \n",
              "var gd = document.getElementById('68ca298d-f48d-45da-a2ff-977cf16df58c');\n",
              "var x = new MutationObserver(function (mutations, observer) {{\n",
              "        var display = window.getComputedStyle(gd).display;\n",
              "        if (!display || display === 'none') {{\n",
              "            console.log([gd, 'removed!']);\n",
              "            Plotly.purge(gd);\n",
              "            observer.disconnect();\n",
              "        }}\n",
              "}});\n",
              "\n",
              "// Listen for the removal of the full notebook cells\n",
              "var notebookContainer = gd.closest('#notebook-container');\n",
              "if (notebookContainer) {{\n",
              "    x.observe(notebookContainer, {childList: true});\n",
              "}}\n",
              "\n",
              "// Listen for the clearing of the current output cell\n",
              "var outputEl = gd.closest('.output');\n",
              "if (outputEl) {{\n",
              "    x.observe(outputEl, {childList: true});\n",
              "}}\n",
              "\n",
              "                        })                };                            </script>        </div>\n",
              "</body>\n",
              "</html>"
            ]
          },
          "metadata": {}
        }
      ]
    },
    {
      "cell_type": "code",
      "source": [],
      "metadata": {
        "id": "-3llsOCjC49I"
      },
      "execution_count": null,
      "outputs": []
    }
  ]
}